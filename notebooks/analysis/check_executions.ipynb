{
 "cells": [
  {
   "cell_type": "code",
   "execution_count": 1,
   "metadata": {},
   "outputs": [],
   "source": [
    "import os"
   ]
  },
  {
   "cell_type": "code",
   "execution_count": 2,
   "metadata": {},
   "outputs": [
    {
     "name": "stdout",
     "output_type": "stream",
     "text": [
      "/home/jovyan/notebooks/analysis\n"
     ]
    }
   ],
   "source": [
    "!pwd"
   ]
  },
  {
   "cell_type": "code",
   "execution_count": 3,
   "metadata": {},
   "outputs": [],
   "source": [
    "import sys\n",
    "sys.path.append('/home/jovyan/')"
   ]
  },
  {
   "cell_type": "code",
   "execution_count": 4,
   "metadata": {},
   "outputs": [],
   "source": [
    "from experiments.reporting.report_repository import ReportRepository\n",
    "from experiments.slack_client import SlackNotifier\n",
    "from neat.neat_logger import get_neat_logger\n",
    "from neat.population_engine import EvolutionEngine\n",
    "from neat.reporting.reports_pyneat import EvolutionReport\n",
    "from neat.utils import timeit\n",
    "import math\n",
    "import random\n",
    "from itertools import count\n",
    "import numpy as np\n",
    "\n",
    "from experiments.logger import logger\n",
    "from experiments.slack_client import Notifier\n",
    "from experiments.object_repository.object_repository import ObjectRepository\n",
    "from experiments.reporting.report_repository import ReportPathFactory\n",
    "from neat.configuration import get_configuration\n",
    "from neat.evaluation.evaluation_engine import EvaluationStochasticEngine\n",
    "from neat.evolution_operators.crossover import Crossover\n",
    "from neat.evolution_operators.mutation import Mutation\n",
    "from neat.genome import Genome\n",
    "from neat.reporting.reports_pyneat import EvolutionReport\n",
    "from neat.species import SpeciationEngine\n",
    "from neat.stagnation import Stagnation\n",
    "from neat.population_engine import PopulationEngine\n",
    "from neat.utils import timeit\n",
    "import neat\n",
    "import tests\n",
    "from config_files.configuration_utils import create_configuration\n",
    "from neat.configuration import get_configuration, set_configuration\n",
    "from neat.evaluation.evaluation_engine import get_dataset\n",
    "from neat.evaluation.evaluate_simple import evaluate_genome, calculate_prediction_distribution\n",
    "from neat.genome import Genome\n",
    "from neat.evolution_operators.backprop_mutation import BackPropMutation\n",
    "import os\n",
    "from neat.loss.vi_loss import get_loss\n",
    "import torch\n",
    "import pandas as pd\n",
    "\n",
    "from sklearn.metrics import confusion_matrix, accuracy_score, f1_score, roc_curve"
   ]
  },
  {
   "cell_type": "code",
   "execution_count": 5,
   "metadata": {},
   "outputs": [],
   "source": [
    "import matplotlib.pyplot as plt\n",
    "import seaborn as sns"
   ]
  },
  {
   "cell_type": "code",
   "execution_count": 6,
   "metadata": {},
   "outputs": [],
   "source": [
    "from neat.analysis.experiment_data import ExperimentDataNE, ExperimentDataNAS\n",
    "from neat.analysis.uncertainty.predictive_distribution import PredictionDistributionEstimator\n",
    "from neat.analysis.plotting.plot_losses import plot_loss_distribution\n",
    "from neat.analysis.plotting.plot_classification_metrics import plot_metrics_by_quantile_several_executions\n",
    "from neat.analysis.experiment_predictive_distributions import ExecutionsPredictionDistributions\n",
    "from deep_learning.nas import ALGORITHM_VERSION as ALGORITHM_VERSION_NAS"
   ]
  },
  {
   "cell_type": "code",
   "execution_count": 7,
   "metadata": {},
   "outputs": [],
   "source": [
    "LOGS_PATH = f'{os.getcwd()}/'\n",
    "logger = get_neat_logger(path=LOGS_PATH)"
   ]
  },
  {
   "cell_type": "code",
   "execution_count": 8,
   "metadata": {},
   "outputs": [],
   "source": [
    "PROJECT = 'neuro-evolution'\n",
    "ALGORITHM_VERSION = 'bayes-neat'\n",
    "project_nas='nas'\n",
    "algorithm_version_nas ='nas'\n",
    "\n",
    "config_versions = {'NE': {'project': 'neuro-evolution',\n",
    "                         'algorithm_version': 'bayes-neat'},\n",
    "                  'NAS': {'project': 'nas',\n",
    "                         'algorithm_version': 'nas'}\n",
    "                  }\n",
    "\n",
    "# correlation_ids = [f'neat_ft_21_{DATASET}', f'bayesian_neat_ft_21_{DATASET}'] # final\n",
    "\n",
    "correlation_ids_map = {'iris': {\n",
    "#                                 'NE': [f'neat_ft_exp_iris', f'bayesian_neat_ft_exp_iris'],\n",
    "                                'NE': [f'neat_ft_21_iris', f'bayesian_neat_ft_21_iris'],\n",
    "                                'NAS': ['standard_nas_final_with_reps', 'bayesian_nas_final']},\n",
    "                       'titanic': {\n",
    "                                'NE': [f'neat_ft_22_final_titanic', f'bayesian_neat_ft_22_final_titanic'],\n",
    "                                'NAS': ['standard_nas_final_with_reps', 'bayesian_nas_final_new_layer']},\n",
    "                       'spambase': {\n",
    "                                'NE': [f'neat_ft_22_final_spambase', f'bayesian_neat_ft_22_final_spambase'],\n",
    "                                'NAS': ['standard_nas_final_with_reps', 'bayesian_nas_final_new_layer']},\n",
    "                       }\n",
    "                       \n",
    "                      \n",
    "\n",
    "# correlation_ids = [f'neat_ft_18_{DATASET}'] # All executions use random dataset-seed"
   ]
  },
  {
   "cell_type": "code",
   "execution_count": 10,
   "metadata": {},
   "outputs": [
    {
     "data": {
      "text/plain": [
       "['neat_ft_final_v1_label_noise_mnist_downsampled',\n",
       " 'bayesian_neat_ft_final_v1_mnist_downsampled',\n",
       " 'bayesian_neat_ft_18_mnist_downsampled',\n",
       " 'bayesian_neat_ft_22_debug_mnist_downsampled',\n",
       " 'neat_ft_1_mnist_downsampled',\n",
       " 'neat_ft_18_mnist_downsampled',\n",
       " 'bayesian_neat_ft_20_mnist_downsampled',\n",
       " 'tests_new_network_mnist_downsampled',\n",
       " 'bayesian_neat_ft_21_debug_mnist_downsampled',\n",
       " 'bayesian_neat_10_mnist_downsampled',\n",
       " 'neat_10_mnist_downsampled',\n",
       " 'neat_ft_17_mnist_downsampled',\n",
       " 'test',\n",
       " 'neat_1',\n",
       " 'bayesian_neat_ft_22_final_1_mnist_downsampled',\n",
       " 'bayesian_neat_ft_final_v1_5_classesmnist_downsampled',\n",
       " 'neat_ft_22_final_1_mnist_downsampled',\n",
       " 'test_6mnist_downsampled',\n",
       " 'bayesian_neat_1',\n",
       " 'neat_ft_final_v1_5_classesmnist_downsampled',\n",
       " 'bayesian_neat_ft_22_lenovo_final_1_mnist_downsampled',\n",
       " 'tests',\n",
       " 'neat_ft_final_v1_mnist_downsampled',\n",
       " 'bayesian_neat_ft_22_testing_mnist_downsampled',\n",
       " 'bayesian_neat_ft_17_mnist_downsampled',\n",
       " 'solve_binary',\n",
       " 'bayesian_neat_ft_22__mnist_downsampled',\n",
       " 'neat_9_mnist_downsampled']"
      ]
     },
     "execution_count": 10,
     "metadata": {},
     "output_type": "execute_result"
    }
   ],
   "source": [
    "version = 'NE'\n",
    "report_repository = ReportRepository.create(project=config_versions[version]['project'], logs_path=LOGS_PATH)\n",
    "list(report_repository.get_correlation_ids(algorithm_version=config_versions[version]['algorithm_version'], dataset='mnist_downsampled'))"
   ]
  },
  {
   "cell_type": "code",
   "execution_count": 10,
   "metadata": {},
   "outputs": [
    {
     "data": {
      "text/plain": [
       "3353"
      ]
     },
     "execution_count": 10,
     "metadata": {},
     "output_type": "execute_result"
    }
   ],
   "source": [
    "report_repository = ReportRepository.create(project=config_versions[version]['project'], logs_path=LOGS_PATH)\n",
    "len(list(report_repository.object_repository.tree('reports')))"
   ]
  },
  {
   "cell_type": "code",
   "execution_count": 36,
   "metadata": {},
   "outputs": [
    {
     "data": {
      "text/plain": [
       "55"
      ]
     },
     "metadata": {},
     "output_type": "display_data"
    }
   ],
   "source": [
    "executions = list(report_repository.get_executions(algorithm_version=config_versions[version]['algorithm_version'], dataset='breast_cancer', correlation_id='bayesian_neat_ft_20_breast_cancer'))\n",
    "display(len(executions))"
   ]
  },
  {
   "cell_type": "markdown",
   "metadata": {},
   "source": [
    "# NAS"
   ]
  },
  {
   "cell_type": "code",
   "execution_count": 30,
   "metadata": {},
   "outputs": [],
   "source": [
    "version = 'NAS'"
   ]
  },
  {
   "cell_type": "code",
   "execution_count": 31,
   "metadata": {},
   "outputs": [
    {
     "data": {
      "text/plain": [
       "['standard_nas_final', 'bayesian_nas_final']"
      ]
     },
     "execution_count": 31,
     "metadata": {},
     "output_type": "execute_result"
    }
   ],
   "source": [
    "report_repository = ReportRepository.create(project=config_versions[version]['project'], logs_path=LOGS_PATH)\n",
    "list(report_repository.get_correlation_ids(algorithm_version=config_versions[version]['algorithm_version'], dataset='breast_cancer'))"
   ]
  },
  {
   "cell_type": "code",
   "execution_count": 24,
   "metadata": {},
   "outputs": [
    {
     "data": {
      "text/plain": [
       "28"
      ]
     },
     "metadata": {},
     "output_type": "display_data"
    },
    {
     "data": {
      "text/plain": [
       "['033c10aa-7a3e-4dcf-bb59-cbb020b63986',\n",
       " '1f1ece0e-8198-4ace-b27e-fc35529a8d3f',\n",
       " '20de3188-e777-4bcd-9a81-a332bceb18dc',\n",
       " '25b4ba8e-c2b5-4716-97a0-8b06c9f74e77',\n",
       " '3170ef22-ac25-4908-bbd5-77f3f6d0aaab',\n",
       " '31cb365c-6816-47ca-a7e0-e842e035b5a2',\n",
       " '34fbfdbf-7eaf-4139-a67e-91fa6df8b697',\n",
       " '3d4421f4-8f0f-4a6b-ba9a-ab336565efe4',\n",
       " '5c6cb8d2-6c0b-4700-9789-7ba671d102d2',\n",
       " '5dad3265-d269-4bba-9fc6-e9fb4a558957',\n",
       " '6926843c-65f0-44a9-b31f-e02d6ca827ab',\n",
       " '6a9c1631-7246-4708-bdcb-988562cb8ae9',\n",
       " '83e727f7-f206-468c-bfc2-aeba0ed63ba1',\n",
       " '9dc13139-f836-4f23-a6ce-89e5abca4c00',\n",
       " 'a16bf166-f260-4eca-b6f5-4ed6fbb80c99',\n",
       " 'a29b55f2-703c-4574-903e-0ed1bb2645e9',\n",
       " 'aeeffd2b-6a05-46d4-b0ee-dc1511c7ede0',\n",
       " 'bf657bf3-3170-4692-a642-9b41d85e5557',\n",
       " 'bfa07892-6a5c-4f30-94f2-ab8774e96ef6',\n",
       " 'c8338403-cd92-4c11-871d-18707ecf5223',\n",
       " 'ce2e174c-9969-4ce1-aeb7-12f32dd49a56',\n",
       " 'd49625cb-cf68-4504-92bc-fb44f6bb04fb',\n",
       " 'd5bc3083-e951-4918-b791-e2c0cbb480ec',\n",
       " 'd73611c3-58c3-45a5-acb0-0855633d3bb9',\n",
       " 'dc8a948a-4172-4fd3-8179-db238edf05a9',\n",
       " 'e37b1f63-594c-47b2-a4a7-5f2c06a4d34b',\n",
       " 'e4c2123f-b8c9-40c9-b811-8a3f2017f036',\n",
       " 'fcb47240-3cd9-4ac4-ab72-ddf4a33f1ed6']"
      ]
     },
     "execution_count": 24,
     "metadata": {},
     "output_type": "execute_result"
    }
   ],
   "source": [
    "report_repository = ReportRepository.create(project=config_versions[version]['project'], logs_path=LOGS_PATH)\n",
    "executions = list(report_repository.get_executions(algorithm_version=config_versions[version]['algorithm_version'], dataset='titanic', correlation_id='bayesian_nas_final_new_layer'))\n",
    "display(len(executions))\n",
    "executions"
   ]
  },
  {
   "cell_type": "code",
   "execution_count": 39,
   "metadata": {},
   "outputs": [
    {
     "data": {
      "text/plain": [
       "10"
      ]
     },
     "metadata": {},
     "output_type": "display_data"
    },
    {
     "data": {
      "text/plain": [
       "['05a0bb77-b50a-42fa-8374-adc75b911beb',\n",
       " '21e471ec-5aef-4a7f-9eb0-c1ed854e3963',\n",
       " '292b93d0-b82a-48c6-86c2-d1617e921439',\n",
       " '37ab6688-dde4-4960-979f-58abc2864708',\n",
       " '78e825c4-7023-4e06-a20b-23d4d29004cf',\n",
       " '8ee02077-92aa-419d-81da-de6f285d33d8',\n",
       " '8ff16818-b7dd-42d4-b34e-c70adfcca961',\n",
       " '940f01cb-36c8-4fe7-9b04-dc756fbde98e',\n",
       " 'e3edbf25-0960-405a-a047-418b00d93ce2',\n",
       " 'ebec36cb-cbd8-4043-8c57-0298cb312406']"
      ]
     },
     "execution_count": 39,
     "metadata": {},
     "output_type": "execute_result"
    }
   ],
   "source": [
    "executions = list(report_repository.get_executions(algorithm_version=config_versions[version]['algorithm_version'], dataset='titanic', correlation_id='bayesian_neat_ft_22_final_titanic'))\n",
    "display(len(executions))\n",
    "executions"
   ]
  }
 ],
 "metadata": {
  "kernelspec": {
   "display_name": "Python 3",
   "language": "python",
   "name": "python3"
  },
  "language_info": {
   "codemirror_mode": {
    "name": "ipython",
    "version": 3
   },
   "file_extension": ".py",
   "mimetype": "text/x-python",
   "name": "python",
   "nbconvert_exporter": "python",
   "pygments_lexer": "ipython3",
   "version": "3.7.6"
  }
 },
 "nbformat": 4,
 "nbformat_minor": 4
}
