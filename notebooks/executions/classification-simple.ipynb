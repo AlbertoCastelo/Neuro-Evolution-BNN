{
 "cells": [
  {
   "cell_type": "code",
   "execution_count": 1,
   "metadata": {},
   "outputs": [],
   "source": [
    "import os"
   ]
  },
  {
   "cell_type": "code",
   "execution_count": 2,
   "metadata": {},
   "outputs": [
    {
     "name": "stdout",
     "output_type": "stream",
     "text": [
      "/home/jovyan/notebooks/executions\n"
     ]
    }
   ],
   "source": [
    "!pwd"
   ]
  },
  {
   "cell_type": "code",
   "execution_count": 3,
   "metadata": {},
   "outputs": [],
   "source": [
    "import sys\n",
    "sys.path.append('/home/jovyan/')"
   ]
  },
  {
   "cell_type": "code",
   "execution_count": 4,
   "metadata": {},
   "outputs": [],
   "source": [
    "from experiments.reporting.report_repository import ReportRepository\n",
    "from experiments.slack_client import SlackNotifier\n",
    "from neat.neat_logger import get_neat_logger\n",
    "from neat.population_engine import EvolutionEngine\n",
    "from neat.reporting.reports_pyneat import EvolutionReport\n",
    "from neat.utils import timeit\n",
    "import math\n",
    "import random\n",
    "from itertools import count\n",
    "import numpy as np\n",
    "\n",
    "from experiments.logger import logger\n",
    "from experiments.slack_client import Notifier\n",
    "from neat.configuration import get_configuration\n",
    "from neat.evaluation.evaluation_engine import EvaluationStochasticEngine\n",
    "from neat.evolution_operators.crossover import Crossover\n",
    "from neat.evolution_operators.mutation import Mutation\n",
    "from neat.genome import Genome\n",
    "from neat.reporting.reports_pyneat import EvolutionReport\n",
    "from neat.species import SpeciationEngine\n",
    "from neat.stagnation import Stagnation\n",
    "from neat.population_engine import PopulationEngine\n",
    "from neat.utils import timeit\n",
    "import neat\n",
    "import tests\n",
    "from config_files.configuration_utils import create_configuration"
   ]
  },
  {
   "cell_type": "code",
   "execution_count": 5,
   "metadata": {},
   "outputs": [],
   "source": [
    "# dir(neat)"
   ]
  },
  {
   "cell_type": "code",
   "execution_count": 6,
   "metadata": {},
   "outputs": [],
   "source": [
    "LOGS_PATH = f'{os.getcwd()}/'\n",
    "logger = get_neat_logger(path=LOGS_PATH)"
   ]
  },
  {
   "cell_type": "markdown",
   "metadata": {},
   "source": [
    "### Configuration"
   ]
  },
  {
   "cell_type": "code",
   "execution_count": 7,
   "metadata": {},
   "outputs": [],
   "source": [
    "config_file = 'classification-miso'\n",
    "config = create_configuration(filename=f'/{config_file}.json')"
   ]
  },
  {
   "cell_type": "code",
   "execution_count": 9,
   "metadata": {},
   "outputs": [],
   "source": [
    "# TODO: better mechanism for override\n",
    "config.pop_size = 150\n",
    "# config.n_samples = 50\n",
    "#\n",
    "config.n_generations = 300\n",
    "config.node_add_prob = 0.5\n",
    "config.n_output = 2\n",
    "config.n_processes = 10\n",
    "\n",
    "\n",
    "ALGORITHM_VERSION = 'bayes-neat'\n",
    "DATASET = config_file\n",
    "# CORRELATION_ID = 'parameters_grid'\n",
    "CORRELATION_ID = 'test'"
   ]
  },
  {
   "cell_type": "code",
   "execution_count": 10,
   "metadata": {},
   "outputs": [],
   "source": [
    "report_repository = ReportRepository.create(project='neuro-evolution', logs_path=LOGS_PATH)\n",
    "notifier = SlackNotifier.create(channel='batch-jobs')"
   ]
  },
  {
   "cell_type": "code",
   "execution_count": 13,
   "metadata": {},
   "outputs": [
    {
     "data": {
      "text/plain": [
       "10"
      ]
     },
     "execution_count": 13,
     "metadata": {},
     "output_type": "execute_result"
    }
   ],
   "source": [
    "evaluation_engine.n_processes"
   ]
  },
  {
   "cell_type": "markdown",
   "metadata": {},
   "source": [
    "### Initialize"
   ]
  },
  {
   "cell_type": "code",
   "execution_count": 40,
   "metadata": {},
   "outputs": [],
   "source": [
    "report = EvolutionReport(report_repository=report_repository,\n",
    "                         algorithm_version=ALGORITHM_VERSION,\n",
    "                         dataset=DATASET,\n",
    "                         correlation_id=CORRELATION_ID)"
   ]
  },
  {
   "cell_type": "code",
   "execution_count": 41,
   "metadata": {},
   "outputs": [],
   "source": [
    "population_engine = PopulationEngine(stagnation_engine=Stagnation())\n",
    "speciation_engine = SpeciationEngine()\n",
    "evaluation_engine = EvaluationStochasticEngine()"
   ]
  },
  {
   "cell_type": "code",
   "execution_count": 42,
   "metadata": {},
   "outputs": [
    {
     "name": "stdout",
     "output_type": "stream",
     "text": [
      "2020-03-22 10:57:19,827 - INFO - Generation 0. Best fitness: -1.12. N-Parameters Best: 8\n",
      "2020-03-22 10:57:19,830 - INFO -                          Mean fitness: -1.783. Mean N-Parameters: 8.0\n",
      "2020-03-22 10:57:19,830 - INFO -     New best individual (77) found with fitness -1.12\n",
      "Confusion Matrix:\n",
      "[[129954 128546]\n",
      " [ 57939 183561]]\n",
      "Accuracy: 62.702999999999996 %\n"
     ]
    }
   ],
   "source": [
    "end_condition = 'normal'\n",
    "# try:\n",
    "# initialize population\n",
    "population = population_engine.initialize_population()\n",
    "speciation_engine.speciate(population, generation=0)\n",
    "\n",
    "population = evaluation_engine.evaluate(population=population)\n",
    "\n",
    "# report\n",
    "report.report_new_generation(generation=0,\n",
    "                                  population=population,\n",
    "                                  species=speciation_engine.species)"
   ]
  },
  {
   "cell_type": "code",
   "execution_count": 43,
   "metadata": {},
   "outputs": [],
   "source": [
    "def run_generation(generation, population):\n",
    "    \n",
    "    # create new generation's population\n",
    "    population = population_engine.reproduce(species=speciation_engine.species,\n",
    "                                             pop_size=population_engine.pop_size,\n",
    "                                             generation=generation)\n",
    "    # create new species based on new population\n",
    "    speciation_engine.speciate(population, generation=generation)\n",
    "\n",
    "    # evaluate\n",
    "    population = evaluation_engine.evaluate(population=population)\n",
    "\n",
    "    # generation report\n",
    "    report.report_new_generation(generation=generation,\n",
    "                                 population=population,\n",
    "                                 species=speciation_engine.species)\n",
    "    generation += 1\n",
    "    return population"
   ]
  },
  {
   "cell_type": "code",
   "execution_count": 49,
   "metadata": {},
   "outputs": [],
   "source": [
    "def show_species(species):\n",
    "    species_keys = list(species.keys())\n",
    "    representative_fitnesses = [round(specie.representative.fitness, 3) for specie in species.values()]\n",
    "    best_fitnesses = [round(specie.fitness, 3) for specie in species.values()]\n",
    "\n",
    "    n_genomes = [len(specie.members) for specie in species.values()]\n",
    "    \n",
    "    print(f'      keys: {species_keys}')\n",
    "    print(f'      representative fitnesses: {representative_fitnesses}')\n",
    "    print(f'      best fitness: {best_fitnesses}')\n",
    "    print(f'      n_members: {n_genomes}')"
   ]
  },
  {
   "cell_type": "code",
   "execution_count": 45,
   "metadata": {},
   "outputs": [],
   "source": [
    "generation = 0"
   ]
  },
  {
   "cell_type": "code",
   "execution_count": 46,
   "metadata": {},
   "outputs": [
    {
     "name": "stdout",
     "output_type": "stream",
     "text": [
      "2020-03-22 10:57:36,385 - INFO - Generation 1. Best fitness: -0.627. N-Parameters Best: 10\n",
      "2020-03-22 10:57:36,387 - INFO -                          Mean fitness: -1.504. Mean N-Parameters: 10.493\n",
      "2020-03-22 10:57:36,388 - INFO -     New best individual (161) found with fitness -0.627\n",
      "Confusion Matrix:\n",
      "[[187062  59438]\n",
      " [ 59545 193955]]\n",
      "Accuracy: 76.2034 %\n",
      "      keys: [1, 2]\n",
      "      fitnesses: [-2.222, -1.957]\n",
      "      n_members: [56, 94]\n",
      "2020-03-22 10:57:50,615 - INFO - Generation 2. Best fitness: -0.518. N-Parameters Best: 10\n",
      "2020-03-22 10:57:50,626 - INFO -                          Mean fitness: -1.243. Mean N-Parameters: 13.253\n",
      "2020-03-22 10:57:50,627 - INFO -     New best individual (414) found with fitness -0.518\n",
      "Confusion Matrix:\n",
      "[[195666  50234]\n",
      " [ 48500 205600]]\n",
      "Accuracy: 80.2532 %\n",
      "      keys: [1, 2]\n",
      "      fitnesses: [-1.126, -0.831]\n",
      "      n_members: [46, 104]\n",
      "2020-03-22 10:58:05,005 - INFO - Generation 3. Best fitness: -0.261. N-Parameters Best: 12\n",
      "2020-03-22 10:58:05,010 - INFO -                          Mean fitness: -1.041. Mean N-Parameters: 13.453\n",
      "2020-03-22 10:58:05,011 - INFO -     New best individual (512) found with fitness -0.261\n",
      "Confusion Matrix:\n",
      "[[218635  28365]\n",
      " [ 37864 215136]]\n",
      "Accuracy: 86.7542 %\n",
      "      keys: [1, 2]\n",
      "      fitnesses: [-1.89, -1.486]\n",
      "      n_members: [50, 100]\n",
      "2020-03-22 10:58:19,068 - INFO - Generation 4. Best fitness: -0.261. N-Parameters Best: 12\n",
      "2020-03-22 10:58:19,070 - INFO -                          Mean fitness: -0.907. Mean N-Parameters: 14.0\n",
      "      keys: [1, 2]\n",
      "      fitnesses: [-1.172, -0.261]\n",
      "      n_members: [90, 60]\n",
      "2020-03-22 10:58:32,025 - INFO - Generation 5. Best fitness: -0.249. N-Parameters Best: 12\n",
      "2020-03-22 10:58:32,025 - INFO -                          Mean fitness: -0.939. Mean N-Parameters: 14.373\n",
      "2020-03-22 10:58:32,026 - INFO -     New best individual (763) found with fitness -0.249\n",
      "Confusion Matrix:\n",
      "[[220028  23772]\n",
      " [ 38234 217966]]\n",
      "Accuracy: 87.5988 %\n",
      "      keys: [1, 2]\n",
      "      fitnesses: [-1.321, -1.829]\n",
      "      n_members: [56, 94]\n",
      "2020-03-22 10:58:46,603 - INFO - Generation 6. Best fitness: -0.24. N-Parameters Best: 12\n",
      "2020-03-22 10:58:46,604 - INFO -                          Mean fitness: -0.833. Mean N-Parameters: 14.093\n",
      "2020-03-22 10:58:46,605 - INFO -     New best individual (882) found with fitness -0.24\n",
      "Confusion Matrix:\n",
      "[[233530  25070]\n",
      " [ 27154 214246]]\n",
      "Accuracy: 89.5552 %\n",
      "      keys: [1, 2]\n",
      "      fitnesses: [-1.023, -0.677]\n",
      "      n_members: [93, 57]\n",
      "2020-03-22 10:59:00,318 - INFO - Generation 7. Best fitness: -0.24. N-Parameters Best: 12\n",
      "2020-03-22 10:59:00,319 - INFO -                          Mean fitness: -0.697. Mean N-Parameters: 13.88\n",
      "      keys: [1, 2]\n",
      "      fitnesses: [-0.488, -0.501]\n",
      "      n_members: [143, 7]\n",
      "2020-03-22 10:59:12,739 - INFO - Generation 8. Best fitness: -0.239. N-Parameters Best: 12\n",
      "2020-03-22 10:59:12,740 - INFO -                          Mean fitness: -0.754. Mean N-Parameters: 13.933\n",
      "2020-03-22 10:59:12,741 - INFO -     New best individual (1245) found with fitness -0.239\n",
      "Confusion Matrix:\n",
      "[[225301  29999]\n",
      " [ 24493 220207]]\n",
      "Accuracy: 89.1016 %\n",
      "      keys: [1, 2]\n",
      "      fitnesses: [-1.183, -0.701]\n",
      "      n_members: [90, 60]\n",
      "2020-03-22 10:59:26,484 - INFO - Generation 9. Best fitness: -0.239. N-Parameters Best: 12\n",
      "2020-03-22 10:59:26,485 - INFO -                          Mean fitness: -0.686. Mean N-Parameters: 13.8\n",
      "      keys: [1, 2]\n",
      "      fitnesses: [-0.444, -1.131]\n",
      "      n_members: [29, 121]\n",
      "2020-03-22 10:59:38,313 - INFO - Generation 10. Best fitness: -0.237. N-Parameters Best: 12\n",
      "2020-03-22 10:59:38,314 - INFO -                          Mean fitness: -0.711. Mean N-Parameters: 13.6\n",
      "2020-03-22 10:59:38,315 - INFO -     New best individual (1585) found with fitness -0.237\n",
      "Confusion Matrix:\n",
      "[[220785  21915]\n",
      " [ 32746 224554]]\n",
      "Accuracy: 89.06779999999999 %\n",
      "      keys: [1, 2]\n",
      "      fitnesses: [-1.141, -0.451]\n",
      "      n_members: [94, 56]\n",
      "2020-03-22 10:59:51,758 - INFO - Generation 11. Best fitness: -0.237. N-Parameters Best: 12\n",
      "2020-03-22 10:59:51,758 - INFO -                          Mean fitness: -0.78. Mean N-Parameters: 14.027\n",
      "      keys: [1, 2]\n",
      "      fitnesses: [-0.577, -0.468]\n",
      "      n_members: [105, 45]\n",
      "2020-03-22 11:00:04,332 - INFO - Generation 12. Best fitness: -0.237. N-Parameters Best: 12\n",
      "2020-03-22 11:00:04,336 - INFO -                          Mean fitness: -0.745. Mean N-Parameters: 14.333\n",
      "      keys: [1, 2]\n",
      "      fitnesses: [-0.405, -1.07]\n",
      "      n_members: [43, 107]\n",
      "2020-03-22 11:00:16,565 - INFO - Generation 13. Best fitness: -0.237. N-Parameters Best: 12\n",
      "2020-03-22 11:00:16,566 - INFO -                          Mean fitness: -0.777. Mean N-Parameters: 13.853\n",
      "      keys: [1, 2, 3]\n",
      "      fitnesses: [-0.831, -0.33, -0.995]\n",
      "      n_members: [110, 36, 4]\n",
      "2020-03-22 11:00:29,731 - INFO - Generation 14. Best fitness: -0.237. N-Parameters Best: 12\n",
      "2020-03-22 11:00:29,735 - INFO -                          Mean fitness: -0.836. Mean N-Parameters: 14.573\n",
      "2020-03-22 11:00:29,737 - INFO -     New best individual (1728) found with fitness -0.237\n",
      "Confusion Matrix:\n",
      "[[225997  24703]\n",
      " [ 29893 219407]]\n",
      "Accuracy: 89.08080000000001 %\n",
      "      keys: [1, 2, 3]\n",
      "      fitnesses: [-0.67, -0.607, -2.384]\n",
      "      n_members: [82, 49, 19]\n",
      "2020-03-22 11:00:43,618 - INFO - Generation 15. Best fitness: -0.237. N-Parameters Best: 12\n",
      "2020-03-22 11:00:43,630 - INFO -                          Mean fitness: -0.804. Mean N-Parameters: 14.765\n",
      "2020-03-22 11:00:43,632 - INFO -     New best individual (1585) found with fitness -0.237\n",
      "Confusion Matrix:\n",
      "[[226725  22875]\n",
      " [ 31679 218721]]\n",
      "Accuracy: 89.0892 %\n",
      "      keys: [1, 2, 3]\n",
      "      fitnesses: [-1.319, -0.897, -0.687]\n",
      "      n_members: [73, 61, 15]\n",
      "2020-03-22 11:00:57,486 - INFO - Generation 16. Best fitness: -0.237. N-Parameters Best: 12\n",
      "2020-03-22 11:00:57,489 - INFO -                          Mean fitness: -0.781. Mean N-Parameters: 15.221\n",
      "2020-03-22 11:00:57,491 - INFO -     New best individual (1728) found with fitness -0.237\n",
      "Confusion Matrix:\n",
      "[[224756  21844]\n",
      " [ 32200 221200]]\n",
      "Accuracy: 89.19120000000001 %\n",
      "      keys: [1, 2, 3]\n",
      "      fitnesses: [-0.362, -0.327, -1.777]\n",
      "      n_members: [22, 66, 61]\n",
      "2020-03-22 11:01:11,063 - INFO - Generation 17. Best fitness: -0.237. N-Parameters Best: 12\n",
      "2020-03-22 11:01:11,064 - INFO -                          Mean fitness: -0.772. Mean N-Parameters: 14.72\n",
      "2020-03-22 11:01:11,065 - INFO -     New best individual (1585) found with fitness -0.237\n",
      "Confusion Matrix:\n",
      "[[223132  24668]\n",
      " [ 32371 219829]]\n",
      "Accuracy: 88.5922 %\n",
      "      keys: [1, 2, 3]\n",
      "      fitnesses: [-1.197, -0.427, -1.443]\n",
      "      n_members: [48, 86, 16]\n",
      "2020-03-22 11:01:24,769 - INFO - Generation 18. Best fitness: -0.237. N-Parameters Best: 12\n",
      "2020-03-22 11:01:24,770 - INFO -                          Mean fitness: -0.848. Mean N-Parameters: 14.52\n",
      "      keys: [1, 2, 3]\n",
      "      fitnesses: [-0.771, -1.354, -1.372]\n",
      "      n_members: [29, 114, 7]\n",
      "2020-03-22 11:01:38,395 - INFO - Generation 19. Best fitness: -0.237. N-Parameters Best: 12\n",
      "2020-03-22 11:01:38,396 - INFO -                          Mean fitness: -0.822. Mean N-Parameters: 14.987\n",
      "      keys: [1, 2, 3]\n",
      "      fitnesses: [-1.082, -0.401, -1.083]\n",
      "      n_members: [72, 69, 9]\n",
      "2020-03-22 11:01:50,186 - INFO - Generation 20. Best fitness: -0.237. N-Parameters Best: 12\n",
      "2020-03-22 11:01:50,187 - INFO -                          Mean fitness: -0.736. Mean N-Parameters: 13.973\n",
      "      keys: [1, 2, 3]\n",
      "      fitnesses: [-0.34, -1.324, -1.538]\n",
      "      n_members: [14, 133, 3]\n",
      "2020-03-22 11:02:03,234 - INFO - Generation 21. Best fitness: -0.237. N-Parameters Best: 12\n",
      "2020-03-22 11:02:03,235 - INFO -                          Mean fitness: -0.852. Mean N-Parameters: 14.333\n",
      "2020-03-22 11:02:03,236 - INFO -     New best individual (1728) found with fitness -0.237\n",
      "Confusion Matrix:\n",
      "[[229083  25217]\n",
      " [ 30005 215695]]\n",
      "Accuracy: 88.9556 %\n",
      "      keys: [1, 2, 3]\n",
      "      fitnesses: [-0.682, -0.457, -1.235]\n",
      "      n_members: [71, 53, 26]\n",
      "2020-03-22 11:02:16,881 - INFO - Generation 22. Best fitness: -0.237. N-Parameters Best: 12\n",
      "2020-03-22 11:02:16,882 - INFO -                          Mean fitness: -0.795. Mean N-Parameters: 14.6\n",
      "2020-03-22 11:02:16,882 - INFO -     New best individual (1585) found with fitness -0.237\n",
      "Confusion Matrix:\n",
      "[[227840  27260]\n",
      " [ 30684 214216]]\n",
      "Accuracy: 88.41120000000001 %\n",
      "      keys: [1, 2, 3]\n",
      "      fitnesses: [-0.796, -0.742, -2.059]\n",
      "      n_members: [119, 14, 17]\n",
      "2020-03-22 11:02:30,716 - INFO - Generation 23. Best fitness: -0.237. N-Parameters Best: 12\n",
      "2020-03-22 11:02:30,717 - INFO -                          Mean fitness: -0.778. Mean N-Parameters: 15.067\n",
      "      keys: [1, 2, 3]\n",
      "      fitnesses: [-0.5, -0.323, -1.448]\n",
      "      n_members: [61, 28, 61]\n",
      "2020-03-22 11:02:43,096 - INFO - Generation 24. Best fitness: -0.237. N-Parameters Best: 12\n",
      "2020-03-22 11:02:43,097 - INFO -                          Mean fitness: -0.784. Mean N-Parameters: 14.747\n",
      "      keys: [1, 2, 3]\n",
      "      fitnesses: [-0.699, -2.109, -1.525]\n",
      "      n_members: [40, 76, 34]\n",
      "2020-03-22 11:02:56,004 - INFO - Generation 25. Best fitness: -0.237. N-Parameters Best: 12\n",
      "2020-03-22 11:02:56,005 - INFO -                          Mean fitness: -0.787. Mean N-Parameters: 14.533\n",
      "      keys: [1, 2, 3]\n",
      "      fitnesses: [-1.458, -0.767, -1.16]\n",
      "      n_members: [11, 118, 21]\n",
      "2020-03-22 11:03:08,855 - INFO - Generation 26. Best fitness: -0.237. N-Parameters Best: 12\n",
      "2020-03-22 11:03:08,856 - INFO -                          Mean fitness: -0.848. Mean N-Parameters: 14.067\n",
      "      keys: [1, 2, 3]\n",
      "      fitnesses: [-2.014, -1.143, -1.487]\n",
      "      n_members: [77, 51, 22]\n",
      "2020-03-22 11:03:21,785 - INFO - Generation 27. Best fitness: -0.237. N-Parameters Best: 12\n",
      "2020-03-22 11:03:21,786 - INFO -                          Mean fitness: -0.813. Mean N-Parameters: 14.2\n",
      "      keys: [1, 2, 3]\n",
      "      fitnesses: [-0.716, -0.344, -1.816]\n",
      "      n_members: [17, 14, 119]\n",
      "2020-03-22 11:03:34,319 - INFO - Generation 28. Best fitness: -0.237. N-Parameters Best: 12\n",
      "2020-03-22 11:03:34,320 - INFO -                          Mean fitness: -0.837. Mean N-Parameters: 14.053\n",
      "      keys: [1, 2, 3, 4]\n",
      "      fitnesses: [-0.71, -0.985, -0.69, -0.606]\n",
      "      n_members: [12, 93, 44, 1]\n",
      "2020-03-22 11:03:46,806 - INFO - Generation 29. Best fitness: -0.237. N-Parameters Best: 12\n",
      "2020-03-22 11:03:46,822 - INFO -                          Mean fitness: -0.862. Mean N-Parameters: 13.893\n",
      "2020-03-22 11:03:46,825 - INFO -     New best individual (1728) found with fitness -0.237\n",
      "Confusion Matrix:\n",
      "[[232321  28679]\n",
      " [ 25339 213661]]\n",
      "Accuracy: 89.1964 %\n",
      "      keys: [1, 2, 3, 4]\n",
      "      fitnesses: [-1.344, -0.327, -0.725, -0.608]\n",
      "      n_members: [68, 5, 25, 52]\n",
      "2020-03-22 11:04:00,178 - INFO - Generation 30. Best fitness: -0.237. N-Parameters Best: 12\n",
      "2020-03-22 11:04:00,179 - INFO -                          Mean fitness: -0.731. Mean N-Parameters: 14.172\n",
      "2020-03-22 11:04:00,180 - INFO -     New best individual (1585) found with fitness -0.237\n",
      "Confusion Matrix:\n",
      "[[227882  24718]\n",
      " [ 31212 216188]]\n",
      "Accuracy: 88.81400000000001 %\n",
      "      keys: [1, 2, 3, 4]\n",
      "      fitnesses: [-0.659, -0.477, -1.127, -0.284]\n",
      "      n_members: [30, 29, 85, 7]\n",
      "2020-03-22 11:04:13,631 - INFO - Generation 31. Best fitness: -0.237. N-Parameters Best: 12\n",
      "2020-03-22 11:04:13,632 - INFO -                          Mean fitness: -0.833. Mean N-Parameters: 14.267\n",
      "      keys: [1, 2, 3, 4]\n",
      "      fitnesses: [-1.425, -1.422, -0.703, -0.825]\n",
      "      n_members: [8, 91, 19, 32]\n",
      "2020-03-22 11:04:26,125 - INFO - Generation 32. Best fitness: -0.237. N-Parameters Best: 12\n",
      "2020-03-22 11:04:26,141 - INFO -                          Mean fitness: -0.868. Mean N-Parameters: 14.4\n",
      "      keys: [1, 2, 3, 4]\n",
      "      fitnesses: [-1.197, -0.617, -0.612, -1.8]\n",
      "      n_members: [37, 27, 32, 54]\n",
      "2020-03-22 11:04:39,704 - INFO - Generation 33. Best fitness: -0.237. N-Parameters Best: 12\n",
      "2020-03-22 11:04:39,705 - INFO -                          Mean fitness: -0.876. Mean N-Parameters: 15.373\n",
      "      keys: [1, 2, 3, 4]\n",
      "      fitnesses: [-1.018, -1.722, -0.917, -0.459]\n",
      "      n_members: [33, 55, 44, 18]\n",
      "2020-03-22 11:04:52,387 - INFO - Generation 34. Best fitness: -0.237. N-Parameters Best: 12\n",
      "2020-03-22 11:04:52,403 - INFO -                          Mean fitness: -0.796. Mean N-Parameters: 14.853\n",
      "      keys: [1, 2, 3, 4]\n",
      "      fitnesses: [-1.815, -0.693, -0.953, -2.245]\n",
      "      n_members: [62, 24, 44, 20]\n",
      "2020-03-22 11:05:04,493 - INFO - Generation 35. Best fitness: -0.237. N-Parameters Best: 12\n",
      "2020-03-22 11:05:04,494 - INFO -                          Mean fitness: -0.785. Mean N-Parameters: 13.8\n",
      "      keys: [1, 2, 3, 4]\n",
      "      fitnesses: [-1.532, -2.706, -0.962, -0.34]\n",
      "      n_members: [40, 74, 27, 9]\n",
      "2020-03-22 11:05:16,659 - INFO - Generation 36. Best fitness: -0.237. N-Parameters Best: 12\n",
      "2020-03-22 11:05:16,661 - INFO -                          Mean fitness: -0.823. Mean N-Parameters: 14.067\n",
      "      keys: [1, 2, 3, 4]\n",
      "      fitnesses: [-1.473, -0.404, -1.043, -0.977]\n",
      "      n_members: [26, 35, 21, 67]\n",
      "2020-03-22 11:05:29,621 - INFO - Generation 37. Best fitness: -0.237. N-Parameters Best: 12\n",
      "2020-03-22 11:05:29,623 - INFO -                          Mean fitness: -0.833. Mean N-Parameters: 14.707\n",
      "2020-03-22 11:05:29,624 - INFO -     New best individual (1728) found with fitness -0.237\n",
      "Confusion Matrix:\n",
      "[[222288  21612]\n",
      " [ 32053 224047]]\n",
      "Accuracy: 89.267 %\n",
      "      keys: [1, 2, 3, 4]\n",
      "      fitnesses: [-1.6, -1.82, -0.857, -0.558]\n",
      "      n_members: [72, 46, 6, 26]\n",
      "2020-03-22 11:05:44,123 - INFO - Generation 38. Best fitness: -0.237. N-Parameters Best: 12\n",
      "2020-03-22 11:05:44,124 - INFO -                          Mean fitness: -0.782. Mean N-Parameters: 14.0\n",
      "2020-03-22 11:05:44,125 - INFO -     New best individual (1585) found with fitness -0.237\n",
      "Confusion Matrix:\n",
      "[[224994  22306]\n",
      " [ 32717 219983]]\n",
      "Accuracy: 88.9954 %\n",
      "      keys: [1, 2, 3, 4]\n",
      "      fitnesses: [-1.097, -0.863, -0.745, -1.331]\n",
      "      n_members: [37, 34, 8, 71]\n",
      "2020-03-22 11:05:57,095 - INFO - Generation 39. Best fitness: -0.237. N-Parameters Best: 12\n",
      "2020-03-22 11:05:57,112 - INFO -                          Mean fitness: -0.851. Mean N-Parameters: 13.57\n",
      "      keys: [1, 2, 3, 4]\n",
      "      fitnesses: [-1.568, -0.384, -0.548, -0.433]\n",
      "      n_members: [60, 22, 12, 55]\n",
      "2020-03-22 11:06:09,439 - INFO - Generation 40. Best fitness: -0.237. N-Parameters Best: 12\n",
      "2020-03-22 11:06:09,443 - INFO -                          Mean fitness: -0.87. Mean N-Parameters: 13.828\n",
      "      keys: [1, 2, 3, 4]\n",
      "      fitnesses: [-0.791, -0.851, -0.531, -1.967]\n",
      "      n_members: [15, 16, 32, 88]\n",
      "2020-03-22 11:06:22,005 - INFO - Generation 41. Best fitness: -0.237. N-Parameters Best: 12\n",
      "2020-03-22 11:06:22,007 - INFO -                          Mean fitness: -0.792. Mean N-Parameters: 13.96\n",
      "2020-03-22 11:06:22,008 - INFO -     New best individual (1728) found with fitness -0.237\n",
      "Confusion Matrix:\n",
      "[[224652  23248]\n",
      " [ 32240 219860]]\n",
      "Accuracy: 88.9024 %\n",
      "      keys: [1, 2, 3, 4]\n",
      "      fitnesses: [-0.426, -0.261, -0.722, -0.871]\n",
      "      n_members: [40, 9, 11, 91]\n",
      "2020-03-22 11:06:35,862 - INFO - Generation 42. Best fitness: -0.237. N-Parameters Best: 12\n",
      "2020-03-22 11:06:35,863 - INFO -                          Mean fitness: -0.861. Mean N-Parameters: 13.987\n",
      "2020-03-22 11:06:35,864 - INFO -     New best individual (1585) found with fitness -0.237\n",
      "Confusion Matrix:\n",
      "[[228267  23433]\n",
      " [ 31811 216489]]\n",
      "Accuracy: 88.9512 %\n",
      "      keys: [1, 2, 3, 4]\n",
      "      fitnesses: [-1.15, -1.024, -1.029, -0.991]\n",
      "      n_members: [58, 16, 22, 54]\n",
      "2020-03-22 11:06:48,692 - INFO - Generation 43. Best fitness: -0.237. N-Parameters Best: 12\n",
      "2020-03-22 11:06:48,693 - INFO -                          Mean fitness: -0.762. Mean N-Parameters: 13.587\n",
      "2020-03-22 11:06:48,694 - INFO -     New best individual (1728) found with fitness -0.237\n",
      "Confusion Matrix:\n",
      "[[225989  20511]\n",
      " [ 33191 220309]]\n",
      "Accuracy: 89.25959999999999 %\n",
      "      keys: [1, 2, 3, 4]\n",
      "      fitnesses: [-2.086, -0.416, -0.772, -0.559]\n",
      "      n_members: [112, 16, 12, 10]\n",
      "2020-03-22 11:07:02,297 - INFO - Generation 44. Best fitness: -0.237. N-Parameters Best: 12\n",
      "2020-03-22 11:07:02,298 - INFO -                          Mean fitness: -0.956. Mean N-Parameters: 13.629\n",
      "2020-03-22 11:07:02,299 - INFO -     New best individual (1585) found with fitness -0.237\n",
      "Confusion Matrix:\n",
      "[[222460  23640]\n",
      " [ 33556 220344]]\n",
      "Accuracy: 88.5608 %\n",
      "      keys: [1, 2, 3, 4]\n",
      "      fitnesses: [-0.438, -1.736, -0.604, -0.759]\n",
      "      n_members: [9, 49, 21, 72]\n",
      "2020-03-22 11:07:15,026 - INFO - Generation 45. Best fitness: -0.237. N-Parameters Best: 12\n",
      "2020-03-22 11:07:15,044 - INFO -                          Mean fitness: -0.938. Mean N-Parameters: 13.707\n",
      "      keys: [1, 2, 3, 4]\n",
      "      fitnesses: [-2.202, -0.387, -0.325, -2.596]\n",
      "      n_members: [47, 28, 4, 71]\n",
      "2020-03-22 11:07:27,553 - INFO - Generation 46. Best fitness: -0.237. N-Parameters Best: 12\n",
      "2020-03-22 11:07:27,565 - INFO -                          Mean fitness: -0.876. Mean N-Parameters: 14.644\n",
      "      keys: [1, 2, 3, 4]\n",
      "      fitnesses: [-0.911, -2.027, -2.007, -0.278]\n",
      "      n_members: [18, 65, 61, 5]\n",
      "2020-03-22 11:07:40,243 - INFO - Generation 47. Best fitness: -0.237. N-Parameters Best: 12\n",
      "2020-03-22 11:07:40,243 - INFO -                          Mean fitness: -0.917. Mean N-Parameters: 14.16\n",
      "      keys: [1, 2, 3, 4, 5, 6]\n",
      "      fitnesses: [-0.379, -0.347, -0.237, -0.978, -0.875, -0.304]\n",
      "      n_members: [73, 8, 16, 50, 2, 1]\n",
      "2020-03-22 11:07:53,338 - INFO - Generation 48. Best fitness: -0.237. N-Parameters Best: 12\n",
      "2020-03-22 11:07:53,339 - INFO -                          Mean fitness: -0.977. Mean N-Parameters: 14.533\n",
      "      keys: [1, 2, 3, 4, 5, 6]\n",
      "      fitnesses: [-1.033, -0.882, -2.285, -1.664, -2.204, -1.247]\n",
      "      n_members: [57, 27, 29, 6, 11, 20]\n",
      "2020-03-22 11:08:07,444 - INFO - Generation 49. Best fitness: -0.237. N-Parameters Best: 12\n",
      "2020-03-22 11:08:07,445 - INFO -                          Mean fitness: -0.929. Mean N-Parameters: 15.107\n",
      "      keys: [1, 2, 3, 4, 5, 6, 7, 8, 9, 10, 11, 12, 13, 14, 15, 16]\n",
      "      fitnesses: [-0.387, -0.472, -0.237, -0.804, -1.147, -1.976, -0.323, -0.732, -0.452, -0.31, -0.551, -0.372, -0.394, -0.298, -0.566, -0.305]\n",
      "      n_members: [50, 18, 10, 8, 11, 41, 3, 1, 1, 1, 1, 1, 1, 1, 1, 1]\n",
      "2020-03-22 11:08:19,830 - INFO - Generation 50. Best fitness: -0.237. N-Parameters Best: 12\n",
      "2020-03-22 11:08:19,833 - INFO -                          Mean fitness: -0.848. Mean N-Parameters: 14.381\n",
      "      keys: [1, 2, 3, 4, 5, 6, 7, 8, 9, 10, 11, 12, 13, 14, 15, 16]\n",
      "      fitnesses: [-0.912, -0.346, -1.292, -2.045, -3.035, -1.019, -2.244, -2.931, -1.637, -1.265, -0.644, -1.762, -0.569, -0.897, -0.453, -1.503]\n",
      "      n_members: [16, 2, 8, 8, 7, 24, 35, 10, 8, 6, 1, 12, 1, 2, 1, 6]\n"
     ]
    }
   ],
   "source": [
    "for i in range(50):\n",
    "    generation += 1\n",
    "    population = run_generation(generation, population)\n",
    "    show_species(species=speciation_engine.species)"
   ]
  },
  {
   "cell_type": "code",
   "execution_count": 50,
   "metadata": {},
   "outputs": [
    {
     "name": "stdout",
     "output_type": "stream",
     "text": [
      "      keys: [1, 2, 3, 4, 5, 6, 7, 8, 9, 10, 11, 12, 13, 14, 15, 16]\n",
      "      representative fitnesses: [-0.912, -0.346, -1.292, -2.045, -3.035, -1.019, -2.244, -2.931, -1.637, -1.265, -0.644, -1.762, -0.569, -0.897, -0.453, -1.503]\n",
      "      best fitness: [-0.241, -0.472, -0.237, -0.804, -0.419, -0.237, -0.323, -0.732, -0.452, -0.31, -0.551, -0.372, -0.394, -0.298, -0.566, -0.305]\n",
      "      n_members: [16, 2, 8, 8, 7, 24, 35, 10, 8, 6, 1, 12, 1, 2, 1, 6]\n"
     ]
    }
   ],
   "source": [
    "show_species(species=speciation_engine.species)"
   ]
  },
  {
   "cell_type": "code",
   "execution_count": null,
   "metadata": {},
   "outputs": [],
   "source": []
  },
  {
   "cell_type": "code",
   "execution_count": null,
   "metadata": {},
   "outputs": [],
   "source": []
  },
  {
   "cell_type": "code",
   "execution_count": 33,
   "metadata": {},
   "outputs": [
    {
     "name": "stdout",
     "output_type": "stream",
     "text": [
      "      keys: [1, 2]\n",
      "      fitnesses: [-1.402, -0.747]\n",
      "      n_members: [69, 81]\n"
     ]
    }
   ],
   "source": [
    "show_species(species=speciation_engine.species)"
   ]
  },
  {
   "cell_type": "code",
   "execution_count": 19,
   "metadata": {},
   "outputs": [
    {
     "data": {
      "text/plain": [
       "-1.640533208847046"
      ]
     },
     "execution_count": 19,
     "metadata": {},
     "output_type": "execute_result"
    }
   ],
   "source": [
    "speciation_engine.species[1].representative.fitness"
   ]
  },
  {
   "cell_type": "code",
   "execution_count": 20,
   "metadata": {},
   "outputs": [
    {
     "data": {
      "text/plain": [
       "-3.7541580200195312"
      ]
     },
     "execution_count": 20,
     "metadata": {},
     "output_type": "execute_result"
    }
   ],
   "source": [
    "speciation_engine.species[2].representative.fitness"
   ]
  },
  {
   "cell_type": "markdown",
   "metadata": {},
   "source": [
    "### Check evaluation results"
   ]
  },
  {
   "cell_type": "code",
   "execution_count": 31,
   "metadata": {},
   "outputs": [],
   "source": [
    "from neat.evaluation.evaluate_simple import evaluate_genome\n",
    "from neat.evaluation.utils import get_dataset\n",
    "from neat.loss.vi_loss import get_loss, get_beta"
   ]
  },
  {
   "cell_type": "code",
   "execution_count": 29,
   "metadata": {},
   "outputs": [],
   "source": [
    "testing = False"
   ]
  },
  {
   "cell_type": "code",
   "execution_count": 33,
   "metadata": {},
   "outputs": [
    {
     "name": "stdout",
     "output_type": "stream",
     "text": [
      "GETTING DATASET\n"
     ]
    }
   ],
   "source": [
    "dataset = get_dataset(config.dataset, testing=testing)\n",
    "loss = get_loss(problem_type=config.problem_type)"
   ]
  }
 ],
 "metadata": {
  "kernelspec": {
   "display_name": "Python 3",
   "language": "python",
   "name": "python3"
  },
  "language_info": {
   "codemirror_mode": {
    "name": "ipython",
    "version": 3
   },
   "file_extension": ".py",
   "mimetype": "text/x-python",
   "name": "python",
   "nbconvert_exporter": "python",
   "pygments_lexer": "ipython3",
   "version": "3.7.6"
  }
 },
 "nbformat": 4,
 "nbformat_minor": 4
}
