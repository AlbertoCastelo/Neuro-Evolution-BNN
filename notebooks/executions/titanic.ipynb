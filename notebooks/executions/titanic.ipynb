{
 "cells": [
  {
   "cell_type": "code",
   "execution_count": 2,
   "metadata": {},
   "outputs": [],
   "source": [
    "import os"
   ]
  },
  {
   "cell_type": "code",
   "execution_count": 3,
   "metadata": {},
   "outputs": [
    {
     "name": "stdout",
     "output_type": "stream",
     "text": [
      "/home/jovyan/notebooks/executions\n"
     ]
    }
   ],
   "source": [
    "!pwd"
   ]
  },
  {
   "cell_type": "code",
   "execution_count": 4,
   "metadata": {},
   "outputs": [],
   "source": [
    "import sys\n",
    "sys.path.append('/home/jovyan/')"
   ]
  },
  {
   "cell_type": "code",
   "execution_count": 5,
   "metadata": {},
   "outputs": [],
   "source": [
    "from experiments.reporting.report_repository import ReportRepository\n",
    "from experiments.slack_client import SlackNotifier\n",
    "from neat.neat_logger import get_neat_logger\n",
    "from neat.population_engine import EvolutionEngine\n",
    "from neat.reporting.reports_pyneat import EvolutionReport\n",
    "from neat.utils import timeit\n",
    "import math\n",
    "import random\n",
    "from itertools import count\n",
    "import numpy as np\n",
    "\n",
    "from experiments.logger import logger\n",
    "from experiments.slack_client import Notifier\n",
    "from neat.configuration import get_configuration\n",
    "from neat.evaluation.evaluation_engine import EvaluationStochasticEngine\n",
    "from neat.evolution_operators.crossover import Crossover\n",
    "from neat.evolution_operators.mutation import Mutation\n",
    "from neat.genome import Genome\n",
    "from neat.reporting.reports_pyneat import EvolutionReport\n",
    "from neat.species import SpeciationEngine\n",
    "from neat.stagnation import Stagnation\n",
    "from neat.population_engine import PopulationEngine\n",
    "from neat.utils import timeit\n",
    "import neat\n",
    "import tests\n",
    "from config_files.configuration_utils import create_configuration"
   ]
  },
  {
   "cell_type": "code",
   "execution_count": 6,
   "metadata": {},
   "outputs": [],
   "source": [
    "# dir(neat)"
   ]
  },
  {
   "cell_type": "code",
   "execution_count": 7,
   "metadata": {},
   "outputs": [],
   "source": [
    "LOGS_PATH = f'{os.getcwd()}/'\n",
    "logger = get_neat_logger(path=LOGS_PATH)"
   ]
  },
  {
   "cell_type": "markdown",
   "metadata": {},
   "source": [
    "### Configuration"
   ]
  },
  {
   "cell_type": "code",
   "execution_count": 8,
   "metadata": {},
   "outputs": [],
   "source": [
    "config_file = 'titanic'\n",
    "config = create_configuration(filename=f'/{config_file}.json')"
   ]
  },
  {
   "cell_type": "code",
   "execution_count": 9,
   "metadata": {},
   "outputs": [],
   "source": [
    "# TODO: better mechanism for override\n",
    "config.pop_size = 150\n",
    "# config.n_samples = 50\n",
    "#\n",
    "config.n_generations = 300\n",
    "config.node_add_prob = 0.5\n",
    "config.n_output = 2\n",
    "config.n_processes = 10\n",
    "\n",
    "\n",
    "ALGORITHM_VERSION = 'bayes-neat'\n",
    "DATASET = config_file\n",
    "# CORRELATION_ID = 'parameters_grid'\n",
    "CORRELATION_ID = 'test'"
   ]
  },
  {
   "cell_type": "code",
   "execution_count": 10,
   "metadata": {},
   "outputs": [],
   "source": [
    "report_repository = ReportRepository.create(project='neuro-evolution', logs_path=LOGS_PATH)\n",
    "notifier = SlackNotifier.create(channel='batch-jobs')"
   ]
  },
  {
   "cell_type": "code",
   "execution_count": 11,
   "metadata": {},
   "outputs": [],
   "source": [
    "# evaluation_engine.n_processes"
   ]
  },
  {
   "cell_type": "markdown",
   "metadata": {},
   "source": [
    "### Initialize"
   ]
  },
  {
   "cell_type": "code",
   "execution_count": 12,
   "metadata": {},
   "outputs": [],
   "source": [
    "report = EvolutionReport(report_repository=report_repository,\n",
    "                         algorithm_version=ALGORITHM_VERSION,\n",
    "                         dataset=DATASET,\n",
    "                         correlation_id=CORRELATION_ID)"
   ]
  },
  {
   "cell_type": "code",
   "execution_count": 13,
   "metadata": {},
   "outputs": [],
   "source": [
    "population_engine = PopulationEngine(stagnation_engine=Stagnation())\n",
    "speciation_engine = SpeciationEngine()\n",
    "evaluation_engine = EvaluationStochasticEngine()"
   ]
  },
  {
   "cell_type": "code",
   "execution_count": 14,
   "metadata": {},
   "outputs": [
    {
     "name": "stdout",
     "output_type": "stream",
     "text": [
      "2020-03-22 11:22:07,874 - INFO - Generation 0. Best fitness: -1.981. N-Parameters Best: 8\n",
      "2020-03-22 11:22:07,875 - INFO -                          Mean fitness: -2.936. Mean N-Parameters: 8.0\n",
      "2020-03-22 11:22:07,876 - INFO -     New best individual (60) found with fitness -1.981\n",
      "Confusion Matrix:\n",
      "[[12000  5600]\n",
      " [ 3849  7151]]\n",
      "Accuracy: 66.96153846153847 %\n"
     ]
    }
   ],
   "source": [
    "end_condition = 'normal'\n",
    "# try:\n",
    "# initialize population\n",
    "population = population_engine.initialize_population()\n",
    "speciation_engine.speciate(population, generation=0)\n",
    "\n",
    "population = evaluation_engine.evaluate(population=population)\n",
    "\n",
    "# report\n",
    "report.report_new_generation(generation=0,\n",
    "                                  population=population,\n",
    "                                  species=speciation_engine.species)"
   ]
  },
  {
   "cell_type": "code",
   "execution_count": 15,
   "metadata": {},
   "outputs": [],
   "source": [
    "def run_generation(generation, population):\n",
    "    \n",
    "    # create new generation's population\n",
    "    population = population_engine.reproduce(species=speciation_engine.species,\n",
    "                                             pop_size=population_engine.pop_size,\n",
    "                                             generation=generation)\n",
    "    # create new species based on new population\n",
    "    speciation_engine.speciate(population, generation=generation)\n",
    "\n",
    "    # evaluate\n",
    "    population = evaluation_engine.evaluate(population=population)\n",
    "\n",
    "    # generation report\n",
    "    report.report_new_generation(generation=generation,\n",
    "                                 population=population,\n",
    "                                 species=speciation_engine.species)\n",
    "    generation += 1\n",
    "    return population"
   ]
  },
  {
   "cell_type": "code",
   "execution_count": 16,
   "metadata": {},
   "outputs": [],
   "source": [
    "def show_species(species):\n",
    "    species_keys = list(species.keys())\n",
    "    representative_fitnesses = [round(specie.representative.fitness, 3) for specie in species.values()]\n",
    "    best_fitnesses = [round(specie.fitness, 3) if specie.fitness else None for specie in species.values()]\n",
    "\n",
    "    n_genomes = [len(specie.members) for specie in species.values()]\n",
    "    \n",
    "    print(f'      keys: {species_keys}')\n",
    "    print(f'      fitnesses: {representative_fitnesses}')\n",
    "    print(f'      best fitness: {best_fitnesses}')\n",
    "\n",
    "    print(f'      n_members: {n_genomes}')"
   ]
  },
  {
   "cell_type": "code",
   "execution_count": 17,
   "metadata": {},
   "outputs": [],
   "source": [
    "generation = 0"
   ]
  },
  {
   "cell_type": "code",
   "execution_count": 18,
   "metadata": {},
   "outputs": [
    {
     "name": "stdout",
     "output_type": "stream",
     "text": [
      "2020-03-22 11:22:13,635 - INFO - Generation 1. Best fitness: -1.204. N-Parameters Best: 14\n",
      "2020-03-22 11:22:13,636 - INFO -                          Mean fitness: -2.215. Mean N-Parameters: 10.093\n",
      "2020-03-22 11:22:13,637 - INFO -     New best individual (234) found with fitness -1.204\n",
      "Confusion Matrix:\n",
      "[[ 7120 10480]\n",
      " [ 4370  6630]]\n",
      "Accuracy: 48.07692307692308 %\n",
      "      keys: [1, 2]\n",
      "      fitnesses: [-2.708, -2.659]\n",
      "      best fitness: [-1.981, -2.757]\n",
      "      n_members: [99, 51]\n",
      "2020-03-22 11:22:16,552 - INFO - Generation 2. Best fitness: -0.771. N-Parameters Best: 16\n",
      "2020-03-22 11:22:16,553 - INFO -                          Mean fitness: -1.715. Mean N-Parameters: 14.253\n",
      "2020-03-22 11:22:16,553 - INFO -     New best individual (400) found with fitness -0.771\n",
      "Confusion Matrix:\n",
      "[[17600     0]\n",
      " [11000     0]]\n",
      "Accuracy: 61.53846153846154 %\n",
      "      keys: [1, 2]\n",
      "      fitnesses: [-2.077, -2.818]\n",
      "      best fitness: [-1.204, -1.474]\n",
      "      n_members: [88, 62]\n",
      "2020-03-22 11:22:19,854 - INFO - Generation 3. Best fitness: -0.694. N-Parameters Best: 14\n",
      "2020-03-22 11:22:19,855 - INFO -                          Mean fitness: -1.527. Mean N-Parameters: 17.147\n",
      "2020-03-22 11:22:19,856 - INFO -     New best individual (444) found with fitness -0.694\n",
      "Confusion Matrix:\n",
      "[[13757  3843]\n",
      " [ 9089  1911]]\n",
      "Accuracy: 54.78321678321678 %\n",
      "      keys: [1, 2]\n",
      "      fitnesses: [-1.677, -1.658]\n",
      "      best fitness: [-0.771, -0.955]\n",
      "      n_members: [70, 80]\n",
      "2020-03-22 11:22:23,602 - INFO - Generation 4. Best fitness: -0.694. N-Parameters Best: 14\n",
      "2020-03-22 11:22:23,603 - INFO -                          Mean fitness: -1.46. Mean N-Parameters: 20.053\n",
      "      keys: [1, 2]\n",
      "      fitnesses: [-0.852, -0.87]\n",
      "      best fitness: [-0.904, -0.694]\n",
      "      n_members: [15, 135]\n",
      "2020-03-22 11:22:27,241 - INFO - Generation 5. Best fitness: -0.583. N-Parameters Best: 30\n",
      "2020-03-22 11:22:27,242 - INFO -                          Mean fitness: -1.315. Mean N-Parameters: 19.733\n",
      "2020-03-22 11:22:27,243 - INFO -     New best individual (865) found with fitness -0.583\n",
      "Confusion Matrix:\n",
      "[[14885  2715]\n",
      " [ 2969  8031]]\n",
      "Accuracy: 80.12587412587413 %\n",
      "      keys: [1, 2]\n",
      "      fitnesses: [-2.308, -1.055]\n",
      "      best fitness: [-0.852, -0.694]\n",
      "      n_members: [43, 107]\n",
      "2020-03-22 11:22:31,566 - INFO - Generation 6. Best fitness: -0.563. N-Parameters Best: 22\n",
      "2020-03-22 11:22:31,569 - INFO -                          Mean fitness: -1.258. Mean N-Parameters: 21.427\n",
      "2020-03-22 11:22:31,570 - INFO -     New best individual (933) found with fitness -0.563\n",
      "Confusion Matrix:\n",
      "[[15004  2596]\n",
      " [ 3110  7890]]\n",
      "Accuracy: 80.04895104895104 %\n",
      "      keys: [1, 2]\n",
      "      fitnesses: [-0.74, -0.776]\n",
      "      best fitness: [-0.659, -0.583]\n",
      "      n_members: [66, 84]\n",
      "2020-03-22 11:22:37,493 - INFO - Generation 7. Best fitness: -0.564. N-Parameters Best: 22\n",
      "2020-03-22 11:22:37,494 - INFO -                          Mean fitness: -1.191. Mean N-Parameters: 25.867\n",
      "      keys: [1, 2]\n",
      "      fitnesses: [-0.949, -1.322]\n",
      "      best fitness: [-0.588, -0.563]\n",
      "      n_members: [103, 47]\n",
      "2020-03-22 11:22:42,341 - INFO - Generation 8. Best fitness: -0.55. N-Parameters Best: 24\n",
      "2020-03-22 11:22:42,344 - INFO -                          Mean fitness: -1.09. Mean N-Parameters: 25.36\n",
      "2020-03-22 11:22:42,345 - INFO -     New best individual (1274) found with fitness -0.55\n",
      "Confusion Matrix:\n",
      "[[15000  2600]\n",
      " [ 3000  8000]]\n",
      "Accuracy: 80.41958041958041 %\n",
      "      keys: [1, 2]\n",
      "      fitnesses: [-0.655, -0.997]\n",
      "      best fitness: [-0.564, -0.675]\n",
      "      n_members: [80, 70]\n",
      "2020-03-22 11:22:48,140 - INFO - Generation 9. Best fitness: -0.55. N-Parameters Best: 24\n",
      "2020-03-22 11:22:48,141 - INFO -                          Mean fitness: -1.101. Mean N-Parameters: 31.8\n",
      "      keys: [1, 2]\n",
      "      fitnesses: [-0.822, -0.587]\n",
      "      best fitness: [-0.55, -0.588]\n",
      "      n_members: [33, 117]\n",
      "2020-03-22 11:22:54,022 - INFO - Generation 10. Best fitness: -0.55. N-Parameters Best: 24\n",
      "2020-03-22 11:22:54,024 - INFO -                          Mean fitness: -1.176. Mean N-Parameters: 32.213\n",
      "      keys: [1, 2]\n",
      "      fitnesses: [-0.871, -0.576]\n",
      "      best fitness: [-0.588, -0.55]\n",
      "      n_members: [86, 64]\n",
      "2020-03-22 11:23:00,061 - INFO - Generation 11. Best fitness: -0.55. N-Parameters Best: 24\n",
      "2020-03-22 11:23:00,062 - INFO -                          Mean fitness: -1.045. Mean N-Parameters: 33.427\n",
      "      keys: [1, 2]\n",
      "      fitnesses: [-0.563, -0.941]\n",
      "      best fitness: [-0.55, -0.571]\n",
      "      n_members: [50, 100]\n",
      "2020-03-22 11:23:06,755 - INFO - Generation 12. Best fitness: -0.55. N-Parameters Best: 24\n",
      "2020-03-22 11:23:06,756 - INFO -                          Mean fitness: -1.049. Mean N-Parameters: 33.773\n",
      "      keys: [1, 2, 3]\n",
      "      fitnesses: [-0.618, -0.834, -1.186]\n",
      "      best fitness: [-0.563, -0.55, None]\n",
      "      n_members: [139, 4, 7]\n",
      "2020-03-22 11:23:13,040 - INFO - Generation 13. Best fitness: -0.55. N-Parameters Best: 24\n",
      "2020-03-22 11:23:13,041 - INFO -                          Mean fitness: -1.139. Mean N-Parameters: 34.413\n",
      "      keys: [1, 2, 3]\n",
      "      fitnesses: [-0.554, -2.018, -1.444]\n",
      "      best fitness: [-0.55, -0.834, -0.596]\n",
      "      n_members: [57, 36, 57]\n",
      "2020-03-22 11:23:18,878 - INFO - Generation 14. Best fitness: -0.549. N-Parameters Best: 24\n",
      "2020-03-22 11:23:18,879 - INFO -                          Mean fitness: -1.013. Mean N-Parameters: 34.914\n",
      "      keys: [1, 2, 3]\n",
      "      fitnesses: [-1.241, -1.415, -0.949]\n",
      "      best fitness: [-0.55, -0.592, -0.562]\n",
      "      n_members: [91, 13, 47]\n",
      "2020-03-22 11:23:25,311 - INFO - Generation 15. Best fitness: -0.55. N-Parameters Best: 24\n",
      "2020-03-22 11:23:25,314 - INFO -                          Mean fitness: -1.066. Mean N-Parameters: 36.093\n",
      "      keys: [1, 2, 3]\n",
      "      fitnesses: [-0.554, -0.938, -1.045]\n",
      "      best fitness: [-0.549, -0.651, -0.559]\n",
      "      n_members: [64, 32, 54]\n",
      "2020-03-22 11:23:31,781 - INFO - Generation 16. Best fitness: -0.55. N-Parameters Best: 24\n",
      "2020-03-22 11:23:31,781 - INFO -                          Mean fitness: -1.063. Mean N-Parameters: 37.973\n",
      "      keys: [1, 2, 3]\n",
      "      fitnesses: [-0.645, -0.741, -1.097]\n",
      "      best fitness: [-0.55, -0.589, -0.559]\n",
      "      n_members: [34, 63, 53]\n",
      "2020-03-22 11:23:39,542 - INFO - Generation 17. Best fitness: -0.549. N-Parameters Best: 24\n",
      "2020-03-22 11:23:39,543 - INFO -                          Mean fitness: -0.996. Mean N-Parameters: 42.027\n",
      "      keys: [1, 2, 3]\n",
      "      fitnesses: [-1.344, -0.97, -1.36]\n",
      "      best fitness: [-0.554, -0.55, -0.558]\n",
      "      n_members: [28, 59, 63]\n",
      "2020-03-22 11:23:47,357 - INFO - Generation 18. Best fitness: -0.549. N-Parameters Best: 24\n",
      "2020-03-22 11:23:47,358 - INFO -                          Mean fitness: -0.978. Mean N-Parameters: 42.133\n",
      "      keys: [1, 2, 3]\n",
      "      fitnesses: [-0.758, -0.678, -0.776]\n",
      "      best fitness: [-0.549, -0.552, -0.558]\n",
      "      n_members: [80, 24, 46]\n",
      "2020-03-22 11:23:55,343 - INFO - Generation 19. Best fitness: -0.55. N-Parameters Best: 24\n",
      "2020-03-22 11:23:55,344 - INFO -                          Mean fitness: -0.947. Mean N-Parameters: 43.748\n",
      "      keys: [1, 2, 3]\n",
      "      fitnesses: [-0.582, -0.787, -0.646]\n",
      "      best fitness: [-0.549, -0.553, -0.55]\n",
      "      n_members: [73, 56, 22]\n",
      "2020-03-22 11:24:04,007 - INFO - Generation 20. Best fitness: -0.55. N-Parameters Best: 24\n",
      "2020-03-22 11:24:04,007 - INFO -                          Mean fitness: -0.928. Mean N-Parameters: 44.53\n",
      "      keys: [1, 2, 3]\n",
      "      fitnesses: [-0.936, -0.643, -0.756]\n",
      "      best fitness: [-0.559, -0.55, -0.55]\n",
      "      n_members: [20, 73, 58]\n",
      "2020-03-22 11:24:11,523 - INFO - Generation 21. Best fitness: -0.549. N-Parameters Best: 24\n",
      "2020-03-22 11:24:11,525 - INFO -                          Mean fitness: -0.963. Mean N-Parameters: 44.293\n",
      "      keys: [1, 2, 3]\n",
      "      fitnesses: [-0.989, -0.933, -0.955]\n",
      "      best fitness: [-0.55, -0.55, -0.55]\n",
      "      n_members: [40, 37, 73]\n",
      "2020-03-22 11:24:19,208 - INFO - Generation 22. Best fitness: -0.548. N-Parameters Best: 30\n",
      "2020-03-22 11:24:19,209 - INFO -                          Mean fitness: -0.959. Mean N-Parameters: 45.275\n",
      "2020-03-22 11:24:19,210 - INFO -     New best individual (3301) found with fitness -0.548\n",
      "Confusion Matrix:\n",
      "[[15000  2600]\n",
      " [ 3000  8000]]\n",
      "Accuracy: 80.41958041958041 %\n",
      "      keys: [1, 2, 3]\n",
      "      fitnesses: [-0.674, -1.531, -1.587]\n",
      "      best fitness: [-0.549, -0.55, -0.55]\n",
      "      n_members: [87, 28, 34]\n",
      "2020-03-22 11:24:26,940 - INFO - Generation 23. Best fitness: -0.548. N-Parameters Best: 30\n",
      "2020-03-22 11:24:26,942 - INFO -                          Mean fitness: -0.972. Mean N-Parameters: 42.51\n",
      "      keys: [1, 2, 3]\n",
      "      fitnesses: [-0.734, -1.03, -1.528]\n",
      "      best fitness: [-0.548, -0.555, -0.551]\n",
      "      n_members: [46, 51, 52]\n",
      "2020-03-22 11:24:34,656 - INFO - Generation 24. Best fitness: -0.548. N-Parameters Best: 30\n",
      "2020-03-22 11:24:34,657 - INFO -                          Mean fitness: -0.95. Mean N-Parameters: 43.841\n",
      "      keys: [1, 2, 3]\n",
      "      fitnesses: [-0.781, -0.56, -0.55]\n",
      "      best fitness: [-0.55, -0.548, -0.55]\n",
      "      n_members: [37, 86, 28]\n",
      "2020-03-22 11:24:43,133 - INFO - Generation 25. Best fitness: -0.548. N-Parameters Best: 30\n",
      "2020-03-22 11:24:43,134 - INFO -                          Mean fitness: -1.049. Mean N-Parameters: 46.623\n",
      "      keys: [1, 2, 3]\n",
      "      fitnesses: [-1.136, -0.577, -0.847]\n",
      "      best fitness: [-0.548, -0.55, -0.55]\n",
      "      n_members: [69, 36, 46]\n",
      "2020-03-22 11:24:51,422 - INFO - Generation 26. Best fitness: -0.548. N-Parameters Best: 30\n",
      "2020-03-22 11:24:51,427 - INFO -                          Mean fitness: -0.983. Mean N-Parameters: 48.053\n",
      "      keys: [1, 2, 3]\n",
      "      fitnesses: [-1.178, -1.454, -0.947]\n",
      "      best fitness: [-0.548, -0.556, -0.55]\n",
      "      n_members: [39, 67, 44]\n",
      "2020-03-22 11:25:00,952 - INFO - Generation 27. Best fitness: -0.548. N-Parameters Best: 30\n",
      "2020-03-22 11:25:00,956 - INFO -                          Mean fitness: -0.973. Mean N-Parameters: 54.72\n",
      "      keys: [1, 2, 3]\n",
      "      fitnesses: [-0.563, -0.566, -0.55]\n",
      "      best fitness: [-0.548, -0.549, -0.55]\n",
      "      n_members: [38, 56, 56]\n",
      "2020-03-22 11:25:10,548 - INFO - Generation 28. Best fitness: -0.548. N-Parameters Best: 30\n",
      "2020-03-22 11:25:10,549 - INFO -                          Mean fitness: -0.91. Mean N-Parameters: 53.8\n",
      "      keys: [1, 2, 3]\n",
      "      fitnesses: [-0.945, -0.564, -0.91]\n",
      "      best fitness: [-0.548, -0.556, -0.55]\n",
      "      n_members: [53, 47, 50]\n",
      "2020-03-22 11:25:20,007 - INFO - Generation 29. Best fitness: -0.548. N-Parameters Best: 30\n",
      "2020-03-22 11:25:20,008 - INFO -                          Mean fitness: -1.03. Mean N-Parameters: 55.311\n",
      "      keys: [1, 2, 3]\n",
      "      fitnesses: [-0.549, -0.555, -0.806]\n",
      "      best fitness: [-0.548, -0.555, -0.55]\n",
      "      n_members: [30, 77, 44]\n",
      "2020-03-22 11:25:29,127 - INFO - Generation 30. Best fitness: -0.548. N-Parameters Best: 30\n",
      "2020-03-22 11:25:29,129 - INFO -                          Mean fitness: -0.976. Mean N-Parameters: 54.212\n",
      "      keys: [1, 2, 3]\n",
      "      fitnesses: [-1.005, -0.555, -1.271]\n",
      "      best fitness: [-0.548, -0.555, -0.55]\n",
      "      n_members: [24, 113, 14]\n",
      "2020-03-22 11:25:37,066 - INFO - Generation 31. Best fitness: -0.548. N-Parameters Best: 30\n",
      "2020-03-22 11:25:37,067 - INFO -                          Mean fitness: -0.962. Mean N-Parameters: 50.373\n",
      "      keys: [1, 2, 3]\n",
      "      fitnesses: [-0.552, -0.612, -1.072]\n",
      "      best fitness: [-0.548, -0.549, -0.55]\n",
      "      n_members: [41, 57, 52]\n",
      "2020-03-22 11:25:46,957 - INFO - Generation 32. Best fitness: -0.549. N-Parameters Best: 30\n",
      "2020-03-22 11:25:46,958 - INFO -                          Mean fitness: -0.963. Mean N-Parameters: 55.44\n",
      "      keys: [1, 2, 3]\n",
      "      fitnesses: [-1.114, -0.79, -1.074]\n",
      "      best fitness: [-0.548, -0.549, -0.55]\n",
      "      n_members: [33, 62, 55]\n",
      "2020-03-22 11:25:55,396 - INFO - Generation 33. Best fitness: -0.548. N-Parameters Best: 30\n",
      "2020-03-22 11:25:55,396 - INFO -                          Mean fitness: -1.081. Mean N-Parameters: 49.141\n",
      "      keys: [1, 2, 3]\n",
      "      fitnesses: [-1.575, -1.012, -0.645]\n",
      "      best fitness: [-0.549, -0.549, -0.55]\n",
      "      n_members: [34, 64, 51]\n",
      "2020-03-22 11:26:04,693 - INFO - Generation 34. Best fitness: -0.548. N-Parameters Best: 30\n",
      "2020-03-22 11:26:04,694 - INFO -                          Mean fitness: -0.971. Mean N-Parameters: 53.72\n",
      "      keys: [1, 2, 3]\n",
      "      fitnesses: [-0.683, -0.59, -0.55]\n",
      "      best fitness: [-0.548, -0.55, -0.55]\n",
      "      n_members: [48, 52, 50]\n",
      "2020-03-22 11:26:15,076 - INFO - Generation 35. Best fitness: -0.548. N-Parameters Best: 30\n",
      "2020-03-22 11:26:15,077 - INFO -                          Mean fitness: -0.991. Mean N-Parameters: 53.629\n",
      "      keys: [1, 2, 3]\n",
      "      fitnesses: [-0.624, -0.621, -1.031]\n",
      "      best fitness: [-0.55, -0.548, -0.55]\n",
      "      n_members: [55, 53, 43]\n",
      "2020-03-22 11:26:24,405 - INFO - Generation 36. Best fitness: -0.549. N-Parameters Best: 30\n",
      "2020-03-22 11:26:24,406 - INFO -                          Mean fitness: -1.031. Mean N-Parameters: 51.603\n",
      "      keys: [1, 2, 3]\n",
      "      fitnesses: [-0.95, -0.55, -0.696]\n",
      "      best fitness: [-0.548, -0.55, -0.55]\n",
      "      n_members: [58, 44, 49]\n",
      "2020-03-22 11:26:33,193 - INFO - Generation 37. Best fitness: -0.548. N-Parameters Best: 30\n",
      "2020-03-22 11:26:33,194 - INFO -                          Mean fitness: -1.071. Mean N-Parameters: 52.467\n",
      "      keys: [1, 2, 3]\n",
      "      fitnesses: [-0.881, -1.169, -0.699]\n",
      "      best fitness: [-0.554, -0.549, -0.551]\n",
      "      n_members: [25, 77, 48]\n",
      "2020-03-22 11:26:42,484 - INFO - Generation 38. Best fitness: -0.543. N-Parameters Best: 34\n",
      "2020-03-22 11:26:42,485 - INFO -                          Mean fitness: -0.979. Mean N-Parameters: 52.728\n",
      "2020-03-22 11:26:42,487 - INFO -     New best individual (5533) found with fitness -0.543\n",
      "Confusion Matrix:\n",
      "[[14339  3261]\n",
      " [ 2825  8175]]\n",
      "Accuracy: 78.72027972027972 %\n",
      "      keys: [1, 2, 3]\n",
      "      fitnesses: [-0.549, -0.693, -0.695]\n",
      "      best fitness: [-0.548, -0.55, -0.55]\n",
      "      n_members: [23, 81, 47]\n",
      "2020-03-22 11:26:52,388 - INFO - Generation 39. Best fitness: -0.486. N-Parameters Best: 40\n",
      "2020-03-22 11:26:52,388 - INFO -                          Mean fitness: -0.963. Mean N-Parameters: 54.662\n",
      "2020-03-22 11:26:52,389 - INFO -     New best individual (5713) found with fitness -0.486\n",
      "Confusion Matrix:\n",
      "[[14937  2663]\n",
      " [ 2988  8012]]\n",
      "Accuracy: 80.24125874125873 %\n",
      "      keys: [1, 2, 3]\n",
      "      fitnesses: [-0.612, -1.135, -0.623]\n",
      "      best fitness: [-0.549, -0.543, -0.55]\n",
      "      n_members: [62, 46, 43]\n",
      "2020-03-22 11:27:02,939 - INFO - Generation 40. Best fitness: -0.487. N-Parameters Best: 40\n",
      "2020-03-22 11:27:02,942 - INFO -                          Mean fitness: -0.954. Mean N-Parameters: 56.94\n",
      "      keys: [1, 2, 3]\n",
      "      fitnesses: [-0.629, -0.956, -0.598]\n",
      "      best fitness: [-0.541, -0.486, -0.55]\n",
      "      n_members: [78, 25, 48]\n",
      "2020-03-22 11:27:12,998 - INFO - Generation 41. Best fitness: -0.485. N-Parameters Best: 40\n",
      "2020-03-22 11:27:12,999 - INFO -                          Mean fitness: -0.984. Mean N-Parameters: 57.693\n",
      "      keys: [1, 2, 3]\n",
      "      fitnesses: [-0.791, -1.089, -0.551]\n",
      "      best fitness: [-0.487, -0.541, -0.55]\n",
      "      n_members: [72, 28, 50]\n",
      "2020-03-22 11:27:23,818 - INFO - Generation 42. Best fitness: -0.484. N-Parameters Best: 40\n",
      "2020-03-22 11:27:23,819 - INFO -                          Mean fitness: -1.001. Mean N-Parameters: 58.2\n",
      "      keys: [1, 2, 3]\n",
      "      fitnesses: [-0.647, -1.151, -1.356]\n",
      "      best fitness: [-0.541, -0.485, -0.551]\n",
      "      n_members: [59, 50, 41]\n",
      "2020-03-22 11:27:33,109 - INFO - Generation 43. Best fitness: -0.485. N-Parameters Best: 40\n",
      "2020-03-22 11:27:33,111 - INFO -                          Mean fitness: -0.964. Mean N-Parameters: 60.253\n",
      "      keys: [1, 2, 3]\n",
      "      fitnesses: [-0.639, -0.825, -0.55]\n",
      "      best fitness: [-0.541, -0.484, -0.55]\n",
      "      n_members: [56, 35, 59]\n",
      "2020-03-22 11:27:44,024 - INFO - Generation 44. Best fitness: -0.486. N-Parameters Best: 40\n",
      "2020-03-22 11:27:44,043 - INFO -                          Mean fitness: -0.973. Mean N-Parameters: 61.427\n",
      "      keys: [1, 2, 3]\n",
      "      fitnesses: [-0.978, -0.894, -1.156]\n",
      "      best fitness: [-0.485, -0.53, -0.55]\n",
      "      n_members: [47, 48, 55]\n",
      "2020-03-22 11:27:53,686 - INFO - Generation 45. Best fitness: -0.485. N-Parameters Best: 40\n",
      "2020-03-22 11:27:53,687 - INFO -                          Mean fitness: -0.968. Mean N-Parameters: 57.547\n",
      "      keys: [1, 2, 3]\n",
      "      fitnesses: [-0.623, -0.564, -1.012]\n",
      "      best fitness: [-0.524, -0.486, -0.55]\n",
      "      n_members: [36, 60, 54]\n",
      "2020-03-22 11:28:02,870 - INFO - Generation 46. Best fitness: -0.486. N-Parameters Best: 40\n",
      "2020-03-22 11:28:02,871 - INFO -                          Mean fitness: -0.927. Mean N-Parameters: 55.678\n",
      "      keys: [1, 2, 3]\n",
      "      fitnesses: [-0.788, -0.799, -0.55]\n",
      "      best fitness: [-0.523, -0.485, -0.55]\n",
      "      n_members: [58, 51, 40]\n",
      "2020-03-22 11:28:13,286 - INFO - Generation 47. Best fitness: -0.486. N-Parameters Best: 40\n",
      "2020-03-22 11:28:13,287 - INFO -                          Mean fitness: -1.026. Mean N-Parameters: 59.544\n",
      "      keys: [1, 2, 3]\n",
      "      fitnesses: [-0.647, -0.731, -0.593]\n",
      "      best fitness: [-0.52, -0.486, -0.55]\n",
      "      n_members: [62, 39, 48]\n",
      "2020-03-22 11:28:23,670 - INFO - Generation 48. Best fitness: -0.485. N-Parameters Best: 40\n",
      "2020-03-22 11:28:23,672 - INFO -                          Mean fitness: -0.992. Mean N-Parameters: 61.248\n",
      "      keys: [1, 2, 3]\n",
      "      fitnesses: [-1.232, -0.56, -0.885]\n",
      "      best fitness: [-0.511, -0.486, -0.55]\n",
      "      n_members: [31, 69, 49]\n",
      "2020-03-22 11:28:33,741 - INFO - Generation 49. Best fitness: -0.485. N-Parameters Best: 40\n",
      "2020-03-22 11:28:33,742 - INFO -                          Mean fitness: -0.934. Mean N-Parameters: 63.181\n",
      "      keys: [1, 2, 3]\n",
      "      fitnesses: [-1.087, -0.711, -0.55]\n",
      "      best fitness: [-0.538, -0.485, -0.55]\n",
      "      n_members: [61, 40, 48]\n",
      "2020-03-22 11:28:44,467 - INFO - Generation 50. Best fitness: -0.485. N-Parameters Best: 40\n",
      "2020-03-22 11:28:44,468 - INFO -                          Mean fitness: -0.965. Mean N-Parameters: 63.36\n",
      "      keys: [1, 2, 3]\n",
      "      fitnesses: [-0.798, -0.786, -0.649]\n",
      "      best fitness: [-0.536, -0.485, -0.55]\n",
      "      n_members: [42, 61, 47]\n"
     ]
    }
   ],
   "source": [
    "for i in range(50):\n",
    "    generation += 1\n",
    "    population = run_generation(generation, population)\n",
    "    show_species(species=speciation_engine.species)"
   ]
  },
  {
   "cell_type": "code",
   "execution_count": null,
   "metadata": {},
   "outputs": [],
   "source": []
  },
  {
   "cell_type": "code",
   "execution_count": null,
   "metadata": {},
   "outputs": [],
   "source": []
  },
  {
   "cell_type": "code",
   "execution_count": 33,
   "metadata": {},
   "outputs": [
    {
     "name": "stdout",
     "output_type": "stream",
     "text": [
      "      keys: [1, 2]\n",
      "      fitnesses: [-1.402, -0.747]\n",
      "      n_members: [69, 81]\n"
     ]
    }
   ],
   "source": [
    "show_species(species=speciation_engine.species)"
   ]
  },
  {
   "cell_type": "code",
   "execution_count": 19,
   "metadata": {},
   "outputs": [
    {
     "data": {
      "text/plain": [
       "-1.640533208847046"
      ]
     },
     "execution_count": 19,
     "metadata": {},
     "output_type": "execute_result"
    }
   ],
   "source": [
    "speciation_engine.species[1].representative.fitness"
   ]
  },
  {
   "cell_type": "code",
   "execution_count": 20,
   "metadata": {},
   "outputs": [
    {
     "data": {
      "text/plain": [
       "-3.7541580200195312"
      ]
     },
     "execution_count": 20,
     "metadata": {},
     "output_type": "execute_result"
    }
   ],
   "source": [
    "speciation_engine.species[2].representative.fitness"
   ]
  },
  {
   "cell_type": "markdown",
   "metadata": {},
   "source": [
    "### Check evaluation results"
   ]
  },
  {
   "cell_type": "code",
   "execution_count": 31,
   "metadata": {},
   "outputs": [],
   "source": [
    "from neat.evaluation.evaluate_simple import evaluate_genome\n",
    "from neat.evaluation.utils import get_dataset\n",
    "from neat.loss.vi_loss import get_loss, get_beta"
   ]
  },
  {
   "cell_type": "code",
   "execution_count": 29,
   "metadata": {},
   "outputs": [],
   "source": [
    "testing = False"
   ]
  },
  {
   "cell_type": "code",
   "execution_count": 33,
   "metadata": {},
   "outputs": [
    {
     "name": "stdout",
     "output_type": "stream",
     "text": [
      "GETTING DATASET\n"
     ]
    }
   ],
   "source": [
    "dataset = get_dataset(config.dataset, testing=testing)\n",
    "loss = get_loss(problem_type=config.problem_type)"
   ]
  }
 ],
 "metadata": {
  "kernelspec": {
   "display_name": "Python 3",
   "language": "python",
   "name": "python3"
  },
  "language_info": {
   "codemirror_mode": {
    "name": "ipython",
    "version": 3
   },
   "file_extension": ".py",
   "mimetype": "text/x-python",
   "name": "python",
   "nbconvert_exporter": "python",
   "pygments_lexer": "ipython3",
   "version": "3.7.6"
  }
 },
 "nbformat": 4,
 "nbformat_minor": 4
}
