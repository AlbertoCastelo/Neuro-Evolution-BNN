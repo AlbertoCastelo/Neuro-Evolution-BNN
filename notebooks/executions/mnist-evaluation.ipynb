{
 "cells": [
  {
   "cell_type": "code",
   "execution_count": null,
   "metadata": {},
   "outputs": [],
   "source": [
    "import os"
   ]
  },
  {
   "cell_type": "code",
   "execution_count": 2,
   "metadata": {},
   "outputs": [
    {
     "name": "stdout",
     "output_type": "stream",
     "text": [
      "/home/jovyan/notebooks/executions\n"
     ]
    }
   ],
   "source": [
    "!pwd"
   ]
  },
  {
   "cell_type": "code",
   "execution_count": 3,
   "metadata": {},
   "outputs": [],
   "source": [
    "import sys\n",
    "sys.path.append('/home/jovyan/')"
   ]
  },
  {
   "cell_type": "code",
   "execution_count": 4,
   "metadata": {},
   "outputs": [],
   "source": [
    "from experiments.reporting.report_repository import ReportRepository\n",
    "from experiments.slack_client import SlackNotifier\n",
    "from neat.neat_logger import get_neat_logger\n",
    "from neat.population_engine import EvolutionEngine\n",
    "from neat.reporting.reports_pyneat import EvolutionReport\n",
    "from neat.utils import timeit\n",
    "import math\n",
    "import random\n",
    "from itertools import count\n",
    "import numpy as np\n",
    "\n",
    "from experiments.logger import logger\n",
    "from experiments.slack_client import Notifier\n",
    "from neat.configuration import get_configuration\n",
    "from neat.evaluation.evaluation_engine import EvaluationStochasticEngine\n",
    "from neat.evolution_operators.crossover import Crossover\n",
    "from neat.evolution_operators.mutation import Mutation\n",
    "from neat.genome import Genome\n",
    "from neat.reporting.reports_pyneat import EvolutionReport\n",
    "from neat.species import SpeciationEngine\n",
    "from neat.stagnation import Stagnation\n",
    "from neat.population_engine import PopulationEngine\n",
    "from neat.utils import timeit\n",
    "import neat\n",
    "import tests\n",
    "from config_files.configuration_utils import create_configuration\n",
    "from neat.configuration import get_configuration, set_configuration\n",
    "from neat.evaluation.evaluation_engine import evaluate_genome, get_dataset\n",
    "from neat.genome import Genome\n",
    "import os\n",
    "from neat.loss.vi_loss import get_loss"
   ]
  },
  {
   "cell_type": "code",
   "execution_count": 5,
   "metadata": {},
   "outputs": [],
   "source": [
    "# dir(neat)"
   ]
  },
  {
   "cell_type": "code",
   "execution_count": 57,
   "metadata": {},
   "outputs": [],
   "source": [
    "LOGS_PATH = f'{os.getcwd()}/'\n",
    "logger = get_neat_logger(path=LOGS_PATH)"
   ]
  },
  {
   "cell_type": "markdown",
   "metadata": {},
   "source": [
    "### Configuration"
   ]
  },
  {
   "cell_type": "code",
   "execution_count": 95,
   "metadata": {},
   "outputs": [],
   "source": [
    "execution_id = 'cb3a361c-922a-4fd1-9368-1fc341cc9d1f'\n",
    "execution_id = '624c3966-15ec-46d0-ab64-506b994fa3c8'\n",
    "execution_id = '6bfafd62-1590-4f24-93c6-7703b93738fd'\n",
    "execution_id = '249d73e6-476e-4a20-9c7c-3726e2fefb0b'  # gen 10\n",
    "\n",
    "execution_id = '527d9ac9-ec6f-4ba0-a842-253bf0ec06bc'  # gen 1\n",
    "execution_id = 'fe6d383c-cab7-4939-83fa-cdf387ab0744'  # new initialization\n",
    "DATASET = 'mnist_downsampled'\n",
    "ALGORITHM_VERSION = 'bayes-neat'\n",
    "CORRELATION_ID = 'test'"
   ]
  },
  {
   "cell_type": "code",
   "execution_count": 96,
   "metadata": {},
   "outputs": [],
   "source": [
    "# execution_id = '2014fc1f-50e0-42b8-800e-69102967c77f' # -0.22\n",
    "# DATASET = 'mnist_binary'\n",
    "# ALGORITHM_VERSION = 'bayes-neat'\n",
    "# CORRELATION_ID = 'test'"
   ]
  },
  {
   "cell_type": "code",
   "execution_count": 97,
   "metadata": {},
   "outputs": [],
   "source": [
    "report_repository = ReportRepository.create(project='neuro-evolution', logs_path=LOGS_PATH)\n",
    "report = report_repository.get_report(algorithm_version=ALGORITHM_VERSION,\n",
    "                                      dataset=DATASET,\n",
    "                                      correlation_id=CORRELATION_ID,\n",
    "                                      execution_id=execution_id)"
   ]
  },
  {
   "cell_type": "code",
   "execution_count": 98,
   "metadata": {},
   "outputs": [
    {
     "name": "stdout",
     "output_type": "stream",
     "text": [
      "Fitness of best individual: -2.4978134632110596\n"
     ]
    },
    {
     "ename": "TypeError",
     "evalue": "unhashable type: 'dict'",
     "output_type": "error",
     "traceback": [
      "\u001b[0;31m---------------------------------------------------------------------------\u001b[0m",
      "\u001b[0;31mTypeError\u001b[0m                                 Traceback (most recent call last)",
      "\u001b[0;32m<ipython-input-98-d83839dd6fb6>\u001b[0m in \u001b[0;36m<module>\u001b[0;34m\u001b[0m\n\u001b[1;32m      3\u001b[0m \u001b[0mprint\u001b[0m\u001b[0;34m(\u001b[0m\u001b[0;34mf'Fitness of best individual: {best_individual_fitness}'\u001b[0m\u001b[0;34m)\u001b[0m\u001b[0;34m\u001b[0m\u001b[0;34m\u001b[0m\u001b[0m\n\u001b[1;32m      4\u001b[0m \u001b[0;34m\u001b[0m\u001b[0m\n\u001b[0;32m----> 5\u001b[0;31m \u001b[0mgenome\u001b[0m \u001b[0;34m=\u001b[0m \u001b[0mGenome\u001b[0m\u001b[0;34m.\u001b[0m\u001b[0mfrom_dict\u001b[0m\u001b[0;34m(\u001b[0m\u001b[0mgenome_dict\u001b[0m\u001b[0;34m)\u001b[0m\u001b[0;34m\u001b[0m\u001b[0;34m\u001b[0m\u001b[0m\n\u001b[0m\u001b[1;32m      6\u001b[0m \u001b[0mconfig\u001b[0m \u001b[0;34m=\u001b[0m \u001b[0mgenome\u001b[0m\u001b[0;34m.\u001b[0m\u001b[0mgenome_config\u001b[0m\u001b[0;34m\u001b[0m\u001b[0;34m\u001b[0m\u001b[0m\n\u001b[1;32m      7\u001b[0m \u001b[0mset_configuration\u001b[0m\u001b[0;34m(\u001b[0m\u001b[0mconfig\u001b[0m\u001b[0;34m)\u001b[0m\u001b[0;34m\u001b[0m\u001b[0;34m\u001b[0m\u001b[0m\n",
      "\u001b[0;32m~/neat/genome.py\u001b[0m in \u001b[0;36mfrom_dict\u001b[0;34m(genome_dict)\u001b[0m\n\u001b[1;32m     62\u001b[0m         \u001b[0;32mfor\u001b[0m \u001b[0mkey\u001b[0m\u001b[0;34m,\u001b[0m \u001b[0mconnection_gene_dict\u001b[0m \u001b[0;32min\u001b[0m \u001b[0mconnection_genes_dict\u001b[0m\u001b[0;34m.\u001b[0m\u001b[0mitems\u001b[0m\u001b[0;34m(\u001b[0m\u001b[0;34m)\u001b[0m\u001b[0;34m:\u001b[0m\u001b[0;34m\u001b[0m\u001b[0;34m\u001b[0m\u001b[0m\n\u001b[1;32m     63\u001b[0m             \u001b[0mconnection_gene\u001b[0m \u001b[0;34m=\u001b[0m \u001b[0mConnectionGene\u001b[0m\u001b[0;34m.\u001b[0m\u001b[0mfrom_dict\u001b[0m\u001b[0;34m(\u001b[0m\u001b[0mconnection_gene_dict\u001b[0m\u001b[0;34m=\u001b[0m\u001b[0mconnection_gene_dict\u001b[0m\u001b[0;34m)\u001b[0m\u001b[0;34m\u001b[0m\u001b[0;34m\u001b[0m\u001b[0m\n\u001b[0;32m---> 64\u001b[0;31m             \u001b[0mgenome\u001b[0m\u001b[0;34m.\u001b[0m\u001b[0mconnection_genes\u001b[0m\u001b[0;34m[\u001b[0m\u001b[0mconnection_gene\u001b[0m\u001b[0;34m.\u001b[0m\u001b[0mkey\u001b[0m\u001b[0;34m]\u001b[0m \u001b[0;34m=\u001b[0m \u001b[0mconnection_gene\u001b[0m\u001b[0;34m\u001b[0m\u001b[0;34m\u001b[0m\u001b[0m\n\u001b[0m\u001b[1;32m     65\u001b[0m \u001b[0;34m\u001b[0m\u001b[0m\n\u001b[1;32m     66\u001b[0m         \u001b[0mnode_genes_dict\u001b[0m \u001b[0;34m=\u001b[0m \u001b[0mgenome_dict\u001b[0m\u001b[0;34m[\u001b[0m\u001b[0;34m'node_genes'\u001b[0m\u001b[0;34m]\u001b[0m\u001b[0;34m\u001b[0m\u001b[0;34m\u001b[0m\u001b[0m\n",
      "\u001b[0;31mTypeError\u001b[0m: unhashable type: 'dict'"
     ]
    }
   ],
   "source": [
    "genome_dict = report.data['best_individual']\n",
    "best_individual_fitness = report.data['best_individual_fitness']\n",
    "print(f'Fitness of best individual: {best_individual_fitness}')\n",
    "\n",
    "genome = Genome.from_dict(genome_dict)\n",
    "config = genome.genome_config\n",
    "set_configuration(config)"
   ]
  },
  {
   "cell_type": "code",
   "execution_count": 99,
   "metadata": {},
   "outputs": [
    {
     "data": {
      "text/plain": [
       "{'key': 217,\n",
       " 'id': '98d3adc7-ff20-4d7a-b7dd-c5e6ff191adb',\n",
       " 'n_input': 256,\n",
       " 'n_output': 10,\n",
       " 'output_nodes_keys': [0, 1, 2, 3, 4, 5, 6, 7, 8, 9],\n",
       " 'input_nodes_keys': [-1,\n",
       "  -2,\n",
       "  -3,\n",
       "  -4,\n",
       "  -5,\n",
       "  -6,\n",
       "  -7,\n",
       "  -8,\n",
       "  -9,\n",
       "  -10,\n",
       "  -11,\n",
       "  -12,\n",
       "  -13,\n",
       "  -14,\n",
       "  -15,\n",
       "  -16,\n",
       "  -17,\n",
       "  -18,\n",
       "  -19,\n",
       "  -20,\n",
       "  -21,\n",
       "  -22,\n",
       "  -23,\n",
       "  -24,\n",
       "  -25,\n",
       "  -26,\n",
       "  -27,\n",
       "  -28,\n",
       "  -29,\n",
       "  -30,\n",
       "  -31,\n",
       "  -32,\n",
       "  -33,\n",
       "  -34,\n",
       "  -35,\n",
       "  -36,\n",
       "  -37,\n",
       "  -38,\n",
       "  -39,\n",
       "  -40,\n",
       "  -41,\n",
       "  -42,\n",
       "  -43,\n",
       "  -44,\n",
       "  -45,\n",
       "  -46,\n",
       "  -47,\n",
       "  -48,\n",
       "  -49,\n",
       "  -50,\n",
       "  -51,\n",
       "  -52,\n",
       "  -53,\n",
       "  -54,\n",
       "  -55,\n",
       "  -56,\n",
       "  -57,\n",
       "  -58,\n",
       "  -59,\n",
       "  -60,\n",
       "  -61,\n",
       "  -62,\n",
       "  -63,\n",
       "  -64,\n",
       "  -65,\n",
       "  -66,\n",
       "  -67,\n",
       "  -68,\n",
       "  -69,\n",
       "  -70,\n",
       "  -71,\n",
       "  -72,\n",
       "  -73,\n",
       "  -74,\n",
       "  -75,\n",
       "  -76,\n",
       "  -77,\n",
       "  -78,\n",
       "  -79,\n",
       "  -80,\n",
       "  -81,\n",
       "  -82,\n",
       "  -83,\n",
       "  -84,\n",
       "  -85,\n",
       "  -86,\n",
       "  -87,\n",
       "  -88,\n",
       "  -89,\n",
       "  -90,\n",
       "  -91,\n",
       "  -92,\n",
       "  -93,\n",
       "  -94,\n",
       "  -95,\n",
       "  -96,\n",
       "  -97,\n",
       "  -98,\n",
       "  -99,\n",
       "  -100,\n",
       "  -101,\n",
       "  -102,\n",
       "  -103,\n",
       "  -104,\n",
       "  -105,\n",
       "  -106,\n",
       "  -107,\n",
       "  -108,\n",
       "  -109,\n",
       "  -110,\n",
       "  -111,\n",
       "  -112,\n",
       "  -113,\n",
       "  -114,\n",
       "  -115,\n",
       "  -116,\n",
       "  -117,\n",
       "  -118,\n",
       "  -119,\n",
       "  -120,\n",
       "  -121,\n",
       "  -122,\n",
       "  -123,\n",
       "  -124,\n",
       "  -125,\n",
       "  -126,\n",
       "  -127,\n",
       "  -128,\n",
       "  -129,\n",
       "  -130,\n",
       "  -131,\n",
       "  -132,\n",
       "  -133,\n",
       "  -134,\n",
       "  -135,\n",
       "  -136,\n",
       "  -137,\n",
       "  -138,\n",
       "  -139,\n",
       "  -140,\n",
       "  -141,\n",
       "  -142,\n",
       "  -143,\n",
       "  -144,\n",
       "  -145,\n",
       "  -146,\n",
       "  -147,\n",
       "  -148,\n",
       "  -149,\n",
       "  -150,\n",
       "  -151,\n",
       "  -152,\n",
       "  -153,\n",
       "  -154,\n",
       "  -155,\n",
       "  -156,\n",
       "  -157,\n",
       "  -158,\n",
       "  -159,\n",
       "  -160,\n",
       "  -161,\n",
       "  -162,\n",
       "  -163,\n",
       "  -164,\n",
       "  -165,\n",
       "  -166,\n",
       "  -167,\n",
       "  -168,\n",
       "  -169,\n",
       "  -170,\n",
       "  -171,\n",
       "  -172,\n",
       "  -173,\n",
       "  -174,\n",
       "  -175,\n",
       "  -176,\n",
       "  -177,\n",
       "  -178,\n",
       "  -179,\n",
       "  -180,\n",
       "  -181,\n",
       "  -182,\n",
       "  -183,\n",
       "  -184,\n",
       "  -185,\n",
       "  -186,\n",
       "  -187,\n",
       "  -188,\n",
       "  -189,\n",
       "  -190,\n",
       "  -191,\n",
       "  -192,\n",
       "  -193,\n",
       "  -194,\n",
       "  -195,\n",
       "  -196,\n",
       "  -197,\n",
       "  -198,\n",
       "  -199,\n",
       "  -200,\n",
       "  -201,\n",
       "  -202,\n",
       "  -203,\n",
       "  -204,\n",
       "  -205,\n",
       "  -206,\n",
       "  -207,\n",
       "  -208,\n",
       "  -209,\n",
       "  -210,\n",
       "  -211,\n",
       "  -212,\n",
       "  -213,\n",
       "  -214,\n",
       "  -215,\n",
       "  -216,\n",
       "  -217,\n",
       "  -218,\n",
       "  -219,\n",
       "  -220,\n",
       "  -221,\n",
       "  -222,\n",
       "  -223,\n",
       "  -224,\n",
       "  -225,\n",
       "  -226,\n",
       "  -227,\n",
       "  -228,\n",
       "  -229,\n",
       "  -230,\n",
       "  -231,\n",
       "  -232,\n",
       "  -233,\n",
       "  -234,\n",
       "  -235,\n",
       "  -236,\n",
       "  -237,\n",
       "  -238,\n",
       "  -239,\n",
       "  -240,\n",
       "  -241,\n",
       "  -242,\n",
       "  -243,\n",
       "  -244,\n",
       "  -245,\n",
       "  -246,\n",
       "  -247,\n",
       "  -248,\n",
       "  -249,\n",
       "  -250,\n",
       "  -251,\n",
       "  -252,\n",
       "  -253,\n",
       "  -254,\n",
       "  -255,\n",
       "  -256],\n",
       " 'connection_genes': {'(-27, 0)': {'key': [{'T': None, 'base': None}, 0],\n",
       "   'enabled': True,\n",
       "   '_weight_mean': 0.32596074744482784,\n",
       "   '_weight_std': 0.001},\n",
       "  '(-27, 1)': {'key': [{'T': None, 'base': None}, 1],\n",
       "   'enabled': True,\n",
       "   '_weight_mean': 0.2072451330033004,\n",
       "   '_weight_std': 0.001},\n",
       "  '(-27, 2)': {'key': [{'T': None, 'base': None}, 2],\n",
       "   'enabled': True,\n",
       "   '_weight_mean': -0.7765795673544585,\n",
       "   '_weight_std': 0.001},\n",
       "  '(-27, 3)': {'key': [{'T': None, 'base': None}, 3],\n",
       "   'enabled': True,\n",
       "   '_weight_mean': 1.5225133424230817,\n",
       "   '_weight_std': 0.001},\n",
       "  '(-27, 4)': {'key': [{'T': None, 'base': None}, 4],\n",
       "   'enabled': True,\n",
       "   '_weight_mean': -0.9221662714222691,\n",
       "   '_weight_std': 0.001},\n",
       "  '(-27, 5)': {'key': [{'T': None, 'base': None}, 5],\n",
       "   'enabled': True,\n",
       "   '_weight_mean': 0.2902204922104604,\n",
       "   '_weight_std': 0.001},\n",
       "  '(-27, 6)': {'key': [{'T': None, 'base': None}, 6],\n",
       "   'enabled': True,\n",
       "   '_weight_mean': 1.569496760756227,\n",
       "   '_weight_std': 0.001},\n",
       "  '(-27, 7)': {'key': [{'T': None, 'base': None}, 7],\n",
       "   'enabled': True,\n",
       "   '_weight_mean': 0.057770756618069616,\n",
       "   '_weight_std': 0.001},\n",
       "  '(-27, 8)': {'key': [{'T': None, 'base': None}, 8],\n",
       "   'enabled': True,\n",
       "   '_weight_mean': 0.5991345226551807,\n",
       "   '_weight_std': 0.001},\n",
       "  '(-27, 9)': {'key': [{'T': None, 'base': None}, 9],\n",
       "   'enabled': True,\n",
       "   '_weight_mean': 0.43955335419479086,\n",
       "   '_weight_std': 0.001},\n",
       "  '(-147, 0)': {'key': [{'T': None, 'base': None}, 0],\n",
       "   'enabled': True,\n",
       "   '_weight_mean': 0.8832628390136147,\n",
       "   '_weight_std': 0.001},\n",
       "  '(-147, 1)': {'key': [{'T': None, 'base': None}, 1],\n",
       "   'enabled': True,\n",
       "   '_weight_mean': 0.08210353700728723,\n",
       "   '_weight_std': 0.001},\n",
       "  '(-147, 2)': {'key': [{'T': None, 'base': None}, 2],\n",
       "   'enabled': True,\n",
       "   '_weight_mean': 0.2701962188682427,\n",
       "   '_weight_std': 0.001},\n",
       "  '(-147, 3)': {'key': [{'T': None, 'base': None}, 3],\n",
       "   'enabled': True,\n",
       "   '_weight_mean': -0.8632227243419515,\n",
       "   '_weight_std': 0.001},\n",
       "  '(-147, 4)': {'key': [{'T': None, 'base': None}, 4],\n",
       "   'enabled': True,\n",
       "   '_weight_mean': 1.5391936013301393,\n",
       "   '_weight_std': 0.001},\n",
       "  '(-147, 5)': {'key': [{'T': None, 'base': None}, 5],\n",
       "   'enabled': True,\n",
       "   '_weight_mean': 0.6194136589934363,\n",
       "   '_weight_std': 0.001},\n",
       "  '(-147, 6)': {'key': [{'T': None, 'base': None}, 6],\n",
       "   'enabled': True,\n",
       "   '_weight_mean': 0.6245862709305301,\n",
       "   '_weight_std': 0.001},\n",
       "  '(-147, 8)': {'key': [{'T': None, 'base': None}, 8],\n",
       "   'enabled': True,\n",
       "   '_weight_mean': -1.061094196589736,\n",
       "   '_weight_std': 0.001},\n",
       "  '(-147, 9)': {'key': [{'T': None, 'base': None}, 9],\n",
       "   'enabled': True,\n",
       "   '_weight_mean': 0.27296196628147085,\n",
       "   '_weight_std': 0.001},\n",
       "  '(-29, 0)': {'key': [{'T': None, 'base': None}, 0],\n",
       "   'enabled': True,\n",
       "   '_weight_mean': -0.015192604482918037,\n",
       "   '_weight_std': 0.001},\n",
       "  '(-29, 1)': {'key': [{'T': None, 'base': None}, 1],\n",
       "   'enabled': True,\n",
       "   '_weight_mean': -0.11054094283647936,\n",
       "   '_weight_std': 0.001},\n",
       "  '(-29, 2)': {'key': [{'T': None, 'base': None}, 2],\n",
       "   'enabled': True,\n",
       "   '_weight_mean': -0.19794781353593327,\n",
       "   '_weight_std': 0.001},\n",
       "  '(-29, 3)': {'key': [{'T': None, 'base': None}, 3],\n",
       "   'enabled': True,\n",
       "   '_weight_mean': -1.1626221796776008,\n",
       "   '_weight_std': 0.001},\n",
       "  '(-29, 4)': {'key': [{'T': None, 'base': None}, 4],\n",
       "   'enabled': True,\n",
       "   '_weight_mean': -0.45363233884392984,\n",
       "   '_weight_std': 0.001},\n",
       "  '(-29, 5)': {'key': [{'T': None, 'base': None}, 5],\n",
       "   'enabled': True,\n",
       "   '_weight_mean': -0.02196173862005857,\n",
       "   '_weight_std': 0.001},\n",
       "  '(-29, 6)': {'key': [{'T': None, 'base': None}, 6],\n",
       "   'enabled': True,\n",
       "   '_weight_mean': -0.24297624499088685,\n",
       "   '_weight_std': 0.001},\n",
       "  '(-29, 7)': {'key': [{'T': None, 'base': None}, 7],\n",
       "   'enabled': True,\n",
       "   '_weight_mean': 0.7426318302546322,\n",
       "   '_weight_std': 0.001},\n",
       "  '(-29, 8)': {'key': [{'T': None, 'base': None}, 8],\n",
       "   'enabled': True,\n",
       "   '_weight_mean': -0.9410719929699725,\n",
       "   '_weight_std': 0.001},\n",
       "  '(-29, 9)': {'key': [{'T': None, 'base': None}, 9],\n",
       "   'enabled': True,\n",
       "   '_weight_mean': 1.1733879898370232,\n",
       "   '_weight_std': 0.001},\n",
       "  '(-192, 0)': {'key': [{'T': None, 'base': None}, 0],\n",
       "   'enabled': True,\n",
       "   '_weight_mean': 0.21831798551294485,\n",
       "   '_weight_std': 0.001},\n",
       "  '(-192, 1)': {'key': [{'T': None, 'base': None}, 1],\n",
       "   'enabled': True,\n",
       "   '_weight_mean': -0.009030636308545281,\n",
       "   '_weight_std': 0.001},\n",
       "  '(-192, 2)': {'key': [{'T': None, 'base': None}, 2],\n",
       "   'enabled': True,\n",
       "   '_weight_mean': -1.8177581651279002,\n",
       "   '_weight_std': 0.001},\n",
       "  '(-192, 3)': {'key': [{'T': None, 'base': None}, 3],\n",
       "   'enabled': True,\n",
       "   '_weight_mean': 0.3846077406801802,\n",
       "   '_weight_std': 0.001},\n",
       "  '(-192, 4)': {'key': [{'T': None, 'base': None}, 4],\n",
       "   'enabled': True,\n",
       "   '_weight_mean': 0.904684185055801,\n",
       "   '_weight_std': 0.001},\n",
       "  '(-192, 5)': {'key': [{'T': None, 'base': None}, 5],\n",
       "   'enabled': True,\n",
       "   '_weight_mean': 0.7789841058478318,\n",
       "   '_weight_std': 0.001},\n",
       "  '(-192, 6)': {'key': [{'T': None, 'base': None}, 6],\n",
       "   'enabled': True,\n",
       "   '_weight_mean': -0.8131158214493803,\n",
       "   '_weight_std': 0.001},\n",
       "  '(-192, 7)': {'key': [{'T': None, 'base': None}, 7],\n",
       "   'enabled': True,\n",
       "   '_weight_mean': 2.0,\n",
       "   '_weight_std': 0.001},\n",
       "  '(-192, 8)': {'key': [{'T': None, 'base': None}, 8],\n",
       "   'enabled': True,\n",
       "   '_weight_mean': 1.9407923209917106,\n",
       "   '_weight_std': 0.001},\n",
       "  '(-192, 9)': {'key': [{'T': None, 'base': None}, 9],\n",
       "   'enabled': True,\n",
       "   '_weight_mean': -0.7881165641993579,\n",
       "   '_weight_std': 0.001},\n",
       "  '(-235, 0)': {'key': [{'T': None, 'base': None}, 0],\n",
       "   'enabled': True,\n",
       "   '_weight_mean': -0.057783932314286295,\n",
       "   '_weight_std': 0.001},\n",
       "  '(-235, 1)': {'key': [{'T': None, 'base': None}, 1],\n",
       "   'enabled': True,\n",
       "   '_weight_mean': -0.1549102678594756,\n",
       "   '_weight_std': 0.001},\n",
       "  '(-235, 2)': {'key': [{'T': None, 'base': None}, 2],\n",
       "   'enabled': True,\n",
       "   '_weight_mean': 0.6049779774949187,\n",
       "   '_weight_std': 0.001},\n",
       "  '(-235, 3)': {'key': [{'T': None, 'base': None}, 3],\n",
       "   'enabled': True,\n",
       "   '_weight_mean': 1.625534750402753,\n",
       "   '_weight_std': 0.001},\n",
       "  '(-235, 4)': {'key': [{'T': None, 'base': None}, 4],\n",
       "   'enabled': True,\n",
       "   '_weight_mean': -1.7940580315585755,\n",
       "   '_weight_std': 0.001},\n",
       "  '(-235, 5)': {'key': [{'T': None, 'base': None}, 5],\n",
       "   'enabled': True,\n",
       "   '_weight_mean': -0.678840528630662,\n",
       "   '_weight_std': 0.001},\n",
       "  '(-235, 6)': {'key': [{'T': None, 'base': None}, 6],\n",
       "   'enabled': True,\n",
       "   '_weight_mean': 0.640442006450881,\n",
       "   '_weight_std': 0.001},\n",
       "  '(-235, 7)': {'key': [{'T': None, 'base': None}, 7],\n",
       "   'enabled': True,\n",
       "   '_weight_mean': -0.7090275340873159,\n",
       "   '_weight_std': 0.001},\n",
       "  '(-235, 8)': {'key': [{'T': None, 'base': None}, 8],\n",
       "   'enabled': True,\n",
       "   '_weight_mean': -1.4798093385530489,\n",
       "   '_weight_std': 0.001},\n",
       "  '(-235, 9)': {'key': [{'T': None, 'base': None}, 9],\n",
       "   'enabled': True,\n",
       "   '_weight_mean': -0.6616662367236325,\n",
       "   '_weight_std': 0.001},\n",
       "  '(-147, 10)': {'key': [{'T': None, 'base': None}, 10],\n",
       "   'enabled': True,\n",
       "   '_weight_mean': 1.297299208966129,\n",
       "   '_weight_std': 1e-06},\n",
       "  '(10, 7)': {'key': [10, 7],\n",
       "   'enabled': True,\n",
       "   '_weight_mean': 0.27690573230822063,\n",
       "   '_weight_std': 0.001},\n",
       "  '(-12, 8)': {'key': [-12, 8],\n",
       "   'enabled': True,\n",
       "   '_weight_mean': 0.27538791617144404,\n",
       "   '_weight_std': 0.001}},\n",
       " 'node_genes': {'0': {'key': 0,\n",
       "   'activation': 'tanh',\n",
       "   'aggregation': 'sum',\n",
       "   '_bias_mean': -1.0,\n",
       "   '_bias_std': 0.001},\n",
       "  '1': {'key': 1,\n",
       "   'activation': 'tanh',\n",
       "   'aggregation': 'sum',\n",
       "   '_bias_mean': 0.5711125690438381,\n",
       "   '_bias_std': 0.001},\n",
       "  '2': {'key': 2,\n",
       "   'activation': 'tanh',\n",
       "   'aggregation': 'sum',\n",
       "   '_bias_mean': -0.6442700373159117,\n",
       "   '_bias_std': 0.001},\n",
       "  '3': {'key': 3,\n",
       "   'activation': 'tanh',\n",
       "   'aggregation': 'sum',\n",
       "   '_bias_mean': 1.0,\n",
       "   '_bias_std': 0.001},\n",
       "  '4': {'key': 4,\n",
       "   'activation': 'tanh',\n",
       "   'aggregation': 'sum',\n",
       "   '_bias_mean': -0.07521189895962496,\n",
       "   '_bias_std': 0.001},\n",
       "  '5': {'key': 5,\n",
       "   'activation': 'tanh',\n",
       "   'aggregation': 'sum',\n",
       "   '_bias_mean': 1.0,\n",
       "   '_bias_std': 0.001},\n",
       "  '6': {'key': 6,\n",
       "   'activation': 'tanh',\n",
       "   'aggregation': 'sum',\n",
       "   '_bias_mean': 0.6134235498136119,\n",
       "   '_bias_std': 0.001},\n",
       "  '7': {'key': 7,\n",
       "   'activation': 'tanh',\n",
       "   'aggregation': 'sum',\n",
       "   '_bias_mean': 0.8557425767074076,\n",
       "   '_bias_std': 0.001},\n",
       "  '8': {'key': 8,\n",
       "   'activation': 'tanh',\n",
       "   'aggregation': 'sum',\n",
       "   '_bias_mean': 0.4977539678263565,\n",
       "   '_bias_std': 0.001},\n",
       "  '9': {'key': 9,\n",
       "   'activation': 'tanh',\n",
       "   'aggregation': 'sum',\n",
       "   '_bias_mean': 0.8093766696171989,\n",
       "   '_bias_std': 0.001},\n",
       "  '10': {'key': 10,\n",
       "   'activation': 'tanh',\n",
       "   'aggregation': 'sum',\n",
       "   '_bias_mean': 0.009029568928662385,\n",
       "   '_bias_std': 0.001}},\n",
       " 'n_bias_parameters': 22,\n",
       " 'n_weight_parameters': 104,\n",
       " 'config': {'batch_size': 100000000,\n",
       "  'beta_type': 'other',\n",
       "  'bias_mean_discrete': [-1, 0.0, 1],\n",
       "  'bias_mean_init_mean': 0.0,\n",
       "  'bias_mean_init_std': 1.0,\n",
       "  'bias_mean_max_value': 1.0,\n",
       "  'bias_mean_min_value': -1.0,\n",
       "  'bias_mean_prior': 0.0,\n",
       "  'bias_mutate_power': 0.5,\n",
       "  'bias_mutate_rate': 0.7,\n",
       "  'bias_replace_rate': 0.1,\n",
       "  'bias_std_discrete': [0.1, 0.5, 1.0],\n",
       "  'bias_std_init_mean': 0.001,\n",
       "  'bias_std_init_std': 0.0,\n",
       "  'bias_std_max_value': 0.5,\n",
       "  'bias_std_min_value': 1e-06,\n",
       "  'bias_std_prior': 1.0,\n",
       "  'compatibility_disjoint_coefficient': 1.0,\n",
       "  'compatibility_threshold': 2.5,\n",
       "  'compatibility_weight_coefficient': 0.5,\n",
       "  'connection_add_prob': 0.6,\n",
       "  'connection_delete_prob': 0.0,\n",
       "  'dataset': 'mnist_downsampled',\n",
       "  'elitism': 2,\n",
       "  'feed_forward': True,\n",
       "  'fix_architecture': False,\n",
       "  'fix_std': True,\n",
       "  'is_discrete': 0,\n",
       "  'is_gpu': False,\n",
       "  'is_initial_fully_connected': False,\n",
       "  'log_network': True,\n",
       "  'log_time': True,\n",
       "  'max_stagnation': 30,\n",
       "  'min_species_size': 2,\n",
       "  'mutate_power': 0.5,\n",
       "  'mutate_rate': 0.8,\n",
       "  'n_generations': 100,\n",
       "  'n_initial_hidden_neurons': 0,\n",
       "  'n_input': 256,\n",
       "  'n_output': 10,\n",
       "  'n_processes': 5,\n",
       "  'n_samples': 100,\n",
       "  'node_activation': 'tanh',\n",
       "  'node_add_prob': 0.4,\n",
       "  'node_aggregation': 'sum',\n",
       "  'node_delete_prob': 0.0,\n",
       "  'parallel_evaluation': 1,\n",
       "  'pop_size': 150,\n",
       "  'problem_type': 'classification',\n",
       "  'replace_rate': 0.1,\n",
       "  'response_init_mean': 1.0,\n",
       "  'response_init_std': 0.0,\n",
       "  'response_max_value': 30.0,\n",
       "  'response_min_value': -30.0,\n",
       "  'response_mutate_power': 0.0,\n",
       "  'response_mutate_rate': 0.0,\n",
       "  'response_replace_rate': 0.0,\n",
       "  'single_structural_mutation': False,\n",
       "  'species_elitism': 2,\n",
       "  'species_fitness_function': 'max',\n",
       "  'survival_threshold': 0.2,\n",
       "  'weight_mean_discrete': [-1, 0.0, 1],\n",
       "  'weight_mean_init_mean': 0,\n",
       "  'weight_mean_init_std': 1,\n",
       "  'weight_mean_max_value': 2,\n",
       "  'weight_mean_min_value': -2,\n",
       "  'weight_mean_prior': 0.0,\n",
       "  'weight_std_discrete': [0.1, 0.5, 1.0],\n",
       "  'weight_std_init_mean': 0.001,\n",
       "  'weight_std_init_std': 0,\n",
       "  'weight_std_max_value': 0.5,\n",
       "  'weight_std_min_value': 1e-06,\n",
       "  'weight_std_prior': 1.0}}"
      ]
     },
     "execution_count": 99,
     "metadata": {},
     "output_type": "execute_result"
    }
   ],
   "source": [
    "genome_dict"
   ]
  },
  {
   "cell_type": "code",
   "execution_count": 62,
   "metadata": {},
   "outputs": [],
   "source": [
    "loss = get_loss(problem_type=config.problem_type)\n",
    "dataset = get_dataset(config.dataset, testing=True)"
   ]
  },
  {
   "cell_type": "code",
   "execution_count": 63,
   "metadata": {},
   "outputs": [
    {
     "name": "stdout",
     "output_type": "stream",
     "text": [
      "tensor([7, 2, 1,  ..., 4, 5, 6])\n"
     ]
    },
    {
     "data": {
      "text/plain": [
       "tensor([[0.4928, 1.4135, 0.5382,  ..., 0.5254, 0.9140, 1.2830],\n",
       "        [0.4928, 1.4135, 0.5382,  ..., 0.5254, 0.9140, 1.2830],\n",
       "        [0.4928, 1.4135, 0.5382,  ..., 0.5254, 0.9140, 1.2830],\n",
       "        ...,\n",
       "        [0.4928, 1.3018, 0.5382,  ..., 0.5254, 0.9140, 1.2830],\n",
       "        [0.4928, 1.4135, 0.5382,  ..., 0.5254, 0.9140, 1.2830],\n",
       "        [0.4927, 0.8056, 0.5382,  ..., 0.5254, 0.9140, 1.2830]])"
      ]
     },
     "execution_count": 63,
     "metadata": {},
     "output_type": "execute_result"
    }
   ],
   "source": [
    "x, y_true, y_pred, loss_value = evaluate_genome(genome=genome,\n",
    "                                                    dataset=dataset,\n",
    "                                                    loss=loss,\n",
    "                                                    problem_type=config.problem_type,\n",
    "                                                    beta_type=config.beta_type,\n",
    "                                                    batch_size=config.batch_size,\n",
    "                                                    n_samples=1,\n",
    "                                                    is_gpu=config.is_gpu,\n",
    "                                                    return_all=True)\n",
    "print(y_true)\n",
    "y_pred"
   ]
  },
  {
   "cell_type": "code",
   "execution_count": 64,
   "metadata": {},
   "outputs": [
    {
     "data": {
      "text/plain": [
       "2.334423065185547"
      ]
     },
     "execution_count": 64,
     "metadata": {},
     "output_type": "execute_result"
    }
   ],
   "source": [
    "loss_value"
   ]
  },
  {
   "cell_type": "code",
   "execution_count": 65,
   "metadata": {},
   "outputs": [
    {
     "data": {
      "text/plain": [
       "torch.Size([10000, 256])"
      ]
     },
     "execution_count": 65,
     "metadata": {},
     "output_type": "execute_result"
    }
   ],
   "source": [
    "x.shape"
   ]
  },
  {
   "cell_type": "code",
   "execution_count": 66,
   "metadata": {},
   "outputs": [
    {
     "data": {
      "text/plain": [
       "torch.Size([10000])"
      ]
     },
     "execution_count": 66,
     "metadata": {},
     "output_type": "execute_result"
    }
   ],
   "source": [
    "y_true.shape"
   ]
  },
  {
   "cell_type": "code",
   "execution_count": 67,
   "metadata": {},
   "outputs": [
    {
     "data": {
      "text/plain": [
       "torch.Size([10000, 10])"
      ]
     },
     "execution_count": 67,
     "metadata": {},
     "output_type": "execute_result"
    }
   ],
   "source": [
    "y_pred.shape"
   ]
  },
  {
   "cell_type": "code",
   "execution_count": 68,
   "metadata": {},
   "outputs": [
    {
     "name": "stdout",
     "output_type": "stream",
     "text": [
      "0.001\n",
      "0.001\n",
      "0.001\n",
      "0.001\n",
      "0.001\n",
      "0.001\n",
      "0.001\n",
      "0.001\n",
      "0.001\n",
      "0.001\n",
      "0.001\n"
     ]
    }
   ],
   "source": [
    "for connection in genome_dict['connection_genes'].values():\n",
    "#     connection['_weight_std'] = 0.000000001\n",
    "    value = connection['_weight_std']\n",
    "    print(value)"
   ]
  },
  {
   "cell_type": "code",
   "execution_count": 69,
   "metadata": {},
   "outputs": [
    {
     "name": "stdout",
     "output_type": "stream",
     "text": [
      "0.001\n",
      "0.001\n",
      "0.001\n",
      "0.001\n",
      "0.001\n",
      "0.001\n",
      "0.001\n",
      "0.001\n",
      "0.001\n",
      "0.001\n"
     ]
    }
   ],
   "source": [
    "for connection in genome_dict['node_genes'].values():\n",
    "    value = connection['_bias_std']\n",
    "#     connection['_bias_std'] = 0.000000001\n",
    "    print(value)"
   ]
  },
  {
   "cell_type": "markdown",
   "metadata": {},
   "source": [
    "## Show graph"
   ]
  },
  {
   "cell_type": "code",
   "execution_count": 77,
   "metadata": {},
   "outputs": [],
   "source": [
    "from neat.plotting.plot_network import plot_genome_network"
   ]
  },
  {
   "cell_type": "code",
   "execution_count": 82,
   "metadata": {},
   "outputs": [
    {
     "data": {
      "text/plain": [
       "None"
      ]
     },
     "metadata": {},
     "output_type": "display_data"
    }
   ],
   "source": [
    "display(plot_genome_network(genome))"
   ]
  },
  {
   "cell_type": "code",
   "execution_count": null,
   "metadata": {},
   "outputs": [],
   "source": []
  },
  {
   "cell_type": "code",
   "execution_count": 118,
   "metadata": {},
   "outputs": [
    {
     "data": {
      "text/plain": [
       "{'0': {'key': 0,\n",
       "  'activation': 'tanh',\n",
       "  'aggregation': 'sum',\n",
       "  '_bias_mean': 0.8057251123197042,\n",
       "  '_bias_std': 0.001},\n",
       " '1': {'key': 1,\n",
       "  'activation': 'tanh',\n",
       "  'aggregation': 'sum',\n",
       "  '_bias_mean': 1.0,\n",
       "  '_bias_std': 0.001},\n",
       " '2': {'key': 2,\n",
       "  'activation': 'tanh',\n",
       "  'aggregation': 'sum',\n",
       "  '_bias_mean': 1.0,\n",
       "  '_bias_std': 0.001},\n",
       " '3': {'key': 3,\n",
       "  'activation': 'tanh',\n",
       "  'aggregation': 'sum',\n",
       "  '_bias_mean': -1.0,\n",
       "  '_bias_std': 0.001},\n",
       " '4': {'key': 4,\n",
       "  'activation': 'tanh',\n",
       "  'aggregation': 'sum',\n",
       "  '_bias_mean': -0.34778403774296407,\n",
       "  '_bias_std': 0.001},\n",
       " '5': {'key': 5,\n",
       "  'activation': 'tanh',\n",
       "  'aggregation': 'sum',\n",
       "  '_bias_mean': -0.3556845272430937,\n",
       "  '_bias_std': 0.001},\n",
       " '6': {'key': 6,\n",
       "  'activation': 'tanh',\n",
       "  'aggregation': 'sum',\n",
       "  '_bias_mean': 1.0,\n",
       "  '_bias_std': 0.001},\n",
       " '7': {'key': 7,\n",
       "  'activation': 'tanh',\n",
       "  'aggregation': 'sum',\n",
       "  '_bias_mean': -0.1276673725763255,\n",
       "  '_bias_std': 0.001},\n",
       " '8': {'key': 8,\n",
       "  'activation': 'tanh',\n",
       "  'aggregation': 'sum',\n",
       "  '_bias_mean': -0.9226219014706433,\n",
       "  '_bias_std': 0.001}}"
      ]
     },
     "execution_count": 118,
     "metadata": {},
     "output_type": "execute_result"
    }
   ],
   "source": [
    "genome_dict['node_genes']"
   ]
  },
  {
   "cell_type": "code",
   "execution_count": null,
   "metadata": {},
   "outputs": [],
   "source": []
  },
  {
   "cell_type": "code",
   "execution_count": 9,
   "metadata": {},
   "outputs": [],
   "source": [
    "config_file = 'mnist_downsampled'\n",
    "config = create_configuration(filename=f'/{config_file}.json')"
   ]
  },
  {
   "cell_type": "code",
   "execution_count": 13,
   "metadata": {},
   "outputs": [],
   "source": [
    "# TODO: better mechanism for override\n",
    "config.pop_size = 20\n",
    "# config.n_samples = 50\n",
    "#\n",
    "config.n_generations = 300\n",
    "config.node_add_prob = 0.5\n",
    "config.n_output = 2\n",
    "config.n_processes = 2\n",
    "\n",
    "\n",
    "ALGORITHM_VERSION = 'bayes-neat'\n",
    "DATASET = 'mnist_binary'\n",
    "# CORRELATION_ID = 'parameters_grid'\n",
    "CORRELATION_ID = 'solve_binary'"
   ]
  },
  {
   "cell_type": "code",
   "execution_count": 14,
   "metadata": {},
   "outputs": [],
   "source": [
    "report_repository = ReportRepository.create(project='neuro-evolution', logs_path=LOGS_PATH)\n",
    "notifier = SlackNotifier.create(channel='batch-jobs')"
   ]
  },
  {
   "cell_type": "code",
   "execution_count": 15,
   "metadata": {},
   "outputs": [],
   "source": [
    "report = EvolutionReport(report_repository=report_repository,\n",
    "                         algorithm_version=ALGORITHM_VERSION,\n",
    "                         dataset=DATASET,\n",
    "                         correlation_id=CORRELATION_ID)"
   ]
  },
  {
   "cell_type": "code",
   "execution_count": 16,
   "metadata": {},
   "outputs": [
    {
     "name": "stdout",
     "output_type": "stream",
     "text": [
      "GETTING DATASET\n",
      "GETTING DATASET\n"
     ]
    }
   ],
   "source": [
    "population_engine = PopulationEngine(stagnation_engine=Stagnation())\n",
    "speciation_engine = SpeciationEngine()\n",
    "evaluation_engine = EvaluationStochasticEngine()"
   ]
  },
  {
   "cell_type": "code",
   "execution_count": 17,
   "metadata": {},
   "outputs": [
    {
     "data": {
      "text/plain": [
       "2"
      ]
     },
     "execution_count": 17,
     "metadata": {},
     "output_type": "execute_result"
    }
   ],
   "source": [
    "evaluation_engine.n_processes"
   ]
  },
  {
   "cell_type": "markdown",
   "metadata": {},
   "source": [
    "### Initialize"
   ]
  },
  {
   "cell_type": "code",
   "execution_count": 18,
   "metadata": {},
   "outputs": [
    {
     "name": "stdout",
     "output_type": "stream",
     "text": [
      "2020-03-19 18:15:03,708 - INFO - Generation 0. Best fitness: -198.308. N-Parameters Best: 8\n",
      "2020-03-19 18:15:03,709 - INFO -                          Mean fitness: -199.773. Mean N-Parameters: 8.0\n",
      "2020-03-19 18:15:03,710 - INFO -     New best individual (20) found with fitness -198.308\n",
      "GETTING DATASET\n",
      "Confusion Matrix:\n",
      "[[48435 49565]\n",
      " [56598 56902]]\n",
      "Accuracy: 49.8047281323877 %\n"
     ]
    }
   ],
   "source": [
    "end_condition = 'normal'\n",
    "# try:\n",
    "# initialize population\n",
    "population = population_engine.initialize_population()\n",
    "speciation_engine.speciate(population, generation=0)\n",
    "\n",
    "population = evaluation_engine.evaluate(population=population)\n",
    "\n",
    "# report\n",
    "report.report_new_generation(generation=0,\n",
    "                                  population=population,\n",
    "                                  species=speciation_engine.species)"
   ]
  },
  {
   "cell_type": "code",
   "execution_count": 22,
   "metadata": {},
   "outputs": [],
   "source": [
    "def run_generation(generation, population):\n",
    "    \n",
    "    # create new generation's population\n",
    "    population = population_engine.reproduce(species=speciation_engine.species,\n",
    "                                             pop_size=population_engine.pop_size,\n",
    "                                             generation=generation)\n",
    "    # create new species based on new population\n",
    "    speciation_engine.speciate(population, generation=generation)\n",
    "\n",
    "    # evaluate\n",
    "    population = evaluation_engine.evaluate(population=population)\n",
    "\n",
    "    # generation report\n",
    "    report.report_new_generation(generation=generation,\n",
    "                                 population=population,\n",
    "                                 species=speciation_engine.species)\n",
    "    generation += 1\n",
    "    return population"
   ]
  },
  {
   "cell_type": "code",
   "execution_count": 23,
   "metadata": {},
   "outputs": [],
   "source": [
    "generation = 1"
   ]
  },
  {
   "cell_type": "code",
   "execution_count": 27,
   "metadata": {},
   "outputs": [
    {
     "name": "stdout",
     "output_type": "stream",
     "text": [
      "2020-03-20 09:39:33,083 - INFO - Generation 3. Best fitness: -0.956. N-Parameters Best: 24\n",
      "2020-03-20 09:39:33,083 - INFO -                          Mean fitness: -21.167. Mean N-Parameters: 22.8\n"
     ]
    }
   ],
   "source": [
    "generation += 1\n",
    "population = run_generation(generation, population)"
   ]
  },
  {
   "cell_type": "code",
   "execution_count": null,
   "metadata": {},
   "outputs": [],
   "source": []
  },
  {
   "cell_type": "code",
   "execution_count": null,
   "metadata": {},
   "outputs": [],
   "source": []
  },
  {
   "cell_type": "markdown",
   "metadata": {},
   "source": [
    "### Check evaluation results"
   ]
  },
  {
   "cell_type": "code",
   "execution_count": 31,
   "metadata": {},
   "outputs": [],
   "source": [
    "from neat.evaluation.evaluate_simple import evaluate_genome\n",
    "from neat.evaluation.utils import get_dataset\n",
    "from neat.loss.vi_loss import get_loss, get_beta"
   ]
  },
  {
   "cell_type": "code",
   "execution_count": 29,
   "metadata": {},
   "outputs": [],
   "source": [
    "testing = False"
   ]
  },
  {
   "cell_type": "code",
   "execution_count": 33,
   "metadata": {},
   "outputs": [
    {
     "name": "stdout",
     "output_type": "stream",
     "text": [
      "GETTING DATASET\n"
     ]
    }
   ],
   "source": [
    "dataset = get_dataset(config.dataset, testing=testing)\n",
    "loss = get_loss(problem_type=config.problem_type)"
   ]
  }
 ],
 "metadata": {
  "kernelspec": {
   "display_name": "Python 3",
   "language": "python",
   "name": "python3"
  },
  "language_info": {
   "codemirror_mode": {
    "name": "ipython",
    "version": 3
   },
   "file_extension": ".py",
   "mimetype": "text/x-python",
   "name": "python",
   "nbconvert_exporter": "python",
   "pygments_lexer": "ipython3",
   "version": "3.7.6"
  }
 },
 "nbformat": 4,
 "nbformat_minor": 4
}
