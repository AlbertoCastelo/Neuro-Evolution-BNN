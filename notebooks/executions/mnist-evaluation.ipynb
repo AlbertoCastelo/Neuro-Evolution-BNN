{
 "cells": [
  {
   "cell_type": "code",
   "execution_count": 1,
   "metadata": {},
   "outputs": [],
   "source": [
    "import os"
   ]
  },
  {
   "cell_type": "code",
   "execution_count": 2,
   "metadata": {},
   "outputs": [
    {
     "name": "stdout",
     "output_type": "stream",
     "text": [
      "/home/jovyan/notebooks/executions\n"
     ]
    }
   ],
   "source": [
    "!pwd"
   ]
  },
  {
   "cell_type": "code",
   "execution_count": 3,
   "metadata": {},
   "outputs": [],
   "source": [
    "import sys\n",
    "sys.path.append('/home/jovyan/')"
   ]
  },
  {
   "cell_type": "code",
   "execution_count": 20,
   "metadata": {},
   "outputs": [],
   "source": [
    "from experiments.reporting.report_repository import ReportRepository\n",
    "from experiments.slack_client import SlackNotifier\n",
    "from neat.neat_logger import get_neat_logger\n",
    "from neat.population_engine import EvolutionEngine\n",
    "from neat.reporting.reports_pyneat import EvolutionReport\n",
    "from neat.utils import timeit\n",
    "import math\n",
    "import random\n",
    "from itertools import count\n",
    "import numpy as np\n",
    "\n",
    "from experiments.logger import logger\n",
    "from experiments.slack_client import Notifier\n",
    "from neat.configuration import get_configuration\n",
    "from neat.evaluation.evaluation_engine import EvaluationStochasticEngine\n",
    "from neat.evolution_operators.crossover import Crossover\n",
    "from neat.evolution_operators.mutation import Mutation\n",
    "from neat.genome import Genome\n",
    "from neat.reporting.reports_pyneat import EvolutionReport\n",
    "from neat.species import SpeciationEngine\n",
    "from neat.stagnation import Stagnation\n",
    "from neat.population_engine import PopulationEngine\n",
    "from neat.utils import timeit\n",
    "import neat\n",
    "import tests\n",
    "from config_files.configuration_utils import create_configuration\n",
    "from neat.configuration import get_configuration, set_configuration\n",
    "from neat.evaluation.evaluation_engine import evaluate_genome, get_dataset\n",
    "from neat.genome import Genome\n",
    "import os\n",
    "from neat.loss.vi_loss import get_loss"
   ]
  },
  {
   "cell_type": "code",
   "execution_count": 7,
   "metadata": {},
   "outputs": [],
   "source": [
    "# dir(neat)"
   ]
  },
  {
   "cell_type": "code",
   "execution_count": 12,
   "metadata": {},
   "outputs": [],
   "source": [
    "LOGS_PATH = f'{os.getcwd()}/'\n",
    "logger = get_neat_logger(path=LOGS_PATH)"
   ]
  },
  {
   "cell_type": "markdown",
   "metadata": {},
   "source": [
    "### Configuration"
   ]
  },
  {
   "cell_type": "code",
   "execution_count": 17,
   "metadata": {},
   "outputs": [],
   "source": [
    "execution_id = 'cb3a361c-922a-4fd1-9368-1fc341cc9d1f'\n",
    "\n",
    "DATASET = 'mnist_downsampled'\n",
    "ALGORITHM_VERSION = 'bayes-neat'\n",
    "CORRELATION_ID = 'test'"
   ]
  },
  {
   "cell_type": "code",
   "execution_count": 60,
   "metadata": {},
   "outputs": [],
   "source": [
    "execution_id = '2014fc1f-50e0-42b8-800e-69102967c77f' # -0.22\n",
    "DATASET = 'mnist_binary'\n",
    "ALGORITHM_VERSION = 'bayes-neat'\n",
    "CORRELATION_ID = 'test'"
   ]
  },
  {
   "cell_type": "code",
   "execution_count": 61,
   "metadata": {},
   "outputs": [],
   "source": [
    "report_repository = ReportRepository.create(project='neuro-evolution', logs_path=LOGS_PATH)\n",
    "report = report_repository.get_report(algorithm_version=ALGORITHM_VERSION,\n",
    "                                      dataset=DATASET,\n",
    "                                      correlation_id=CORRELATION_ID,\n",
    "                                      execution_id=execution_id)"
   ]
  },
  {
   "cell_type": "code",
   "execution_count": 62,
   "metadata": {},
   "outputs": [
    {
     "name": "stdout",
     "output_type": "stream",
     "text": [
      "Fitness of best individual: -0.22891931235790253\n"
     ]
    }
   ],
   "source": [
    "genome_dict = report.data['best_individual']\n",
    "best_individual_fitness = report.data['best_individual_fitness']\n",
    "print(f'Fitness of best individual: {best_individual_fitness}')\n",
    "\n",
    "genome = Genome.from_dict(genome_dict)\n",
    "config = genome.genome_config\n",
    "set_configuration(config)"
   ]
  },
  {
   "cell_type": "code",
   "execution_count": 63,
   "metadata": {},
   "outputs": [],
   "source": [
    "loss = get_loss(problem_type=config.problem_type)\n",
    "dataset = get_dataset(config.dataset, testing=True)"
   ]
  },
  {
   "cell_type": "code",
   "execution_count": 84,
   "metadata": {},
   "outputs": [
    {
     "data": {
      "text/plain": [
       "tensor([[-1.8887, -0.2791],\n",
       "        [ 0.0899, -2.0238],\n",
       "        [-2.0788, -0.0517],\n",
       "        ...,\n",
       "        [-1.9617, -0.3691],\n",
       "        [-1.9380,  0.1089],\n",
       "        [-1.8734, -0.2372]])"
      ]
     },
     "execution_count": 84,
     "metadata": {},
     "output_type": "execute_result"
    }
   ],
   "source": [
    "x, y_true, y_pred, loss_value = evaluate_genome(genome=genome,\n",
    "                                                    dataset=dataset,\n",
    "                                                    loss=loss,\n",
    "                                                    problem_type=config.problem_type,\n",
    "                                                    beta_type=config.beta_type,\n",
    "                                                    batch_size=config.batch_size,\n",
    "                                                    n_samples=1,\n",
    "                                                    is_gpu=config.is_gpu,\n",
    "                                                    return_all=True)\n",
    "y_pred"
   ]
  },
  {
   "cell_type": "code",
   "execution_count": 36,
   "metadata": {},
   "outputs": [
    {
     "data": {
      "text/plain": [
       "1.0810025930404663"
      ]
     },
     "execution_count": 36,
     "metadata": {},
     "output_type": "execute_result"
    }
   ],
   "source": [
    "loss_value"
   ]
  },
  {
   "cell_type": "code",
   "execution_count": 37,
   "metadata": {},
   "outputs": [
    {
     "data": {
      "text/plain": [
       "torch.Size([6294, 256])"
      ]
     },
     "execution_count": 37,
     "metadata": {},
     "output_type": "execute_result"
    }
   ],
   "source": [
    "x.shape"
   ]
  },
  {
   "cell_type": "code",
   "execution_count": 38,
   "metadata": {},
   "outputs": [
    {
     "data": {
      "text/plain": [
       "torch.Size([6294])"
      ]
     },
     "execution_count": 38,
     "metadata": {},
     "output_type": "execute_result"
    }
   ],
   "source": [
    "y_true.shape"
   ]
  },
  {
   "cell_type": "code",
   "execution_count": 39,
   "metadata": {},
   "outputs": [
    {
     "data": {
      "text/plain": [
       "torch.Size([6294, 3])"
      ]
     },
     "execution_count": 39,
     "metadata": {},
     "output_type": "execute_result"
    }
   ],
   "source": [
    "y_pred.shape"
   ]
  },
  {
   "cell_type": "code",
   "execution_count": 43,
   "metadata": {},
   "outputs": [
    {
     "data": {
      "text/plain": [
       "tensor([[0.8302, 1.2244, 1.1759],\n",
       "        [1.0470, 1.5022, 0.6096],\n",
       "        [0.7147, 0.7841, 0.8060],\n",
       "        ...,\n",
       "        [1.6271, 0.6469, 0.6078],\n",
       "        [0.9101, 0.9244, 0.8592],\n",
       "        [1.0603, 0.3310, 1.1989]])"
      ]
     },
     "execution_count": 43,
     "metadata": {},
     "output_type": "execute_result"
    }
   ],
   "source": [
    "y_pred"
   ]
  },
  {
   "cell_type": "code",
   "execution_count": 9,
   "metadata": {},
   "outputs": [],
   "source": [
    "config_file = 'mnist_downsampled'\n",
    "config = create_configuration(filename=f'/{config_file}.json')"
   ]
  },
  {
   "cell_type": "code",
   "execution_count": 13,
   "metadata": {},
   "outputs": [],
   "source": [
    "# TODO: better mechanism for override\n",
    "config.pop_size = 20\n",
    "# config.n_samples = 50\n",
    "#\n",
    "config.n_generations = 300\n",
    "config.node_add_prob = 0.5\n",
    "config.n_output = 2\n",
    "config.n_processes = 2\n",
    "\n",
    "\n",
    "ALGORITHM_VERSION = 'bayes-neat'\n",
    "DATASET = 'mnist_binary'\n",
    "# CORRELATION_ID = 'parameters_grid'\n",
    "CORRELATION_ID = 'solve_binary'"
   ]
  },
  {
   "cell_type": "code",
   "execution_count": 14,
   "metadata": {},
   "outputs": [],
   "source": [
    "report_repository = ReportRepository.create(project='neuro-evolution', logs_path=LOGS_PATH)\n",
    "notifier = SlackNotifier.create(channel='batch-jobs')"
   ]
  },
  {
   "cell_type": "code",
   "execution_count": 15,
   "metadata": {},
   "outputs": [],
   "source": [
    "report = EvolutionReport(report_repository=report_repository,\n",
    "                         algorithm_version=ALGORITHM_VERSION,\n",
    "                         dataset=DATASET,\n",
    "                         correlation_id=CORRELATION_ID)"
   ]
  },
  {
   "cell_type": "code",
   "execution_count": 16,
   "metadata": {},
   "outputs": [
    {
     "name": "stdout",
     "output_type": "stream",
     "text": [
      "GETTING DATASET\n",
      "GETTING DATASET\n"
     ]
    }
   ],
   "source": [
    "population_engine = PopulationEngine(stagnation_engine=Stagnation())\n",
    "speciation_engine = SpeciationEngine()\n",
    "evaluation_engine = EvaluationStochasticEngine()"
   ]
  },
  {
   "cell_type": "code",
   "execution_count": 17,
   "metadata": {},
   "outputs": [
    {
     "data": {
      "text/plain": [
       "2"
      ]
     },
     "execution_count": 17,
     "metadata": {},
     "output_type": "execute_result"
    }
   ],
   "source": [
    "evaluation_engine.n_processes"
   ]
  },
  {
   "cell_type": "markdown",
   "metadata": {},
   "source": [
    "### Initialize"
   ]
  },
  {
   "cell_type": "code",
   "execution_count": 18,
   "metadata": {},
   "outputs": [
    {
     "name": "stdout",
     "output_type": "stream",
     "text": [
      "2020-03-19 18:15:03,708 - INFO - Generation 0. Best fitness: -198.308. N-Parameters Best: 8\n",
      "2020-03-19 18:15:03,709 - INFO -                          Mean fitness: -199.773. Mean N-Parameters: 8.0\n",
      "2020-03-19 18:15:03,710 - INFO -     New best individual (20) found with fitness -198.308\n",
      "GETTING DATASET\n",
      "Confusion Matrix:\n",
      "[[48435 49565]\n",
      " [56598 56902]]\n",
      "Accuracy: 49.8047281323877 %\n"
     ]
    }
   ],
   "source": [
    "end_condition = 'normal'\n",
    "# try:\n",
    "# initialize population\n",
    "population = population_engine.initialize_population()\n",
    "speciation_engine.speciate(population, generation=0)\n",
    "\n",
    "population = evaluation_engine.evaluate(population=population)\n",
    "\n",
    "# report\n",
    "report.report_new_generation(generation=0,\n",
    "                                  population=population,\n",
    "                                  species=speciation_engine.species)"
   ]
  },
  {
   "cell_type": "code",
   "execution_count": 22,
   "metadata": {},
   "outputs": [],
   "source": [
    "def run_generation(generation, population):\n",
    "    \n",
    "    # create new generation's population\n",
    "    population = population_engine.reproduce(species=speciation_engine.species,\n",
    "                                             pop_size=population_engine.pop_size,\n",
    "                                             generation=generation)\n",
    "    # create new species based on new population\n",
    "    speciation_engine.speciate(population, generation=generation)\n",
    "\n",
    "    # evaluate\n",
    "    population = evaluation_engine.evaluate(population=population)\n",
    "\n",
    "    # generation report\n",
    "    report.report_new_generation(generation=generation,\n",
    "                                 population=population,\n",
    "                                 species=speciation_engine.species)\n",
    "    generation += 1\n",
    "    return population"
   ]
  },
  {
   "cell_type": "code",
   "execution_count": 23,
   "metadata": {},
   "outputs": [],
   "source": [
    "generation = 1"
   ]
  },
  {
   "cell_type": "code",
   "execution_count": 27,
   "metadata": {},
   "outputs": [
    {
     "name": "stdout",
     "output_type": "stream",
     "text": [
      "2020-03-20 09:39:33,083 - INFO - Generation 3. Best fitness: -0.956. N-Parameters Best: 24\n",
      "2020-03-20 09:39:33,083 - INFO -                          Mean fitness: -21.167. Mean N-Parameters: 22.8\n"
     ]
    }
   ],
   "source": [
    "generation += 1\n",
    "population = run_generation(generation, population)"
   ]
  },
  {
   "cell_type": "code",
   "execution_count": null,
   "metadata": {},
   "outputs": [],
   "source": []
  },
  {
   "cell_type": "code",
   "execution_count": null,
   "metadata": {},
   "outputs": [],
   "source": []
  },
  {
   "cell_type": "markdown",
   "metadata": {},
   "source": [
    "### Check evaluation results"
   ]
  },
  {
   "cell_type": "code",
   "execution_count": 31,
   "metadata": {},
   "outputs": [],
   "source": [
    "from neat.evaluation.evaluate_simple import evaluate_genome\n",
    "from neat.evaluation.utils import get_dataset\n",
    "from neat.loss.vi_loss import get_loss, get_beta"
   ]
  },
  {
   "cell_type": "code",
   "execution_count": 29,
   "metadata": {},
   "outputs": [],
   "source": [
    "testing = False"
   ]
  },
  {
   "cell_type": "code",
   "execution_count": 33,
   "metadata": {},
   "outputs": [
    {
     "name": "stdout",
     "output_type": "stream",
     "text": [
      "GETTING DATASET\n"
     ]
    }
   ],
   "source": [
    "dataset = get_dataset(config.dataset, testing=testing)\n",
    "loss = get_loss(problem_type=config.problem_type)"
   ]
  }
 ],
 "metadata": {
  "kernelspec": {
   "display_name": "Python 3",
   "language": "python",
   "name": "python3"
  },
  "language_info": {
   "codemirror_mode": {
    "name": "ipython",
    "version": 3
   },
   "file_extension": ".py",
   "mimetype": "text/x-python",
   "name": "python",
   "nbconvert_exporter": "python",
   "pygments_lexer": "ipython3",
   "version": "3.7.6"
  }
 },
 "nbformat": 4,
 "nbformat_minor": 4
}
