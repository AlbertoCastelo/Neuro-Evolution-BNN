{
 "cells": [
  {
   "cell_type": "code",
   "execution_count": 1,
   "metadata": {},
   "outputs": [],
   "source": [
    "import sys\n",
    "sys.path.append('/home/jovyan/')\n",
    "import numba\n",
    "import copy\n",
    "# from tests.utils.generate_genome import generate_genome_with_hidden_units\n"
   ]
  },
  {
   "cell_type": "code",
   "execution_count": 2,
   "metadata": {},
   "outputs": [],
   "source": [
    "from itertools import product\n",
    "import itertools\n",
    "from neat.gene import NodeGene, ConnectionGene\n",
    "from neat.genome import Genome\n",
    "from config_files.configuration_utils import create_configuration\n",
    "\n",
    "\n",
    "\n",
    "def generate_genome_with_hidden_units(n_input, n_output, n_hidden=3):\n",
    "    # nodes\n",
    "    node_genes = {}\n",
    "    for i in range(n_output + n_hidden):\n",
    "        node_genes = add_node(node_genes, key=i)\n",
    "\n",
    "    # connections\n",
    "    # input to hidden\n",
    "    connection_genes = {}\n",
    "    input_hidden_tuples = list(product(list(range(-1, -n_input-1, -1)),\n",
    "                                       list(range(n_output, n_output+n_hidden))))\n",
    "    for tuple_ in input_hidden_tuples:\n",
    "        connection_genes = add_connection(connection_genes, key=tuple_)\n",
    "\n",
    "    # hidden to output\n",
    "    hidden_output_tuples = list(product(list(range(n_output, n_output + n_hidden)),\n",
    "                                        list(range(0, n_output))))\n",
    "    for tuple_ in hidden_output_tuples:\n",
    "        connection_genes = add_connection(connection_genes, key=tuple_)\n",
    "\n",
    "    # initialize genome\n",
    "    genome = Genome(key=1)\n",
    "    genome.node_genes = node_genes\n",
    "    genome.connection_genes = connection_genes\n",
    "    return genome\n",
    "\n",
    "\n",
    "\n",
    "def add_node(node_genes, key):\n",
    "    node_i = NodeGene(key=key)\n",
    "    node_i.random_initialization()\n",
    "    node_genes[key] = node_i\n",
    "    return node_genes\n",
    "\n",
    "\n",
    "def add_connection(connection_genes, key):\n",
    "    connection_i = ConnectionGene(key=key)\n",
    "    connection_i.random_initialization()\n",
    "    connection_genes[key] = connection_i\n",
    "    return connection_genes"
   ]
  },
  {
   "cell_type": "code",
   "execution_count": 3,
   "metadata": {},
   "outputs": [],
   "source": [
    "def test_implementation():\n",
    "    connections = [(1, 2), (2, 3), (3, 1)]\n",
    "    if not exist_cycle_numba(connections):\n",
    "        print(f'Error 1')\n",
    "    \n",
    "\n",
    "#     def test_exists_cycle_positive_b(self):\n",
    "    connections = [(1, 2), (2, 3), (1, 4), (4, 3), (3, 1)]\n",
    "    if not exist_cycle_numba(connections):\n",
    "        print(f'Error 2')\n",
    "#         self.assertEqual(True, exist_cycle_numba(connections))\n",
    "\n",
    "#     def test_exists_cycle_when_negative_a(self):\n",
    "    connections = [(1, 2), (2, 3), (3, 4)]\n",
    "    if exist_cycle_numba(connections):\n",
    "        print(f'Error 3')\n",
    "#         self.assertEqual(False, exist_cycle_numba(connections))\n",
    "\n",
    "#     def test_exists_cycle_when_negative_b(self):\n",
    "    connections = [(1, 2), (2, 3), (1, 4), (4, 3), (3, 5)]\n",
    "    if exist_cycle_numba(connections):\n",
    "        print(f'Error 4')\n",
    "#         self.assertEqual(False, exist_cycle_numba(connections))\n",
    "\n",
    "#     def test_exists_cycle_when_negative_c(self):\n",
    "    connections = [(-1, 1), (-1, 2), (-1, 3), (-2, 1), (-2, 2), (-2, 3), (1, 0), (2, 0), (3, 0), (1, 2)]\n",
    "    if exist_cycle_numba(connections):\n",
    "        print(f'Error 5')\n",
    "#         self.assertEqual(False, exist_cycle_numba(connections))\n",
    "\n",
    "#     def test_self_recursive(self):\n",
    "    connections = [(1, 1)]\n",
    "    if not exist_cycle_numba(connections):\n",
    "        print(f'Error 6')\n",
    "#         self.assertEqual(True, exist_cycle_numba(connections))\n",
    "\n",
    "#     def test_self_recursive_b(self):\n",
    "    connections = [(-1, 1), (-1, 2), (-1, 3), (-2, 1),  (-2, 2), (-2, 3), (1, 0), (2, 0), (3, 0), (2, 2)]\n",
    "    if not exist_cycle_numba(connections):\n",
    "        print(f'Error 7')\n",
    "#         self.assertEqual(True, exist_cycle_numba(connections))"
   ]
  },
  {
   "cell_type": "code",
   "execution_count": 14,
   "metadata": {},
   "outputs": [],
   "source": [
    "# @numba.jit(nopython=True)\n",
    "# @numba.jit\n",
    "def _go_through_graph(node_in, graph, past=[]):\n",
    "    if node_in in graph.keys():\n",
    "        for node in graph[node_in]:\n",
    "            if node in past:\n",
    "                return True\n",
    "            else:\n",
    "                past_copy = copy.deepcopy(past)\n",
    "                past_copy.append(node_in)\n",
    "                if _go_through_graph(node_in=node, graph=graph, past=past_copy):\n",
    "                    return True\n",
    "    else:\n",
    "        return False\n",
    "        \n",
    "\n",
    "def exist_cycle_numba(connections: list) -> bool:\n",
    "    # change data structure\n",
    "    con = _get_connections_per_node(connections)\n",
    "#     print(con)\n",
    "    for node_in, nodes_out in con.items():\n",
    "        if _go_through_graph(node_in, graph=con, past=[]):\n",
    "            return True\n",
    "    return False\n",
    "\n",
    "\n",
    "def _get_connections_per_node(connections: list, inverse_order=False):\n",
    "    '''\n",
    "    :param connections: eg. ((-1, 1), (1, 2), (2, 3), (2, 4))\n",
    "    :param inverse_order: whether it follows the input to output direction or the output to input direction\n",
    "    :return: {-1: [1], 1: [2], 2: [3, 4]\n",
    "    '''\n",
    "    con = {}\n",
    "    for connection in connections:\n",
    "        input_node_key, output_node_key = connection\n",
    "        if inverse_order:\n",
    "            output_node_key, input_node_key = connection\n",
    "        if input_node_key in con:\n",
    "            con[input_node_key].append(output_node_key)\n",
    "        else:\n",
    "            con[input_node_key] = [output_node_key]\n",
    "    return con"
   ]
  },
  {
   "cell_type": "code",
   "execution_count": 15,
   "metadata": {},
   "outputs": [
    {
     "name": "stdout",
     "output_type": "stream",
     "text": [
      "137 µs ± 1.17 µs per loop (mean ± std. dev. of 7 runs, 10000 loops each)\n"
     ]
    }
   ],
   "source": [
    "%timeit test_implementation()"
   ]
  },
  {
   "cell_type": "code",
   "execution_count": 16,
   "metadata": {},
   "outputs": [],
   "source": [
    "def _remove_connection_that_introduces_cycles(genome: Genome, possible_connection_set: set) -> set:\n",
    "    connections_to_remove = []\n",
    "    for connection in possible_connection_set:\n",
    "        connections = list(genome.connection_genes.keys()) + [connection]\n",
    "\n",
    "        if exist_cycle_numba(connections=connections):\n",
    "            connections_to_remove.append(connection)\n",
    "#     logger.debug(f'connections that introduce cycles: {connections_to_remove}')\n",
    "    possible_connection_set -= set(connections_to_remove)\n",
    "    return possible_connection_set"
   ]
  },
  {
   "cell_type": "code",
   "execution_count": 17,
   "metadata": {},
   "outputs": [],
   "source": [
    "config = create_configuration(filename='/regression-miso.json')\n",
    "out_node_key = 5\n",
    "genome = generate_genome_with_hidden_units(n_input=5, n_output=10, n_hidden=100)\n",
    "\n",
    "# all nodes\n",
    "possible_input_keys_set = set(genome.node_genes.keys()).union(set(genome.get_input_nodes_keys()))\n",
    "\n",
    "# no connection between two output nodes\n",
    "possible_input_keys_set -= set(genome.get_output_nodes_keys())\n",
    "\n",
    "if config.feed_forward:\n",
    "    # avoid self-recurrency\n",
    "    possible_input_keys_set -= {out_node_key}\n",
    "    # pass\n",
    "\n",
    "# REMOVE POSSIBLE CONNECTIONS\n",
    "possible_connection_set = set(itertools.product(list(possible_input_keys_set), [out_node_key]))\n",
    "\n",
    "# remove already existing connections: don't duplicate connections\n",
    "possible_connection_set -= set(genome.connection_genes.keys())"
   ]
  },
  {
   "cell_type": "code",
   "execution_count": 19,
   "metadata": {},
   "outputs": [
    {
     "name": "stdout",
     "output_type": "stream",
     "text": [
      "172 ms ± 1.05 ms per loop (mean ± std. dev. of 7 runs, 10 loops each)\n"
     ]
    }
   ],
   "source": [
    "%timeit _remove_connection_that_introduces_cycles(genome, possible_connection_set)"
   ]
  },
  {
   "cell_type": "code",
   "execution_count": null,
   "metadata": {},
   "outputs": [],
   "source": []
  }
 ],
 "metadata": {
  "kernelspec": {
   "display_name": "Python 3",
   "language": "python",
   "name": "python3"
  },
  "language_info": {
   "codemirror_mode": {
    "name": "ipython",
    "version": 3
   },
   "file_extension": ".py",
   "mimetype": "text/x-python",
   "name": "python",
   "nbconvert_exporter": "python",
   "pygments_lexer": "ipython3",
   "version": "3.7.6"
  }
 },
 "nbformat": 4,
 "nbformat_minor": 4
}
