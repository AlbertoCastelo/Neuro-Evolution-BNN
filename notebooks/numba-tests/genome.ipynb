{
 "cells": [
  {
   "cell_type": "code",
   "execution_count": 1,
   "metadata": {},
   "outputs": [],
   "source": [
    "import numba\n",
    "from numba import types, typed\n",
    "\n",
    "import numpy as np"
   ]
  },
  {
   "cell_type": "code",
   "execution_count": 30,
   "metadata": {},
   "outputs": [],
   "source": [
    "spec_connection = [('key', types.ListType(types.int32)),\n",
    "                   ('mutate_rate', types.float64),\n",
    "                   ('mean_weight_values', types.float64[:]),\n",
    "                   ('std_weight_values', types.float64[:]),\n",
    "                   ('mean_weight', types.float64),\n",
    "                   ('std_weight', types.float64)]\n",
    "@numba.jitclass(spec_connection)\n",
    "class ConnectionNB:\n",
    "    def __init__(key, mutate_rate, mean_weight_values, std_weight_values):\n",
    "        self.key = key\n",
    "        self.mutate_rate = mutate_rate\n",
    "        self.mean_weight_values = mean_weight_values\n",
    "        self.std_weight_values = std_weight_values\n",
    "        self.mean_weight = 0.0\n",
    "        self.std_weight = 0.0\n",
    "    \n",
    "        self._mutate_mean()\n",
    "        self._mutate_std()\n",
    "        \n",
    "    def get_mean_weight(self):\n",
    "        return self.mean_bias\n",
    "    \n",
    "    def get_std_bias(self):\n",
    "        return self.std_bias\n",
    "    \n",
    "    def get_key(self):\n",
    "        return self.key\n",
    "    \n",
    "    def mutate_mean(self):\n",
    "        r = np.random.random()\n",
    "        if r < self.mutate_rate:\n",
    "            self._mutate_mean()\n",
    "    \n",
    "    def _mutate_mean(self):\n",
    "        self.mean_weight = np.random.choice(self.mean_weight_values, size=1)[0]\n",
    "        \n",
    "    def mutate_std(self):\n",
    "        r = np.random.random()\n",
    "        if r < self.mutate_rate:\n",
    "            self._mutate_std()\n",
    "            \n",
    "    def _mutate_std(self):\n",
    "        self.std_weight = np.random.choice(self.std_weight_values, size=1)[0]"
   ]
  },
  {
   "cell_type": "code",
   "execution_count": 24,
   "metadata": {},
   "outputs": [],
   "source": [
    "spec_node = [('key', types.int64),\n",
    "             ('mutate_rate', types.float64),\n",
    "             ('mean_bias_values', types.float64[:]),\n",
    "             ('std_bias_values', types.float64[:]),\n",
    "             ('mean_bias', types.float64),\n",
    "             ('std_bias', types.float64)]\n",
    "\n",
    "@numba.jitclass(spec_node)\n",
    "class NodeNB:\n",
    "    \n",
    "    def __init__(self, key, mutate_rate, mean_bias_values, std_bias_values):\n",
    "        self.key = key\n",
    "        self.mutate_rate = mutate_rate\n",
    "        self.mean_bias_values = mean_bias_values\n",
    "        self.std_bias_values = std_bias_values\n",
    "        self.mean_bias = 0.0\n",
    "        self.std_bias = 0.0\n",
    "        \n",
    "        self._mutate_mean()\n",
    "        self._mutate_std()\n",
    "        \n",
    "    def get_mean_bias(self):\n",
    "        return self.mean_bias\n",
    "    \n",
    "    def get_std_bias(self):\n",
    "        return self.std_bias\n",
    "    \n",
    "    def get_key(self):\n",
    "        return self.key\n",
    "    \n",
    "    def mutate_mean(self):\n",
    "        r = np.random.random()\n",
    "        if r < self.mutate_rate:\n",
    "            self._mutate_mean()\n",
    "    \n",
    "    def _mutate_mean(self):\n",
    "        self.mean_bias = np.random.choice(self.mean_bias_values, size=1)[0]\n",
    "    \n",
    "    def mutate_std(self):\n",
    "        r = np.random.random()\n",
    "        if r < self.mutate_rate:\n",
    "            self._mutate_std()\n",
    "            \n",
    "    def _mutate_std(self):\n",
    "        self.std_bias = np.random.choice(self.std_bias_values, size=1)[0]"
   ]
  },
  {
   "cell_type": "code",
   "execution_count": 25,
   "metadata": {},
   "outputs": [],
   "source": [
    "nodes_dict_type = (types.int32, NodeNB)\n",
    "connections_dict_type = (types.ListType(types.int32), ConnectionNB)\n",
    "\n",
    "# A container class with:\n",
    "# * member 'd' holding a typed dictionary of int64 -> unicode string (kv_ty)\n",
    "# * member 'l' holding a typed list of float64\n",
    "spec_genome = [('key', types.int32),\n",
    "               ('n_input', types.int16),\n",
    "               ('n_output', types.int16),\n",
    "               ('node_genes', types.DictType(*nodes_dict_type)),\n",
    "               ('connection_genes', types.DictType(*connections_dict_type)),\n",
    "               ('fitness', types.float64)]\n",
    "\n",
    "\n",
    "\n",
    "@numba.jitclass(spec_genome)\n",
    "class GenomeNB:\n",
    "    def __init__(self, key, n_input, n_output):\n",
    "        self.key = key\n",
    "        self.n_input = n_input\n",
    "        self.n_output = n_output\n",
    "        \n",
    "        self.node_genes = typed.Dict.empty(*nodes_dict_type)\n",
    "        self.connection_genes = typed.Dict.empty(*connections_dict_type)\n",
    "        \n",
    "        self.fitness = 0\n",
    "    \n",
    "    def get_key(self):\n",
    "        return self.key\n",
    "    \n",
    "    def set_node_genes(self, node_genes):\n",
    "        self.node_genes = node_genes\n",
    "    \n",
    "    def get_node_genes(self):\n",
    "        return self.node_genes\n",
    "    \n",
    "    def set_connection_genes(self, connection_genes):\n",
    "        self.connection_genes = connection_genes\n",
    "    \n",
    "    def get_connection_genes(self):\n",
    "        return self.connection_genes\n",
    "    \n",
    "    def set_fitness(self, fitness):\n",
    "        self.fitness = fitness\n",
    "        \n",
    "    def get_fitness(self):\n",
    "        return self.fitness"
   ]
  },
  {
   "cell_type": "code",
   "execution_count": 31,
   "metadata": {},
   "outputs": [],
   "source": [
    "@numba.njit()\n",
    "def get_numba_array(list_):\n",
    "    return np.array(list_)\n",
    "\n",
    "\n",
    "@numba.njit(debug=True)\n",
    "def initialize_nodes(n_nodes, mutate_rate, mean_bias_values, std_bias_values):\n",
    "    nodes = {}\n",
    "    for i in range(n_nodes):\n",
    "        node = NodeNB(i, \n",
    "                      mutate_rate, \n",
    "                      mean_bias_values, \n",
    "                      std_bias_values)\n",
    "\n",
    "        nodes[i] = node\n",
    "    return nodes\n",
    "\n",
    "\n",
    "@numba.njit(debug=True)\n",
    "def initialize_connections(n_connections, mutate_rate, mean_weight_values, std_weight_values):\n",
    "    connections = {}\n",
    "    for i in range(n_connections):\n",
    "        connection = ConnectionNB([i, i-1], \n",
    "                      mutate_rate, \n",
    "                      mean_weight_values, \n",
    "                      std_weight_values)\n",
    "\n",
    "        connections[i] = connection\n",
    "    return connections"
   ]
  },
  {
   "cell_type": "markdown",
   "metadata": {},
   "source": [
    "## Comparison"
   ]
  },
  {
   "cell_type": "code",
   "execution_count": 27,
   "metadata": {},
   "outputs": [
    {
     "name": "stderr",
     "output_type": "stream",
     "text": [
      "/home/alberto/.local/share/virtualenvs/Neuro-Evolution-BNN-_WcBvtZA/lib/python3.6/site-packages/numba/ir_utils.py:1969: NumbaPendingDeprecationWarning: \n",
      "Encountered the use of a type that is scheduled for deprecation: type 'reflected list' found for argument 'list_' of function 'get_numba_array'.\n",
      "\n",
      "For more information visit http://numba.pydata.org/numba-doc/latest/reference/deprecation.html#deprecation-of-reflection-for-list-and-set-types\n",
      "\n",
      "File \"<ipython-input-26-11b13204c307>\", line 2:\n",
      "@numba.njit()\n",
      "def get_numba_array(list_):\n",
      "^\n",
      "\n",
      "  warnings.warn(NumbaPendingDeprecationWarning(msg, loc=loc))\n"
     ]
    }
   ],
   "source": [
    "n_nodes = 5000000\n",
    "n_connections = 30000\n",
    "mutate_rate = 0.5\n",
    "\n",
    "mean_bias_values = [-0.2, 0.0, 0.2]\n",
    "std_bias_values = [0.05, 0.1, 0.5]\n",
    "\n",
    "\n",
    "typed_mean_bias_values = get_numba_array(mean_bias_values)\n",
    "typed_std_bias_values = get_numba_array(std_bias_values)\n",
    "\n",
    "\n",
    "mean_weight_values = [-0.2, 0.0, 0.2]\n",
    "std_weight_values = [0.05, 0.1, 0.5]\n",
    "\n",
    "typed_mean_weight_values = get_numba_array(mean_weight_values)\n",
    "typed_std_weight_values = get_numba_array(std_weight_values)\n"
   ]
  },
  {
   "cell_type": "code",
   "execution_count": 11,
   "metadata": {},
   "outputs": [],
   "source": []
  },
  {
   "cell_type": "code",
   "execution_count": 19,
   "metadata": {},
   "outputs": [
    {
     "name": "stdout",
     "output_type": "stream",
     "text": [
      "CPU times: user 2.85 s, sys: 233 ms, total: 3.09 s\n",
      "Wall time: 4.35 s\n"
     ]
    }
   ],
   "source": [
    "%%time\n",
    "nodes = initialize_nodes(n_nodes, mutate_rate, typed_mean_bias_values, typed_std_bias_values)"
   ]
  },
  {
   "cell_type": "code",
   "execution_count": 32,
   "metadata": {},
   "outputs": [
    {
     "ename": "TypingError",
     "evalue": "Failed in nopython mode pipeline (step: nopython frontend)\nInternal error at <numba.typeinfer.CallConstraint object at 0x7f022ee11828>.\ntoo many positional arguments\n[1] During: resolving callee type: jitclass.ConnectionNB#7f022ee2b8d0<key:ListType[int32],mutate_rate:float64,mean_weight_values:array(float64, 1d, A),std_weight_values:array(float64, 1d, A),mean_weight:float64,std_weight:float64>\n[2] During: typing of call at <ipython-input-31-11b13204c307> (26)\n\nEnable logging at debug level for details.\n\nFile \"<ipython-input-31-11b13204c307>\", line 26:\ndef initialize_connections(n_connections, mutate_rate, mean_weight_values, std_weight_values):\n    <source elided>\n                      mean_weight_values, \n                      std_weight_values)\n                      ^\n\nThis is not usually a problem with Numba itself but instead often caused by\nthe use of unsupported features or an issue in resolving types.\n\nTo see Python/NumPy features supported by the latest release of Numba visit:\nhttp://numba.pydata.org/numba-doc/latest/reference/pysupported.html\nand\nhttp://numba.pydata.org/numba-doc/latest/reference/numpysupported.html\n\nFor more information about typing errors and how to debug them visit:\nhttp://numba.pydata.org/numba-doc/latest/user/troubleshoot.html#my-code-doesn-t-compile\n\nIf you think your code should work with Numba, please report the error message\nand traceback, along with a minimal reproducer at:\nhttps://github.com/numba/numba/issues/new\n",
     "output_type": "error",
     "traceback": [
      "\u001b[0;31m---------------------------------------------------------------------------\u001b[0m",
      "\u001b[0;31mTypingError\u001b[0m                               Traceback (most recent call last)",
      "\u001b[0;32m<ipython-input-32-9b787cdfce4e>\u001b[0m in \u001b[0;36m<module>\u001b[0;34m\u001b[0m\n\u001b[0;32m----> 1\u001b[0;31m \u001b[0mconnections\u001b[0m \u001b[0;34m=\u001b[0m \u001b[0minitialize_connections\u001b[0m\u001b[0;34m(\u001b[0m\u001b[0mn_connections\u001b[0m\u001b[0;34m,\u001b[0m \u001b[0mmutate_rate\u001b[0m\u001b[0;34m,\u001b[0m \u001b[0mtyped_mean_bias_values\u001b[0m\u001b[0;34m,\u001b[0m \u001b[0mtyped_std_bias_values\u001b[0m\u001b[0;34m)\u001b[0m\u001b[0;34m\u001b[0m\u001b[0;34m\u001b[0m\u001b[0m\n\u001b[0m",
      "\u001b[0;32m~/.local/share/virtualenvs/Neuro-Evolution-BNN-_WcBvtZA/lib/python3.6/site-packages/numba/dispatcher.py\u001b[0m in \u001b[0;36m_compile_for_args\u001b[0;34m(self, *args, **kws)\u001b[0m\n\u001b[1;32m    399\u001b[0m                 \u001b[0me\u001b[0m\u001b[0;34m.\u001b[0m\u001b[0mpatch_message\u001b[0m\u001b[0;34m(\u001b[0m\u001b[0mmsg\u001b[0m\u001b[0;34m)\u001b[0m\u001b[0;34m\u001b[0m\u001b[0;34m\u001b[0m\u001b[0m\n\u001b[1;32m    400\u001b[0m \u001b[0;34m\u001b[0m\u001b[0m\n\u001b[0;32m--> 401\u001b[0;31m             \u001b[0merror_rewrite\u001b[0m\u001b[0;34m(\u001b[0m\u001b[0me\u001b[0m\u001b[0;34m,\u001b[0m \u001b[0;34m'typing'\u001b[0m\u001b[0;34m)\u001b[0m\u001b[0;34m\u001b[0m\u001b[0;34m\u001b[0m\u001b[0m\n\u001b[0m\u001b[1;32m    402\u001b[0m         \u001b[0;32mexcept\u001b[0m \u001b[0merrors\u001b[0m\u001b[0;34m.\u001b[0m\u001b[0mUnsupportedError\u001b[0m \u001b[0;32mas\u001b[0m \u001b[0me\u001b[0m\u001b[0;34m:\u001b[0m\u001b[0;34m\u001b[0m\u001b[0;34m\u001b[0m\u001b[0m\n\u001b[1;32m    403\u001b[0m             \u001b[0;31m# Something unsupported is present in the user code, add help info\u001b[0m\u001b[0;34m\u001b[0m\u001b[0;34m\u001b[0m\u001b[0;34m\u001b[0m\u001b[0m\n",
      "\u001b[0;32m~/.local/share/virtualenvs/Neuro-Evolution-BNN-_WcBvtZA/lib/python3.6/site-packages/numba/dispatcher.py\u001b[0m in \u001b[0;36merror_rewrite\u001b[0;34m(e, issue_type)\u001b[0m\n\u001b[1;32m    342\u001b[0m                 \u001b[0;32mraise\u001b[0m \u001b[0me\u001b[0m\u001b[0;34m\u001b[0m\u001b[0;34m\u001b[0m\u001b[0m\n\u001b[1;32m    343\u001b[0m             \u001b[0;32melse\u001b[0m\u001b[0;34m:\u001b[0m\u001b[0;34m\u001b[0m\u001b[0;34m\u001b[0m\u001b[0m\n\u001b[0;32m--> 344\u001b[0;31m                 \u001b[0mreraise\u001b[0m\u001b[0;34m(\u001b[0m\u001b[0mtype\u001b[0m\u001b[0;34m(\u001b[0m\u001b[0me\u001b[0m\u001b[0;34m)\u001b[0m\u001b[0;34m,\u001b[0m \u001b[0me\u001b[0m\u001b[0;34m,\u001b[0m \u001b[0;32mNone\u001b[0m\u001b[0;34m)\u001b[0m\u001b[0;34m\u001b[0m\u001b[0;34m\u001b[0m\u001b[0m\n\u001b[0m\u001b[1;32m    345\u001b[0m \u001b[0;34m\u001b[0m\u001b[0m\n\u001b[1;32m    346\u001b[0m         \u001b[0margtypes\u001b[0m \u001b[0;34m=\u001b[0m \u001b[0;34m[\u001b[0m\u001b[0;34m]\u001b[0m\u001b[0;34m\u001b[0m\u001b[0;34m\u001b[0m\u001b[0m\n",
      "\u001b[0;32m~/.local/share/virtualenvs/Neuro-Evolution-BNN-_WcBvtZA/lib/python3.6/site-packages/numba/six.py\u001b[0m in \u001b[0;36mreraise\u001b[0;34m(tp, value, tb)\u001b[0m\n\u001b[1;32m    666\u001b[0m             \u001b[0mvalue\u001b[0m \u001b[0;34m=\u001b[0m \u001b[0mtp\u001b[0m\u001b[0;34m(\u001b[0m\u001b[0;34m)\u001b[0m\u001b[0;34m\u001b[0m\u001b[0;34m\u001b[0m\u001b[0m\n\u001b[1;32m    667\u001b[0m         \u001b[0;32mif\u001b[0m \u001b[0mvalue\u001b[0m\u001b[0;34m.\u001b[0m\u001b[0m__traceback__\u001b[0m \u001b[0;32mis\u001b[0m \u001b[0;32mnot\u001b[0m \u001b[0mtb\u001b[0m\u001b[0;34m:\u001b[0m\u001b[0;34m\u001b[0m\u001b[0;34m\u001b[0m\u001b[0m\n\u001b[0;32m--> 668\u001b[0;31m             \u001b[0;32mraise\u001b[0m \u001b[0mvalue\u001b[0m\u001b[0;34m.\u001b[0m\u001b[0mwith_traceback\u001b[0m\u001b[0;34m(\u001b[0m\u001b[0mtb\u001b[0m\u001b[0;34m)\u001b[0m\u001b[0;34m\u001b[0m\u001b[0;34m\u001b[0m\u001b[0m\n\u001b[0m\u001b[1;32m    669\u001b[0m         \u001b[0;32mraise\u001b[0m \u001b[0mvalue\u001b[0m\u001b[0;34m\u001b[0m\u001b[0;34m\u001b[0m\u001b[0m\n\u001b[1;32m    670\u001b[0m \u001b[0;34m\u001b[0m\u001b[0m\n",
      "\u001b[0;31mTypingError\u001b[0m: Failed in nopython mode pipeline (step: nopython frontend)\nInternal error at <numba.typeinfer.CallConstraint object at 0x7f022ee11828>.\ntoo many positional arguments\n[1] During: resolving callee type: jitclass.ConnectionNB#7f022ee2b8d0<key:ListType[int32],mutate_rate:float64,mean_weight_values:array(float64, 1d, A),std_weight_values:array(float64, 1d, A),mean_weight:float64,std_weight:float64>\n[2] During: typing of call at <ipython-input-31-11b13204c307> (26)\n\nEnable logging at debug level for details.\n\nFile \"<ipython-input-31-11b13204c307>\", line 26:\ndef initialize_connections(n_connections, mutate_rate, mean_weight_values, std_weight_values):\n    <source elided>\n                      mean_weight_values, \n                      std_weight_values)\n                      ^\n\nThis is not usually a problem with Numba itself but instead often caused by\nthe use of unsupported features or an issue in resolving types.\n\nTo see Python/NumPy features supported by the latest release of Numba visit:\nhttp://numba.pydata.org/numba-doc/latest/reference/pysupported.html\nand\nhttp://numba.pydata.org/numba-doc/latest/reference/numpysupported.html\n\nFor more information about typing errors and how to debug them visit:\nhttp://numba.pydata.org/numba-doc/latest/user/troubleshoot.html#my-code-doesn-t-compile\n\nIf you think your code should work with Numba, please report the error message\nand traceback, along with a minimal reproducer at:\nhttps://github.com/numba/numba/issues/new\n"
     ]
    }
   ],
   "source": [
    "connections = initialize_connections(n_connections, mutate_rate, typed_mean_bias_values, typed_std_bias_values)"
   ]
  },
  {
   "cell_type": "code",
   "execution_count": 131,
   "metadata": {},
   "outputs": [],
   "source": [
    "# for i in range(100):\n",
    "#     print(nodes[i].get_key())\n",
    "#     print(nodes[i].get_mean_bias())"
   ]
  },
  {
   "cell_type": "code",
   "execution_count": 132,
   "metadata": {},
   "outputs": [
    {
     "name": "stdout",
     "output_type": "stream",
     "text": [
      "CPU times: user 1min 38s, sys: 909 ms, total: 1min 39s\n",
      "Wall time: 1min 43s\n"
     ]
    }
   ],
   "source": [
    "%%time\n",
    "nodes_py = initialize_nodes_simple(n_nodes, mutate_rate, typed_mean_bias_values, typed_std_bias_values)"
   ]
  }
 ],
 "metadata": {
  "kernelspec": {
   "display_name": "Python 3",
   "language": "python",
   "name": "python3"
  },
  "language_info": {
   "codemirror_mode": {
    "name": "ipython",
    "version": 3
   },
   "file_extension": ".py",
   "mimetype": "text/x-python",
   "name": "python",
   "nbconvert_exporter": "python",
   "pygments_lexer": "ipython3",
   "version": "3.6.8"
  }
 },
 "nbformat": 4,
 "nbformat_minor": 4
}
