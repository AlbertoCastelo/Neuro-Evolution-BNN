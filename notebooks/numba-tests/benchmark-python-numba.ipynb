{
 "cells": [
  {
   "cell_type": "code",
   "execution_count": 1,
   "metadata": {},
   "outputs": [],
   "source": [
    "import numba\n",
    "from numba import types, typed\n",
    "\n",
    "import numpy as np"
   ]
  },
  {
   "cell_type": "code",
   "execution_count": 5,
   "metadata": {
    "jupyter": {
     "source_hidden": true
    }
   },
   "outputs": [],
   "source": [
    "spec_connection = [('key', types.ListType(types.int32)),\n",
    "                   ('mutate_rate', types.float32),\n",
    "                   ('mean_weight', types.float32),\n",
    "                   ('std_weight', types.float32)]\n",
    "@numba.jitclass(spec_connection)\n",
    "class ConnectionNB:\n",
    "    def __init__(key):\n",
    "        self.key = key\n",
    "        self.mutate_rate = mutate_rate\n",
    "        self.mean_weight = 0.0\n",
    "        self.std_weight = 0.0"
   ]
  },
  {
   "cell_type": "code",
   "execution_count": 10,
   "metadata": {
    "jupyter": {
     "source_hidden": true
    }
   },
   "outputs": [],
   "source": [
    "nodes_dict_type = (types.int32, NodeNB)\n",
    "connections_dict_type = (types.ListType(types.int32), ConnectionNB)\n",
    "\n",
    "# A container class with:\n",
    "# * member 'd' holding a typed dictionary of int64 -> unicode string (kv_ty)\n",
    "# * member 'l' holding a typed list of float64\n",
    "spec_genome = [('key', types.int32),\n",
    "               ('n_input', types.int16),\n",
    "               ('n_output', types.int16),\n",
    "               ('node_genes', types.DictType(*nodes_dict_type)),\n",
    "               ('connection_genes', types.DictType(*connections_dict_type)),\n",
    "               ('fitness', types.float64)]\n",
    "\n",
    "\n",
    "\n",
    "@numba.jitclass(spec_genome)\n",
    "class GenomeNB:\n",
    "    def __init__(self, key, n_input, n_output):\n",
    "        self.key = key\n",
    "        self.n_input = n_input\n",
    "        self.n_output = n_output\n",
    "        \n",
    "        self.node_genes = typed.Dict.empty(*nodes_dict_type)\n",
    "        self.connection_genes = typed.Dict.empty(*connections_dict_type)\n",
    "        \n",
    "        self.fitness = 0\n",
    "    \n",
    "    def get_key(self):\n",
    "        return self.key\n",
    "    \n",
    "    def set_node_genes(self, node_genes):\n",
    "        self.node_genes = node_genes\n",
    "    \n",
    "    def get_node_genes(self):\n",
    "        return self.node_genes\n",
    "    \n",
    "    def set_connection_genes(self, connection_genes):\n",
    "        self.connection_genes = connection_genes\n",
    "    \n",
    "    def get_connection_genes(self):\n",
    "        return self.connection_genes\n",
    "    \n",
    "    def set_fitness(self, fitness):\n",
    "        self.fitness = fitness\n",
    "        \n",
    "    def get_fitness(self):\n",
    "        return self.fitness"
   ]
  },
  {
   "cell_type": "code",
   "execution_count": 2,
   "metadata": {},
   "outputs": [],
   "source": [
    "n_nodes = 50\n",
    "mutate_rate = 0.5\n",
    "\n",
    "mean_bias_values = [-0.2, 0.0, 0.2]\n",
    "std_bias_values = [0.05, 0.1, 0.5]"
   ]
  },
  {
   "cell_type": "markdown",
   "metadata": {},
   "source": [
    "## Numba Based"
   ]
  },
  {
   "cell_type": "code",
   "execution_count": 3,
   "metadata": {},
   "outputs": [],
   "source": [
    "spec_node = [('key', types.int32),\n",
    "             ('mutate_rate', types.float32),\n",
    "             ('mean_bias_values', types.float64[:]),\n",
    "             ('std_bias_values', types.float64[:]),\n",
    "             ('mean_bias', types.float64),\n",
    "             ('std_bias', types.float64)]\n",
    "#              ('mean_bias_values', types.ListType(types.float64)),\n",
    "#              ('std_bias_values', types.ListType(types.float64)),\n",
    "@numba.jitclass(spec_node)\n",
    "class NodeNB:\n",
    "    \n",
    "    def __init__(self, key, mutate_rate, mean_bias_values, std_bias_values):\n",
    "        self.key = key\n",
    "        self.mutate_rate = mutate_rate\n",
    "        self.mean_bias_values = mean_bias_values\n",
    "        self.std_bias_values = std_bias_values\n",
    "        self.mean_bias = 0.0\n",
    "        self.std_bias = 0.0\n",
    "        \n",
    "        self._mutate_mean()\n",
    "        self._mutate_std()\n",
    "        \n",
    "    def get_mean_bias(self):\n",
    "        return self.mean_bias\n",
    "    \n",
    "    def get_std_bias(self):\n",
    "        return self.std_bias\n",
    "    \n",
    "    def get_key(self):\n",
    "        return self.key\n",
    "    \n",
    "    def mutate_mean(self):\n",
    "        r = np.random.random()\n",
    "        if r < self.mutate_rate:\n",
    "            self._mutate_mean()\n",
    "    \n",
    "    def _mutate_mean(self):\n",
    "        self.mean_bias = np.random.choice(self.mean_bias_values, size=1)[0]\n",
    "        \n",
    "    def mutate_std(self):\n",
    "        r = np.random.random()\n",
    "        if r < self.mutate_rate:\n",
    "            self._mutate_std()\n",
    "            \n",
    "    def _mutate_std(self):\n",
    "        self.std_bias = np.random.choice(self.std_bias_values, size=1)[0]"
   ]
  },
  {
   "cell_type": "code",
   "execution_count": 119,
   "metadata": {},
   "outputs": [
    {
     "name": "stderr",
     "output_type": "stream",
     "text": [
      "/home/alberto/.local/share/virtualenvs/Neuro-Evolution-BNN-_WcBvtZA/lib/python3.6/site-packages/numba/ir_utils.py:1969: NumbaPendingDeprecationWarning: \n",
      "Encountered the use of a type that is scheduled for deprecation: type 'reflected list' found for argument 'list_' of function 'get_numba_array'.\n",
      "\n",
      "For more information visit http://numba.pydata.org/numba-doc/latest/reference/deprecation.html#deprecation-of-reflection-for-list-and-set-types\n",
      "\n",
      "File \"<ipython-input-119-3330e6ab0a04>\", line 2:\n",
      "@numba.njit()\n",
      "def get_numba_array(list_):\n",
      "^\n",
      "\n",
      "  warnings.warn(NumbaPendingDeprecationWarning(msg, loc=loc))\n"
     ]
    }
   ],
   "source": [
    "@numba.njit()\n",
    "def get_numba_array(list_):\n",
    "    return np.array(list_)\n",
    "\n",
    "typed_mean_bias_values = get_numba_array(mean_bias_values)\n",
    "typed_std_bias_values = get_numba_array(std_bias_values)\n",
    "\n",
    "@numba.njit(debug=True)\n",
    "def initialize_nodes(n_nodes, mutate_rate, mean_bias_values, std_bias_values):\n",
    "    nodes = {}\n",
    "    for i in range(n_nodes):\n",
    "        node = NodeNB(i, \n",
    "                      mutate_rate, \n",
    "                      mean_bias_values, \n",
    "                      std_bias_values)\n",
    "\n",
    "        nodes[i] = node\n",
    "    return nodes"
   ]
  },
  {
   "cell_type": "markdown",
   "metadata": {},
   "source": [
    "## Simple Python"
   ]
  },
  {
   "cell_type": "code",
   "execution_count": 108,
   "metadata": {},
   "outputs": [],
   "source": [
    "class Node:\n",
    "    \n",
    "    def __init__(self, key, mutate_rate, mean_bias_values, std_bias_values):\n",
    "        self.key = key\n",
    "        self.mutate_rate = mutate_rate\n",
    "        self.mean_bias_values = mean_bias_values\n",
    "        self.std_bias_values = std_bias_values\n",
    "        self.mean_bias = 0.0\n",
    "        self.std_bias = 0.0\n",
    "        \n",
    "    def get_mean_bias(self):\n",
    "        return self.mean_bias\n",
    "    \n",
    "    def get_std_bias(self):\n",
    "        return self.std_bias\n",
    "    \n",
    "#     def get_key(self):\n",
    "#         return self.key\n",
    "    \n",
    "    def mutate_mean(self):\n",
    "        r = np.random.random()\n",
    "        if r < self.mutate_rate:\n",
    "            self.mean_bias = np.random.choice(self.mean_bias_values, size=1)[0]\n",
    "        \n",
    "    def mutate_std(self):\n",
    "        r = np.random.random()\n",
    "        if r < self.mutate_rate:\n",
    "            self.std_bias = np.random.choice(self.std_bias_values, size=1)[0]"
   ]
  },
  {
   "cell_type": "code",
   "execution_count": 109,
   "metadata": {},
   "outputs": [],
   "source": [
    "def initialize_nodes_simple(n_nodes, mutate_rate, mean_bias_values, std_bias_values):\n",
    "    nodes = {}\n",
    "    for i in range(n_nodes):\n",
    "        node = Node(0, \n",
    "                  mutate_rate, \n",
    "                  mean_bias_values, \n",
    "                  std_bias_values)\n",
    "        node.mutate_mean()\n",
    "        node.mutate_std()\n",
    "        nodes[i] = node\n",
    "    return nodes"
   ]
  },
  {
   "cell_type": "markdown",
   "metadata": {},
   "source": [
    "## Comparison"
   ]
  },
  {
   "cell_type": "code",
   "execution_count": 129,
   "metadata": {},
   "outputs": [],
   "source": [
    "n_nodes = 5000000"
   ]
  },
  {
   "cell_type": "code",
   "execution_count": 130,
   "metadata": {},
   "outputs": [
    {
     "name": "stdout",
     "output_type": "stream",
     "text": [
      "CPU times: user 4.96 s, sys: 357 ms, total: 5.32 s\n",
      "Wall time: 5.35 s\n"
     ]
    }
   ],
   "source": [
    "%%time\n",
    "nodes = initialize_nodes(n_nodes, mutate_rate, typed_mean_bias_values, typed_std_bias_values)"
   ]
  },
  {
   "cell_type": "code",
   "execution_count": 131,
   "metadata": {},
   "outputs": [],
   "source": [
    "# for i in range(100):\n",
    "#     print(nodes[i].get_key())\n",
    "#     print(nodes[i].get_mean_bias())"
   ]
  },
  {
   "cell_type": "code",
   "execution_count": 132,
   "metadata": {},
   "outputs": [
    {
     "name": "stdout",
     "output_type": "stream",
     "text": [
      "CPU times: user 1min 38s, sys: 909 ms, total: 1min 39s\n",
      "Wall time: 1min 43s\n"
     ]
    }
   ],
   "source": [
    "%%time\n",
    "nodes_py = initialize_nodes_simple(n_nodes, mutate_rate, typed_mean_bias_values, typed_std_bias_values)"
   ]
  }
 ],
 "metadata": {
  "kernelspec": {
   "display_name": "Python 3",
   "language": "python",
   "name": "python3"
  },
  "language_info": {
   "codemirror_mode": {
    "name": "ipython",
    "version": 3
   },
   "file_extension": ".py",
   "mimetype": "text/x-python",
   "name": "python",
   "nbconvert_exporter": "python",
   "pygments_lexer": "ipython3",
   "version": "3.6.8"
  }
 },
 "nbformat": 4,
 "nbformat_minor": 4
}
