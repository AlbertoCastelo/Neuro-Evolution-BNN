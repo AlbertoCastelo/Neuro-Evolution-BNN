{
 "cells": [
  {
   "cell_type": "code",
   "execution_count": 13,
   "metadata": {},
   "outputs": [],
   "source": [
    "import sys\n",
    "sys.path.append('/home/jovyan/')\n",
    "import numba\n",
    "import copy\n",
    "# from tests.utils.generate_genome import generate_genome_with_hidden_units\n",
    "import itertools"
   ]
  },
  {
   "cell_type": "code",
   "execution_count": 15,
   "metadata": {},
   "outputs": [],
   "source": [
    "from experiments.reporting.report_repository import ReportRepository\n",
    "from experiments.slack_client import SlackNotifier\n",
    "from neat.neat_logger import get_neat_logger\n",
    "from neat.population_engine import EvolutionEngine\n",
    "from neat.reporting.reports_pyneat import EvolutionReport\n",
    "from neat.utils import timeit\n",
    "import math\n",
    "import random\n",
    "from itertools import count\n",
    "import numpy as np\n",
    "\n",
    "from experiments.logger import logger\n",
    "from experiments.slack_client import Notifier\n",
    "from experiments.object_repository.object_repository import ObjectRepository\n",
    "from experiments.reporting.report_repository import ReportPathFactory\n",
    "from neat.configuration import get_configuration\n",
    "from neat.evaluation.evaluation_engine import EvaluationStochasticEngine\n",
    "from neat.evolution_operators.crossover import Crossover\n",
    "from neat.evolution_operators.mutation import Mutation\n",
    "from neat.genome import Genome\n",
    "from neat.reporting.reports_pyneat import EvolutionReport\n",
    "from neat.species import SpeciationEngine\n",
    "from neat.stagnation import Stagnation\n",
    "from neat.population_engine import PopulationEngine\n",
    "from neat.utils import timeit\n",
    "import neat\n",
    "import tests\n",
    "from config_files.configuration_utils import create_configuration\n",
    "from neat.configuration import get_configuration, set_configuration\n",
    "from neat.evaluation.evaluation_engine import get_dataset\n",
    "from neat.evaluation.evaluate_simple import evaluate_genome, calculate_prediction_distribution\n",
    "from neat.genome import Genome\n",
    "from neat.evolution_operators.backprop_mutation import BackPropMutation\n",
    "import os\n",
    "from neat.loss.vi_loss import get_loss\n",
    "import torch\n",
    "import pandas as pd\n",
    "\n",
    "from sklearn.metrics import confusion_matrix, accuracy_score, f1_score, roc_curve"
   ]
  },
  {
   "cell_type": "code",
   "execution_count": 16,
   "metadata": {},
   "outputs": [],
   "source": [
    "import matplotlib.pyplot as plt\n",
    "import seaborn as sns"
   ]
  },
  {
   "cell_type": "code",
   "execution_count": 23,
   "metadata": {},
   "outputs": [],
   "source": [
    "from neat.analysis.experiment_data import ExperimentData\n",
    "from neat.analysis.uncertainty.predictive_distribution import PredictionDistributionEstimator\n",
    "from neat.analysis.plotting.plot_losses import plot_loss_distribution\n",
    "from itertools import product\n",
    "import itertools\n",
    "from neat.gene import NodeGene, ConnectionGene\n",
    "from neat.genome import Genome\n",
    "from config_files.configuration_utils import create_configuration"
   ]
  },
  {
   "cell_type": "code",
   "execution_count": 18,
   "metadata": {},
   "outputs": [],
   "source": [
    "LOGS_PATH = f'{os.getcwd()}/'\n",
    "logger = get_neat_logger(path=LOGS_PATH)"
   ]
  },
  {
   "cell_type": "code",
   "execution_count": 19,
   "metadata": {},
   "outputs": [],
   "source": [
    "PROJECT = 'neuro-evolution'\n",
    "ALGORITHM_VERSION = 'bayes-neat'\n",
    "DATASET = 'mnist_downsampled'\n",
    "\n",
    "# correlation_ids = [f'neat_ft_1_{DATASET}', f'bayesian_neat_ft_1_{DATASET}']\n",
    "correlation_ids = ['tests']"
   ]
  },
  {
   "cell_type": "code",
   "execution_count": 20,
   "metadata": {},
   "outputs": [],
   "source": [
    "# from IPython.core.debugger import set_trace\n",
    "# set_trace()\n",
    "correlation_id = 'tests'\n",
    "execution_id = '0cae3bc0-0fb1-4278-b0c5-de286ef8c3ec'\n",
    "report_repository = ReportRepository.create(project=PROJECT, logs_path=LOGS_PATH)\n",
    "report = report_repository.get_report(algorithm_version=ALGORITHM_VERSION,\n",
    "                                                      dataset=DATASET,\n",
    "                                                      correlation_id=correlation_id,\n",
    "                                                      execution_id=execution_id)"
   ]
  },
  {
   "cell_type": "code",
   "execution_count": 21,
   "metadata": {},
   "outputs": [],
   "source": [
    "# report.data['generation_metrics'].keys()"
   ]
  },
  {
   "cell_type": "code",
   "execution_count": 22,
   "metadata": {},
   "outputs": [
    {
     "name": "stdout",
     "output_type": "stream",
     "text": [
      "Fitness of best individual: -143.32212829589844\n"
     ]
    }
   ],
   "source": [
    "genome_dict = report.data['best_individual']\n",
    "best_individual_fitness = report.data['best_individual_fitness']\n",
    "print(f'Fitness of best individual: {best_individual_fitness}')\n",
    "\n",
    "genome = Genome.from_dict(genome_dict)\n",
    "config = genome.genome_config\n",
    "set_configuration(config)"
   ]
  },
  {
   "cell_type": "code",
   "execution_count": 24,
   "metadata": {},
   "outputs": [],
   "source": [
    "def generate_genome_with_hidden_units(n_input, n_output, n_hidden=3):\n",
    "    # nodes\n",
    "    node_genes = {}\n",
    "    for i in range(n_output + n_hidden):\n",
    "        node_genes = add_node(node_genes, key=i)\n",
    "\n",
    "    # connections\n",
    "    # input to hidden\n",
    "    connection_genes = {}\n",
    "    input_hidden_tuples = list(product(list(range(-1, -n_input-1, -1)),\n",
    "                                       list(range(n_output, n_output+n_hidden))))\n",
    "    for tuple_ in input_hidden_tuples:\n",
    "        connection_genes = add_connection(connection_genes, key=tuple_)\n",
    "\n",
    "    # hidden to output\n",
    "    hidden_output_tuples = list(product(list(range(n_output, n_output + n_hidden)),\n",
    "                                        list(range(0, n_output))))\n",
    "    for tuple_ in hidden_output_tuples:\n",
    "        connection_genes = add_connection(connection_genes, key=tuple_)\n",
    "\n",
    "    # initialize genome\n",
    "    genome = Genome(key=1)\n",
    "    genome.node_genes = node_genes\n",
    "    genome.connection_genes = connection_genes\n",
    "    return genome\n",
    "\n",
    "\n",
    "\n",
    "def add_node(node_genes, key):\n",
    "    node_i = NodeGene(key=key)\n",
    "    node_i.random_initialization()\n",
    "    node_genes[key] = node_i\n",
    "    return node_genes\n",
    "\n",
    "\n",
    "def add_connection(connection_genes, key):\n",
    "    connection_i = ConnectionGene(key=key)\n",
    "    connection_i.random_initialization()\n",
    "    connection_genes[key] = connection_i\n",
    "    return connection_genes"
   ]
  },
  {
   "cell_type": "code",
   "execution_count": 25,
   "metadata": {},
   "outputs": [],
   "source": [
    "def test_implementation():\n",
    "    connections = [(1, 2), (2, 3), (3, 1)]\n",
    "    if not exist_cycle_numba(connections):\n",
    "        print(f'Error 1')\n",
    "    \n",
    "\n",
    "#     def test_exists_cycle_positive_b(self):\n",
    "    connections = [(1, 2), (2, 3), (1, 4), (4, 3), (3, 1)]\n",
    "    if not exist_cycle_numba(connections):\n",
    "        print(f'Error 2')\n",
    "#         self.assertEqual(True, exist_cycle_numba(connections))\n",
    "\n",
    "#     def test_exists_cycle_when_negative_a(self):\n",
    "    connections = [(1, 2), (2, 3), (3, 4)]\n",
    "    if exist_cycle_numba(connections):\n",
    "        print(f'Error 3')\n",
    "#         self.assertEqual(False, exist_cycle_numba(connections))\n",
    "\n",
    "#     def test_exists_cycle_when_negative_b(self):\n",
    "    connections = [(1, 2), (2, 3), (1, 4), (4, 3), (3, 5)]\n",
    "    if exist_cycle_numba(connections):\n",
    "        print(f'Error 4')\n",
    "#         self.assertEqual(False, exist_cycle_numba(connections))\n",
    "\n",
    "#     def test_exists_cycle_when_negative_c(self):\n",
    "    connections = [(-1, 1), (-1, 2), (-1, 3), (-2, 1), (-2, 2), (-2, 3), (1, 0), (2, 0), (3, 0), (1, 2)]\n",
    "    if exist_cycle_numba(connections):\n",
    "        print(f'Error 5')\n",
    "#         self.assertEqual(False, exist_cycle_numba(connections))\n",
    "\n",
    "#     def test_self_recursive(self):\n",
    "    connections = [(1, 1)]\n",
    "    if not exist_cycle_numba(connections):\n",
    "        print(f'Error 6')\n",
    "#         self.assertEqual(True, exist_cycle_numba(connections))\n",
    "\n",
    "#     def test_self_recursive_b(self):\n",
    "    connections = [(-1, 1), (-1, 2), (-1, 3), (-2, 1),  (-2, 2), (-2, 3), (1, 0), (2, 0), (3, 0), (2, 2)]\n",
    "    if not exist_cycle_numba(connections):\n",
    "        print(f'Error 7')\n",
    "#         self.assertEqual(True, exist_cycle_numba(connections))"
   ]
  },
  {
   "cell_type": "code",
   "execution_count": 28,
   "metadata": {},
   "outputs": [],
   "source": [
    "# @numba.jit(nopython=True)\n",
    "@numba.jit\n",
    "def _go_through_graph(node_in, graph, past=[]):\n",
    "    if node_in in graph.keys():\n",
    "        for node in graph[node_in]:\n",
    "            if node in past:\n",
    "                return True\n",
    "            else:\n",
    "                past_copy = copy.deepcopy(past)\n",
    "                past_copy.append(node_in)\n",
    "                if _go_through_graph(node_in=node, graph=graph, past=past_copy):\n",
    "                    return True\n",
    "    else:\n",
    "        return False\n",
    "        \n",
    "\n",
    "def exist_cycle_numba(connections: list) -> bool:\n",
    "    # change data structure\n",
    "    con = _get_connections_per_node(connections)\n",
    "#     print(con)\n",
    "    for node_in, nodes_out in con.items():\n",
    "        if _go_through_graph(node_in, graph=con, past=[]):\n",
    "            return True\n",
    "    return False\n",
    "\n",
    "\n",
    "def _get_connections_per_node(connections: list, inverse_order=False):\n",
    "    '''\n",
    "    :param connections: eg. ((-1, 1), (1, 2), (2, 3), (2, 4))\n",
    "    :param inverse_order: whether it follows the input to output direction or the output to input direction\n",
    "    :return: {-1: [1], 1: [2], 2: [3, 4]\n",
    "    '''\n",
    "    con = {}\n",
    "    for connection in connections:\n",
    "        input_node_key, output_node_key = connection\n",
    "        if inverse_order:\n",
    "            output_node_key, input_node_key = connection\n",
    "        if input_node_key in con:\n",
    "            con[input_node_key].append(output_node_key)\n",
    "        else:\n",
    "            con[input_node_key] = [output_node_key]\n",
    "    return con"
   ]
  },
  {
   "cell_type": "code",
   "execution_count": 29,
   "metadata": {},
   "outputs": [
    {
     "name": "stderr",
     "output_type": "stream",
     "text": [
      "<ipython-input-28-6985f868a596>:2: NumbaWarning: \n",
      "Compilation is falling back to object mode WITH looplifting enabled because Function \"_go_through_graph\" failed type inference due to: non-precise type pyobject\n",
      "[1] During: typing of argument at <ipython-input-28-6985f868a596> (4)\n",
      "\n",
      "File \"<ipython-input-28-6985f868a596>\", line 4:\n",
      "def _go_through_graph(node_in, graph, past=[]):\n",
      "    if node_in in graph.keys():\n",
      "    ^\n",
      "\n",
      "  @numba.jit\n",
      "/opt/conda/lib/python3.7/site-packages/numba/compiler.py:742: NumbaWarning: Function \"_go_through_graph\" was compiled in object mode without forceobj=True.\n",
      "\n",
      "File \"<ipython-input-28-6985f868a596>\", line 3:\n",
      "@numba.jit\n",
      "def _go_through_graph(node_in, graph, past=[]):\n",
      "^\n",
      "\n",
      "  self.func_ir.loc))\n",
      "/opt/conda/lib/python3.7/site-packages/numba/compiler.py:751: NumbaDeprecationWarning: \n",
      "Fall-back from the nopython compilation path to the object mode compilation path has been detected, this is deprecated behaviour.\n",
      "\n",
      "For more information visit http://numba.pydata.org/numba-doc/latest/reference/deprecation.html#deprecation-of-object-mode-fall-back-behaviour-when-using-jit\n",
      "\n",
      "File \"<ipython-input-28-6985f868a596>\", line 3:\n",
      "@numba.jit\n",
      "def _go_through_graph(node_in, graph, past=[]):\n",
      "^\n",
      "\n",
      "  warnings.warn(errors.NumbaDeprecationWarning(msg, self.func_ir.loc))\n",
      "<ipython-input-28-6985f868a596>:2: NumbaWarning: \n",
      "Compilation is falling back to object mode WITH looplifting enabled because Function \"_go_through_graph\" failed type inference due to: non-precise type pyobject\n",
      "[1] During: typing of argument at <ipython-input-28-6985f868a596> (4)\n",
      "\n",
      "File \"<ipython-input-28-6985f868a596>\", line 4:\n",
      "def _go_through_graph(node_in, graph, past=[]):\n",
      "    if node_in in graph.keys():\n",
      "    ^\n",
      "\n",
      "  @numba.jit\n"
     ]
    },
    {
     "name": "stdout",
     "output_type": "stream",
     "text": [
      "1.57 ms ± 91 µs per loop (mean ± std. dev. of 7 runs, 1 loop each)\n"
     ]
    },
    {
     "name": "stderr",
     "output_type": "stream",
     "text": [
      "/opt/conda/lib/python3.7/site-packages/numba/compiler.py:742: NumbaWarning: Function \"_go_through_graph\" was compiled in object mode without forceobj=True.\n",
      "\n",
      "File \"<ipython-input-28-6985f868a596>\", line 3:\n",
      "@numba.jit\n",
      "def _go_through_graph(node_in, graph, past=[]):\n",
      "^\n",
      "\n",
      "  self.func_ir.loc))\n",
      "/opt/conda/lib/python3.7/site-packages/numba/compiler.py:751: NumbaDeprecationWarning: \n",
      "Fall-back from the nopython compilation path to the object mode compilation path has been detected, this is deprecated behaviour.\n",
      "\n",
      "For more information visit http://numba.pydata.org/numba-doc/latest/reference/deprecation.html#deprecation-of-object-mode-fall-back-behaviour-when-using-jit\n",
      "\n",
      "File \"<ipython-input-28-6985f868a596>\", line 3:\n",
      "@numba.jit\n",
      "def _go_through_graph(node_in, graph, past=[]):\n",
      "^\n",
      "\n",
      "  warnings.warn(errors.NumbaDeprecationWarning(msg, self.func_ir.loc))\n"
     ]
    }
   ],
   "source": [
    "%timeit test_implementation()"
   ]
  },
  {
   "cell_type": "code",
   "execution_count": 16,
   "metadata": {},
   "outputs": [],
   "source": [
    "def _remove_connection_that_introduces_cycles(genome: Genome, possible_connection_set: set) -> set:\n",
    "    connections_to_remove = []\n",
    "    for connection in possible_connection_set:\n",
    "        connections = list(genome.connection_genes.keys()) + [connection]\n",
    "\n",
    "        if exist_cycle_numba(connections=connections):\n",
    "            connections_to_remove.append(connection)\n",
    "#     logger.debug(f'connections that introduce cycles: {connections_to_remove}')\n",
    "    possible_connection_set -= set(connections_to_remove)\n",
    "    return possible_connection_set"
   ]
  },
  {
   "cell_type": "code",
   "execution_count": 12,
   "metadata": {},
   "outputs": [
    {
     "ename": "NameError",
     "evalue": "name 'itertools' is not defined",
     "output_type": "error",
     "traceback": [
      "\u001b[0;31m---------------------------------------------------------------------------\u001b[0m",
      "\u001b[0;31mNameError\u001b[0m                                 Traceback (most recent call last)",
      "\u001b[0;32m<ipython-input-12-e38776c28d3e>\u001b[0m in \u001b[0;36m<module>\u001b[0;34m\u001b[0m\n\u001b[1;32m     15\u001b[0m \u001b[0;34m\u001b[0m\u001b[0m\n\u001b[1;32m     16\u001b[0m \u001b[0;31m# REMOVE POSSIBLE CONNECTIONS\u001b[0m\u001b[0;34m\u001b[0m\u001b[0;34m\u001b[0m\u001b[0;34m\u001b[0m\u001b[0m\n\u001b[0;32m---> 17\u001b[0;31m \u001b[0mpossible_connection_set\u001b[0m \u001b[0;34m=\u001b[0m \u001b[0mset\u001b[0m\u001b[0;34m(\u001b[0m\u001b[0mitertools\u001b[0m\u001b[0;34m.\u001b[0m\u001b[0mproduct\u001b[0m\u001b[0;34m(\u001b[0m\u001b[0mlist\u001b[0m\u001b[0;34m(\u001b[0m\u001b[0mpossible_input_keys_set\u001b[0m\u001b[0;34m)\u001b[0m\u001b[0;34m,\u001b[0m \u001b[0;34m[\u001b[0m\u001b[0mout_node_key\u001b[0m\u001b[0;34m]\u001b[0m\u001b[0;34m)\u001b[0m\u001b[0;34m)\u001b[0m\u001b[0;34m\u001b[0m\u001b[0;34m\u001b[0m\u001b[0m\n\u001b[0m\u001b[1;32m     18\u001b[0m \u001b[0;34m\u001b[0m\u001b[0m\n\u001b[1;32m     19\u001b[0m \u001b[0;31m# remove already existing connections: don't duplicate connections\u001b[0m\u001b[0;34m\u001b[0m\u001b[0;34m\u001b[0m\u001b[0;34m\u001b[0m\u001b[0m\n",
      "\u001b[0;31mNameError\u001b[0m: name 'itertools' is not defined"
     ]
    }
   ],
   "source": [
    "# config = create_configuration(filename='/regression-miso.json')\n",
    "# genome = generate_genome_with_hidden_units(n_input=5, n_output=10, n_hidden=100)\n",
    "out_node_key = 5\n",
    "\n",
    "# all nodes\n",
    "possible_input_keys_set = set(genome.node_genes.keys()).union(set(genome.get_input_nodes_keys()))\n",
    "\n",
    "# no connection between two output nodes\n",
    "possible_input_keys_set -= set(genome.get_output_nodes_keys())\n",
    "\n",
    "if config.feed_forward:\n",
    "    # avoid self-recurrency\n",
    "    possible_input_keys_set -= {out_node_key}\n",
    "    # pass\n",
    "\n",
    "# REMOVE POSSIBLE CONNECTIONS\n",
    "possible_connection_set = set(itertools.product(list(possible_input_keys_set), [out_node_key]))\n",
    "\n",
    "# remove already existing connections: don't duplicate connections\n",
    "possible_connection_set -= set(genome.connection_genes.keys())"
   ]
  },
  {
   "cell_type": "code",
   "execution_count": 19,
   "metadata": {},
   "outputs": [
    {
     "name": "stdout",
     "output_type": "stream",
     "text": [
      "172 ms ± 1.05 ms per loop (mean ± std. dev. of 7 runs, 10 loops each)\n"
     ]
    }
   ],
   "source": [
    "%timeit _remove_connection_that_introduces_cycles(genome, possible_connection_set)"
   ]
  },
  {
   "cell_type": "code",
   "execution_count": null,
   "metadata": {},
   "outputs": [],
   "source": []
  }
 ],
 "metadata": {
  "kernelspec": {
   "display_name": "Python 3",
   "language": "python",
   "name": "python3"
  },
  "language_info": {
   "codemirror_mode": {
    "name": "ipython",
    "version": 3
   },
   "file_extension": ".py",
   "mimetype": "text/x-python",
   "name": "python",
   "nbconvert_exporter": "python",
   "pygments_lexer": "ipython3",
   "version": "3.7.6"
  }
 },
 "nbformat": 4,
 "nbformat_minor": 4
}
