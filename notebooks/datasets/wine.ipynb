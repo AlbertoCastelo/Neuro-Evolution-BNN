{
 "cells": [
  {
   "cell_type": "code",
   "execution_count": 1,
   "metadata": {},
   "outputs": [],
   "source": [
    "import os"
   ]
  },
  {
   "cell_type": "code",
   "execution_count": 2,
   "metadata": {},
   "outputs": [
    {
     "name": "stdout",
     "output_type": "stream",
     "text": [
      "/home/jovyan/notebooks/datasets\n"
     ]
    }
   ],
   "source": [
    "!pwd"
   ]
  },
  {
   "cell_type": "code",
   "execution_count": 3,
   "metadata": {},
   "outputs": [],
   "source": [
    "import sys\n",
    "sys.path.append('/home/jovyan/')"
   ]
  },
  {
   "cell_type": "code",
   "execution_count": 7,
   "metadata": {},
   "outputs": [],
   "source": [
    "from experiments.reporting.report_repository import ReportRepository\n",
    "from experiments.slack_client import SlackNotifier\n",
    "from neat.neat_logger import get_neat_logger\n",
    "from neat.population_engine import EvolutionEngine\n",
    "from neat.reporting.reports_pyneat import EvolutionReport\n",
    "from neat.utils import timeit\n",
    "import math\n",
    "import random\n",
    "from itertools import count\n",
    "import numpy as np\n",
    "\n",
    "from experiments.logger import logger\n",
    "from experiments.slack_client import Notifier\n",
    "from experiments.object_repository.object_repository import ObjectRepository\n",
    "from experiments.reporting.report_repository import ReportPathFactory\n",
    "from neat.configuration import get_configuration\n",
    "from neat.evaluation.evaluation_engine import EvaluationStochasticEngine\n",
    "from neat.evolution_operators.crossover import Crossover\n",
    "from neat.evolution_operators.mutation import Mutation\n",
    "from neat.genome import Genome\n",
    "from neat.reporting.reports_pyneat import EvolutionReport\n",
    "from neat.species import SpeciationEngine\n",
    "from neat.stagnation import Stagnation\n",
    "from neat.population_engine import PopulationEngine\n",
    "from neat.utils import timeit\n",
    "import neat\n",
    "import tests\n",
    "from config_files.configuration_utils import create_configuration\n",
    "from neat.configuration import get_configuration, set_configuration\n",
    "from neat.evaluation.evaluation_engine import get_dataset\n",
    "from neat.evaluation.evaluate_simple import evaluate_genome, calculate_prediction_distribution\n",
    "from neat.genome import Genome\n",
    "from neat.evolution_operators.backprop_mutation import BackPropMutation\n",
    "import os\n",
    "from neat.loss.vi_loss import get_loss\n",
    "import torch\n",
    "import pandas as pd\n",
    "\n",
    "from sklearn.metrics import confusion_matrix, accuracy_score, f1_score, roc_curve\n",
    "from sklearn.datasets import load_wine"
   ]
  },
  {
   "cell_type": "code",
   "execution_count": 10,
   "metadata": {},
   "outputs": [],
   "source": [
    "x, y = load_wine(return_X_y=True)"
   ]
  },
  {
   "cell_type": "code",
   "execution_count": 12,
   "metadata": {},
   "outputs": [
    {
     "data": {
      "text/plain": [
       "((178, 13), (178,))"
      ]
     },
     "execution_count": 12,
     "metadata": {},
     "output_type": "execute_result"
    }
   ],
   "source": [
    "x.shape, y.shape"
   ]
  },
  {
   "cell_type": "code",
   "execution_count": null,
   "metadata": {},
   "outputs": [],
   "source": []
  }
 ],
 "metadata": {
  "kernelspec": {
   "display_name": "Python 3",
   "language": "python",
   "name": "python3"
  },
  "language_info": {
   "codemirror_mode": {
    "name": "ipython",
    "version": 3
   },
   "file_extension": ".py",
   "mimetype": "text/x-python",
   "name": "python",
   "nbconvert_exporter": "python",
   "pygments_lexer": "ipython3",
   "version": "3.7.6"
  }
 },
 "nbformat": 4,
 "nbformat_minor": 4
}
